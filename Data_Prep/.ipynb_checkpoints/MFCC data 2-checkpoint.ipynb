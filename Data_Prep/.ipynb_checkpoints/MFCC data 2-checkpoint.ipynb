{
 "cells": [
  {
   "cell_type": "code",
   "execution_count": 165,
   "metadata": {},
   "outputs": [],
   "source": [
    "import pandas as pd\n",
    "import numpy as np\n",
    "import seaborn as sns\n",
    "import matplotlib.pyplot as plt\n",
    "import os\n",
    "import librosa\n",
    "import librosa.display\n",
    "from librosa.display import waveplot\n",
    "from librosa.core import get_duration\n",
    "import struct\n",
    "from random import randint"
   ]
  },
  {
   "cell_type": "markdown",
   "metadata": {},
   "source": [
    "# Data Processing"
   ]
  },
  {
   "cell_type": "markdown",
   "metadata": {},
   "source": [
    "# 1) Load the audio data into a pandas dataframe"
   ]
  },
  {
   "cell_type": "code",
   "execution_count": 227,
   "metadata": {},
   "outputs": [],
   "source": [
    "class WavFileHelper():\n",
    "    \n",
    "    def read_file_properties(self, filename):\n",
    "\n",
    "        wave_file = open(filename,\"rb\")\n",
    "        \n",
    "        riff = wave_file.read(12)\n",
    "        fmt = wave_file.read(36)\n",
    "        \n",
    "        \n",
    "        num_channels_string = fmt[10:12]\n",
    "        num_channels = struct.unpack('<H', num_channels_string)[0]\n",
    "        #print(f\"{filename} has {num_channels} channels \\n\")\n",
    "\n",
    "        sample_rate_string = fmt[12:16]\n",
    "        sample_rate = struct.unpack(\"<I\",sample_rate_string)[0]\n",
    "        #print(f\"{filename} has a sample rate of{sample_rate} \\n\")\n",
    "        \n",
    "        bit_depth_string = fmt[22:24]\n",
    "        bit_depth = struct.unpack(\"<H\",bit_depth_string)[0]\n",
    "        #print(f\"{filename} has a bit depth of{bit_depth} \\n\")\n",
    "        \n",
    "        wave_file.close()\n",
    "        data, sr = librosa.load(filename)\n",
    "        duration = round(get_duration(data, sr = sr), 2)\n",
    "        return (os.path.basename(filename), duration, num_channels, sample_rate, bit_depth, filename)\n",
    "\n",
    "# loop through each sample and get the audio properties for it then add it to a dataframe\n",
    "def create_dataframe(datapath):\n",
    "    data = []\n",
    "    label = []\n",
    "    # for each folder in the datapath\n",
    "    for category in os.listdir(datapath):\n",
    "        # create a path for each category\n",
    "        path = os.path.join(datapath,category)\n",
    "        #print(os.path.basename(path))\n",
    "        with os.scandir(path) as files:\n",
    "            # loop through all files in each category\n",
    "            for file in files:\n",
    "                filename = os.path.join(path,file)\n",
    "                try:\n",
    "                    properties = wfh.read_file_properties(filename)\n",
    "                except:\n",
    "                    print(f\"Error reading {os.path.basename(filename)} so it will be deleted\")\n",
    "                    os.remove(filename)\n",
    "                    continue\n",
    "                    \n",
    "                data.append(properties)\n",
    "                label.append(category)\n",
    "    \n",
    "    df = pd.DataFrame(data, columns = ['Filename','Duration','Channels','Sample_rate','Bit_depth','path'])\n",
    "    df['class'] = label\n",
    "    cols = df.columns.tolist()\n",
    "    cols = cols[-1:] + cols[:-1]\n",
    "    df = df[cols]\n",
    "    return df\n",
    "                \n",
    "                \n",
    "        \n",
    "        \n"
   ]
  },
  {
   "cell_type": "code",
   "execution_count": 228,
   "metadata": {},
   "outputs": [],
   "source": [
    "wfh = WavFileHelper()\n",
    "DATAPATH = r\"E:\\Documents\\My Projects\\Filtr\\Data\\Audio\""
   ]
  },
  {
   "cell_type": "code",
   "execution_count": 229,
   "metadata": {
    "scrolled": true
   },
   "outputs": [
    {
     "name": "stdout",
     "output_type": "stream",
     "text": [
      "Error reading sampleDK3117.wav\n",
      "Error reading sampleDK3118.wav\n",
      "Error reading sampleDK3119.wav\n",
      "Error reading sampleDK3120.wav\n",
      "Error reading sampleDK3121.wav\n",
      "Error reading sampleDK3122.wav\n",
      "Error reading sampleDK3123.wav\n",
      "Error reading sampleDK3124.wav\n",
      "Error reading sampleDK3125.wav\n",
      "Error reading sampleDK3126.wav\n",
      "Error reading sampleDK3127.wav\n",
      "Error reading sampleDK3128.wav\n",
      "Error reading sampleDK3129.wav\n",
      "Error reading sampleDK3130.wav\n",
      "Error reading sampleDK3131.wav\n",
      "Error reading sampleDK3132.wav\n",
      "Error reading sampleDK3133.wav\n",
      "Error reading sampleDK3134.wav\n",
      "Error reading sampleDK3135.wav\n",
      "Error reading sampleDK3136.wav\n",
      "Error reading sampleDK3137.wav\n",
      "Error reading sampleDK3138.wav\n",
      "Error reading sampleDK3139.wav\n",
      "Error reading sampleDK3140.wav\n",
      "Error reading sampleDK3141.wav\n",
      "Error reading sampleDK3142.wav\n",
      "Error reading sampleDK3143.wav\n",
      "Error reading sampleDK3144.wav\n",
      "Error reading sampleDK3145.wav\n",
      "Error reading sampleDK3146.wav\n",
      "Error reading 4LX Snare 8.wav\n",
      "Error reading sampleDS4865.wav\n",
      "Error reading sampleDS4866.wav\n",
      "Error reading sampleDS5015.wav\n",
      "Error reading sampleDS5207.wav\n",
      "Error reading sampleDS5215.wav\n",
      "Error reading sampleDS5251.wav\n",
      "Error reading sampleDS5390.wav\n",
      "Error reading sampleDS5391.wav\n",
      "Error reading sampleDS5392.wav\n",
      "Error reading sampleDS5393.wav\n",
      "Error reading sampleDS5394.wav\n",
      "Error reading sampleDS5395.wav\n",
      "Error reading sampleDS5396.wav\n",
      "Error reading sampleDS5397.wav\n",
      "Error reading sampleDS5398.wav\n",
      "Error reading sampleDS5399.wav\n",
      "Error reading sampleDS5400.wav\n",
      "Error reading sampleDS5401.wav\n",
      "Error reading sampleDS5402.wav\n",
      "Error reading sampleDS5403.wav\n",
      "Error reading sampleDS5404.wav\n",
      "Error reading sampleDS5405.wav\n",
      "Error reading sampleDS5406.wav\n",
      "Error reading sampleDS5407.wav\n",
      "Error reading sampleDS5408.wav\n",
      "Error reading sampleDS5409.wav\n",
      "Error reading sampleDS5410.wav\n",
      "Error reading sampleDS5411.wav\n",
      "Error reading sampleDS5412.wav\n",
      "Error reading sampleDS5413.wav\n",
      "Error reading sampleDS5414.wav\n",
      "Error reading sampleDS5415.wav\n",
      "Error reading sampleDS5416.wav\n",
      "Error reading sampleDS5417.wav\n",
      "Error reading sampleDS5418.wav\n",
      "Error reading sampleDS5419.wav\n",
      "Error reading sampleDS5420.wav\n",
      "Error reading sampleDS5421.wav\n",
      "Error reading sampleDS5422.wav\n",
      "Error reading sampleDS5423.wav\n"
     ]
    }
   ],
   "source": [
    "%%time\n",
    "df = create_dataframe(DATAPATH)"
   ]
  },
  {
   "cell_type": "code",
   "execution_count": 230,
   "metadata": {},
   "outputs": [
    {
     "data": {
      "text/html": [
       "<div>\n",
       "<style scoped>\n",
       "    .dataframe tbody tr th:only-of-type {\n",
       "        vertical-align: middle;\n",
       "    }\n",
       "\n",
       "    .dataframe tbody tr th {\n",
       "        vertical-align: top;\n",
       "    }\n",
       "\n",
       "    .dataframe thead th {\n",
       "        text-align: right;\n",
       "    }\n",
       "</style>\n",
       "<table border=\"1\" class=\"dataframe\">\n",
       "  <thead>\n",
       "    <tr style=\"text-align: right;\">\n",
       "      <th></th>\n",
       "      <th>class</th>\n",
       "      <th>Filename</th>\n",
       "      <th>Duration</th>\n",
       "      <th>Channels</th>\n",
       "      <th>Sample_rate</th>\n",
       "      <th>Bit_depth</th>\n",
       "      <th>path</th>\n",
       "    </tr>\n",
       "  </thead>\n",
       "  <tbody>\n",
       "    <tr>\n",
       "      <th>0</th>\n",
       "      <td>Kick</td>\n",
       "      <td>sampleDK0.wav</td>\n",
       "      <td>0.64</td>\n",
       "      <td>2</td>\n",
       "      <td>44100</td>\n",
       "      <td>24</td>\n",
       "      <td>E:\\Documents\\My Projects\\Filtr\\Data\\Audio\\Kick...</td>\n",
       "    </tr>\n",
       "    <tr>\n",
       "      <th>1</th>\n",
       "      <td>Kick</td>\n",
       "      <td>sampleDK1.wav</td>\n",
       "      <td>0.41</td>\n",
       "      <td>2</td>\n",
       "      <td>44100</td>\n",
       "      <td>24</td>\n",
       "      <td>E:\\Documents\\My Projects\\Filtr\\Data\\Audio\\Kick...</td>\n",
       "    </tr>\n",
       "    <tr>\n",
       "      <th>2</th>\n",
       "      <td>Kick</td>\n",
       "      <td>sampleDK10.wav</td>\n",
       "      <td>0.75</td>\n",
       "      <td>2</td>\n",
       "      <td>44100</td>\n",
       "      <td>24</td>\n",
       "      <td>E:\\Documents\\My Projects\\Filtr\\Data\\Audio\\Kick...</td>\n",
       "    </tr>\n",
       "    <tr>\n",
       "      <th>3</th>\n",
       "      <td>Kick</td>\n",
       "      <td>sampleDK100.wav</td>\n",
       "      <td>0.75</td>\n",
       "      <td>2</td>\n",
       "      <td>44100</td>\n",
       "      <td>24</td>\n",
       "      <td>E:\\Documents\\My Projects\\Filtr\\Data\\Audio\\Kick...</td>\n",
       "    </tr>\n",
       "    <tr>\n",
       "      <th>4</th>\n",
       "      <td>Kick</td>\n",
       "      <td>sampleDK1000.wav</td>\n",
       "      <td>0.43</td>\n",
       "      <td>2</td>\n",
       "      <td>44100</td>\n",
       "      <td>16</td>\n",
       "      <td>E:\\Documents\\My Projects\\Filtr\\Data\\Audio\\Kick...</td>\n",
       "    </tr>\n",
       "  </tbody>\n",
       "</table>\n",
       "</div>"
      ],
      "text/plain": [
       "  class          Filename  Duration  Channels  Sample_rate  Bit_depth  \\\n",
       "0  Kick     sampleDK0.wav      0.64         2        44100         24   \n",
       "1  Kick     sampleDK1.wav      0.41         2        44100         24   \n",
       "2  Kick    sampleDK10.wav      0.75         2        44100         24   \n",
       "3  Kick   sampleDK100.wav      0.75         2        44100         24   \n",
       "4  Kick  sampleDK1000.wav      0.43         2        44100         16   \n",
       "\n",
       "                                                path  \n",
       "0  E:\\Documents\\My Projects\\Filtr\\Data\\Audio\\Kick...  \n",
       "1  E:\\Documents\\My Projects\\Filtr\\Data\\Audio\\Kick...  \n",
       "2  E:\\Documents\\My Projects\\Filtr\\Data\\Audio\\Kick...  \n",
       "3  E:\\Documents\\My Projects\\Filtr\\Data\\Audio\\Kick...  \n",
       "4  E:\\Documents\\My Projects\\Filtr\\Data\\Audio\\Kick...  "
      ]
     },
     "execution_count": 230,
     "metadata": {},
     "output_type": "execute_result"
    }
   ],
   "source": [
    "df.head()"
   ]
  },
  {
   "cell_type": "code",
   "execution_count": 231,
   "metadata": {},
   "outputs": [
    {
     "data": {
      "text/plain": [
       "24    52.184666\n",
       "16    23.719232\n",
       "32    13.425980\n",
       "0     10.658344\n",
       "8      0.011777\n",
       "Name: Bit_depth, dtype: float64"
      ]
     },
     "execution_count": 231,
     "metadata": {},
     "output_type": "execute_result"
    }
   ],
   "source": [
    "df['Bit_depth'].value_counts(normalize = True) * 100"
   ]
  },
  {
   "cell_type": "code",
   "execution_count": 232,
   "metadata": {},
   "outputs": [
    {
     "data": {
      "text/plain": [
       "2        86.833117\n",
       "0         6.866094\n",
       "1         4.710870\n",
       "3         0.718408\n",
       "4         0.494641\n",
       "6         0.082440\n",
       "29281     0.047109\n",
       "7         0.047109\n",
       "5         0.047109\n",
       "28262     0.035332\n",
       "29560     0.023554\n",
       "21618     0.023554\n",
       "25975     0.011777\n",
       "24930     0.011777\n",
       "26987     0.011777\n",
       "26980     0.011777\n",
       "8         0.011777\n",
       "28530     0.011777\n",
       "Name: Channels, dtype: float64"
      ]
     },
     "execution_count": 232,
     "metadata": {},
     "output_type": "execute_result"
    }
   ],
   "source": [
    "df['Channels'].value_counts(normalize = True) * 100"
   ]
  },
  {
   "cell_type": "code",
   "execution_count": 233,
   "metadata": {},
   "outputs": [
    {
     "data": {
      "text/plain": [
       "44100         84.265693\n",
       "0             10.469909\n",
       "48000          4.298669\n",
       "32000          0.459310\n",
       "96000          0.188435\n",
       "192000         0.070663\n",
       "101            0.047109\n",
       "846360179      0.023554\n",
       "1751208736     0.011777\n",
       "825389678      0.011777\n",
       "863137395      0.011777\n",
       "892432481      0.011777\n",
       "1885426802     0.011777\n",
       "22050          0.011777\n",
       "25971          0.011777\n",
       "37800          0.011777\n",
       "1597186159     0.011777\n",
       "88200          0.011777\n",
       "14443          0.011777\n",
       "28000          0.011777\n",
       "875721326      0.011777\n",
       "925986913      0.011777\n",
       "24000          0.011777\n",
       "Name: Sample_rate, dtype: float64"
      ]
     },
     "execution_count": 233,
     "metadata": {},
     "output_type": "execute_result"
    }
   ],
   "source": [
    "df['Sample_rate'].value_counts(normalize = True) * 100"
   ]
  },
  {
   "cell_type": "code",
   "execution_count": 234,
   "metadata": {},
   "outputs": [],
   "source": [
    "def plot_sample(index):\n",
    "    file = df['path'].loc[index]\n",
    "    data, sr = librosa.load(file)\n",
    "    print(df['class'].loc[index])\n",
    "    waveplot(data)"
   ]
  },
  {
   "cell_type": "code",
   "execution_count": 240,
   "metadata": {},
   "outputs": [
    {
     "data": {
      "text/plain": [
       "count    8491.000000\n",
       "mean        0.718105\n",
       "std         1.702385\n",
       "min         0.010000\n",
       "25%         0.290000\n",
       "50%         0.500000\n",
       "75%         0.880000\n",
       "max        63.430000\n",
       "Name: Duration, dtype: float64"
      ]
     },
     "execution_count": 240,
     "metadata": {},
     "output_type": "execute_result"
    }
   ],
   "source": [
    "df['Duration'].describe()"
   ]
  },
  {
   "cell_type": "code",
   "execution_count": null,
   "metadata": {},
   "outputs": [],
   "source": []
  },
  {
   "cell_type": "code",
   "execution_count": null,
   "metadata": {},
   "outputs": [],
   "source": []
  },
  {
   "cell_type": "markdown",
   "metadata": {},
   "source": [
    "# 2) Create a Dataframe with the MFCC data and labels"
   ]
  },
  {
   "cell_type": "code",
   "execution_count": 245,
   "metadata": {},
   "outputs": [],
   "source": [
    "def normalize(data):\n",
    "    return data / data.max()\n",
    "\n",
    "def extract(file, pad = False):\n",
    "    max_pad_len = 174\n",
    "    try:\n",
    "        data, sr = librosa.load(file)\n",
    "        mfccs = librosa.feature.mfcc(data, sr = sr, n_mfcc = 25)\n",
    "        if pad:\n",
    "            # ensure that all files are the of fixed size\n",
    "            pad_width = max_pad_len - mfccs.shape[1]\n",
    "            mfccs = np.pad(mfccs, pad_width=((0, 0), (0, pad_width)), mode='constant')\n",
    "        else:\n",
    "            mfccs = librosa.util.normalize(np.mean(mfccs.T, axis = 0))\n",
    "        \n",
    "        \n",
    "        \n",
    "    except exception as e:\n",
    "        print(f\"An error occured when trying to load {os.path.basename(file)} {e}\")\n",
    "        return None\n",
    "    \n",
    "    return mfccs"
   ]
  },
  {
   "cell_type": "code",
   "execution_count": 265,
   "metadata": {},
   "outputs": [
    {
     "name": "stdout",
     "output_type": "stream",
     "text": [
      "Snare\n"
     ]
    },
    {
     "data": {
      "image/png": "[encoded data removed]",
      "text/plain": [
       "<Figure size 432x288 with 1 Axes>"
      ]
     },
     "metadata": {
      "needs_background": "light"
     },
     "output_type": "display_data"
    }
   ],
   "source": [
    "plot_sample(randint(0,8000))"
   ]
  },
  {
   "cell_type": "code",
   "execution_count": 266,
   "metadata": {},
   "outputs": [],
   "source": [
    "x = extract(r\"E:\\\\Documents\\\\My Projects\\\\Filtr\\\\Data\\\\Reduced_dataset\\\\Kick\\\\sampleDK2542.wav\")"
   ]
  },
  {
   "cell_type": "code",
   "execution_count": 267,
   "metadata": {},
   "outputs": [
    {
     "data": {
      "text/plain": [
       "(25,)"
      ]
     },
     "execution_count": 267,
     "metadata": {},
     "output_type": "execute_result"
    }
   ],
   "source": [
    "x.shape"
   ]
  },
  {
   "cell_type": "code",
   "execution_count": 268,
   "metadata": {},
   "outputs": [],
   "source": [
    "def mfcc_data(df, pad = False):\n",
    "    '''\n",
    "    Uses the dataframe that has the audio properties to create a new dataframe with the label\n",
    "    and MFCC data.    \n",
    "    '''\n",
    "    features = []\n",
    "    for row, index in df.iterrows():\n",
    "        #print(index['class'],index['path'])\n",
    "        # get the class label\n",
    "        class_label = index['class']\n",
    "        # extract mfcc data\n",
    "        MFCC = extract(index['path'], pad)\n",
    "        features.append([class_label,MFCC])\n",
    "    \n",
    "    mfcc_df = pd.DataFrame(features, columns = ['label','data'])\n",
    "    print(f\"Successful feature extraction from {len(mfcc_df)} files\")\n",
    "    return mfcc_df    "
   ]
  },
  {
   "cell_type": "code",
   "execution_count": 269,
   "metadata": {},
   "outputs": [
    {
     "name": "stdout",
     "output_type": "stream",
     "text": [
      "Successful feature extraction from 8491 files\n"
     ]
    }
   ],
   "source": [
    "%%time\n",
    "xdf = mfcc_data(df)"
   ]
  },
  {
   "cell_type": "code",
   "execution_count": 270,
   "metadata": {},
   "outputs": [
    {
     "data": {
      "text/html": [
       "<div>\n",
       "<style scoped>\n",
       "    .dataframe tbody tr th:only-of-type {\n",
       "        vertical-align: middle;\n",
       "    }\n",
       "\n",
       "    .dataframe tbody tr th {\n",
       "        vertical-align: top;\n",
       "    }\n",
       "\n",
       "    .dataframe thead th {\n",
       "        text-align: right;\n",
       "    }\n",
       "</style>\n",
       "<table border=\"1\" class=\"dataframe\">\n",
       "  <thead>\n",
       "    <tr style=\"text-align: right;\">\n",
       "      <th></th>\n",
       "      <th>label</th>\n",
       "      <th>data</th>\n",
       "    </tr>\n",
       "  </thead>\n",
       "  <tbody>\n",
       "    <tr>\n",
       "      <th>0</th>\n",
       "      <td>Kick</td>\n",
       "      <td>[-1.0, 0.1491615, 0.096866556, 0.07592922, 0.0...</td>\n",
       "    </tr>\n",
       "    <tr>\n",
       "      <th>1</th>\n",
       "      <td>Kick</td>\n",
       "      <td>[-1.0, 0.3772023, 0.12532657, 0.101197675, 0.0...</td>\n",
       "    </tr>\n",
       "    <tr>\n",
       "      <th>2</th>\n",
       "      <td>Kick</td>\n",
       "      <td>[-1.0, 0.04241084, 0.025367683, 0.020192847, 0...</td>\n",
       "    </tr>\n",
       "    <tr>\n",
       "      <th>3</th>\n",
       "      <td>Kick</td>\n",
       "      <td>[-1.0, 0.07537976, 0.05496532, 0.052986834, 0....</td>\n",
       "    </tr>\n",
       "    <tr>\n",
       "      <th>4</th>\n",
       "      <td>Kick</td>\n",
       "      <td>[-1.0, 0.13180892, 0.084020935, 0.057094738, 0...</td>\n",
       "    </tr>\n",
       "  </tbody>\n",
       "</table>\n",
       "</div>"
      ],
      "text/plain": [
       "  label                                               data\n",
       "0  Kick  [-1.0, 0.1491615, 0.096866556, 0.07592922, 0.0...\n",
       "1  Kick  [-1.0, 0.3772023, 0.12532657, 0.101197675, 0.0...\n",
       "2  Kick  [-1.0, 0.04241084, 0.025367683, 0.020192847, 0...\n",
       "3  Kick  [-1.0, 0.07537976, 0.05496532, 0.052986834, 0....\n",
       "4  Kick  [-1.0, 0.13180892, 0.084020935, 0.057094738, 0..."
      ]
     },
     "execution_count": 270,
     "metadata": {},
     "output_type": "execute_result"
    }
   ],
   "source": [
    "xdf.head()"
   ]
  },
  {
   "cell_type": "code",
   "execution_count": 271,
   "metadata": {},
   "outputs": [],
   "source": [
    "xdf.to_pickle(\"E:\\Documents\\My Projects\\Filtr\\Data\\JSON\\MLP.pkl\")"
   ]
  },
  {
   "cell_type": "code",
   "execution_count": 272,
   "metadata": {},
   "outputs": [
    {
     "data": {
      "text/plain": [
       "Snare    5374\n",
       "Kick     3117\n",
       "Name: label, dtype: int64"
      ]
     },
     "execution_count": 272,
     "metadata": {},
     "output_type": "execute_result"
    }
   ],
   "source": [
    "xdf[\"label\"].value_counts()"
   ]
  },
  {
   "cell_type": "code",
   "execution_count": null,
   "metadata": {},
   "outputs": [],
   "source": []
  }
 ],
 "metadata": {
  "kernelspec": {
   "display_name": "Python 3",
   "language": "python",
   "name": "python3"
  },
  "language_info": {
   "codemirror_mode": {
    "name": "ipython",
    "version": 3
   },
   "file_extension": ".py",
   "mimetype": "text/x-python",
   "name": "python",
   "nbconvert_exporter": "python",
   "pygments_lexer": "ipython3",
   "version": "3.7.4"
  }
 },
 "nbformat": 4,
 "nbformat_minor": 2
}
