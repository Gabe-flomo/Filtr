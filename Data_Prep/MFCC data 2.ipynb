{
 "cells": [
  {
   "cell_type": "code",
<<<<<<< HEAD
   "execution_count": 1,
=======
   "execution_count": 165,
>>>>>>> d1af745449d8cd42809b5df53c777c42e70868ee
   "metadata": {},
   "outputs": [],
   "source": [
    "import pandas as pd\n",
    "import numpy as np\n",
    "import seaborn as sns\n",
    "import matplotlib.pyplot as plt\n",
    "import os\n",
    "import librosa\n",
    "import librosa.display\n",
    "from librosa.display import waveplot\n",
    "from librosa.core import get_duration\n",
    "import struct\n",
<<<<<<< HEAD
    "from random import randint\n",
    "from sklearn.preprocessing import MinMaxScaler\n",
    "from tqdm import tqdm"
   ]
  },
  {
   "cell_type": "code",
   "execution_count": null,
   "metadata": {},
   "outputs": [],
   "source": []
  },
  {
   "cell_type": "code",
   "execution_count": null,
   "metadata": {},
   "outputs": [],
   "source": []
  },
  {
   "cell_type": "code",
   "execution_count": null,
   "metadata": {},
   "outputs": [],
   "source": []
  },
  {
=======
    "from random import randint"
   ]
  },
  {
>>>>>>> d1af745449d8cd42809b5df53c777c42e70868ee
   "cell_type": "markdown",
   "metadata": {},
   "source": [
    "# Data Processing"
   ]
  },
  {
   "cell_type": "markdown",
   "metadata": {},
   "source": [
    "# 1) Load the audio data into a pandas dataframe"
   ]
  },
  {
   "cell_type": "code",
<<<<<<< HEAD
   "execution_count": 7,
=======
   "execution_count": 227,
>>>>>>> d1af745449d8cd42809b5df53c777c42e70868ee
   "metadata": {},
   "outputs": [],
   "source": [
    "class WavFileHelper():\n",
    "    \n",
    "    def read_file_properties(self, filename):\n",
    "\n",
    "        wave_file = open(filename,\"rb\")\n",
    "        \n",
    "        riff = wave_file.read(12)\n",
    "        fmt = wave_file.read(36)\n",
    "        \n",
    "        \n",
    "        num_channels_string = fmt[10:12]\n",
    "        num_channels = struct.unpack('<H', num_channels_string)[0]\n",
    "        #print(f\"{filename} has {num_channels} channels \\n\")\n",
    "\n",
    "        sample_rate_string = fmt[12:16]\n",
    "        sample_rate = struct.unpack(\"<I\",sample_rate_string)[0]\n",
    "        #print(f\"{filename} has a sample rate of{sample_rate} \\n\")\n",
    "        \n",
    "        bit_depth_string = fmt[22:24]\n",
    "        bit_depth = struct.unpack(\"<H\",bit_depth_string)[0]\n",
    "        #print(f\"{filename} has a bit depth of{bit_depth} \\n\")\n",
    "        \n",
    "        wave_file.close()\n",
    "        data, sr = librosa.load(filename)\n",
    "        duration = round(get_duration(data, sr = sr), 2)\n",
    "        return (os.path.basename(filename), duration, num_channels, sample_rate, bit_depth, filename)\n",
    "\n",
    "# loop through each sample and get the audio properties for it then add it to a dataframe\n",
    "def create_dataframe(datapath):\n",
    "    data = []\n",
    "    label = []\n",
    "    # for each folder in the datapath\n",
    "    for category in os.listdir(datapath):\n",
    "        # create a path for each category\n",
    "        path = os.path.join(datapath,category)\n",
    "        #print(os.path.basename(path))\n",
    "        with os.scandir(path) as files:\n",
    "            # loop through all files in each category\n",
<<<<<<< HEAD
    "            for file in tqdm(files):\n",
=======
    "            for file in files:\n",
>>>>>>> d1af745449d8cd42809b5df53c777c42e70868ee
    "                filename = os.path.join(path,file)\n",
    "                try:\n",
    "                    properties = wfh.read_file_properties(filename)\n",
    "                except:\n",
    "                    print(f\"Error reading {os.path.basename(filename)} so it will be deleted\")\n",
    "                    os.remove(filename)\n",
    "                    continue\n",
    "                    \n",
    "                data.append(properties)\n",
    "                label.append(category)\n",
    "    \n",
    "    df = pd.DataFrame(data, columns = ['Filename','Duration','Channels','Sample_rate','Bit_depth','path'])\n",
    "    df['class'] = label\n",
    "    cols = df.columns.tolist()\n",
    "    cols = cols[-1:] + cols[:-1]\n",
    "    df = df[cols]\n",
    "    return df\n",
    "                \n",
    "                \n",
    "        \n",
    "        \n"
   ]
  },
  {
   "cell_type": "code",
<<<<<<< HEAD
   "execution_count": 8,
=======
   "execution_count": 228,
>>>>>>> d1af745449d8cd42809b5df53c777c42e70868ee
   "metadata": {},
   "outputs": [],
   "source": [
    "wfh = WavFileHelper()\n",
    "DATAPATH = r\"E:\\Documents\\My Projects\\Filtr\\Data\\Audio\""
   ]
  },
  {
   "cell_type": "code",
<<<<<<< HEAD
   "execution_count": 8,
=======
   "execution_count": 229,
>>>>>>> d1af745449d8cd42809b5df53c777c42e70868ee
   "metadata": {
    "scrolled": true
   },
   "outputs": [
    {
     "name": "stdout",
     "output_type": "stream",
     "text": [
<<<<<<< HEAD
      "Wall time: 55.9 ms\n"
=======
      "Error reading sampleDK3117.wav\n",
      "Error reading sampleDK3118.wav\n",
      "Error reading sampleDK3119.wav\n",
      "Error reading sampleDK3120.wav\n",
      "Error reading sampleDK3121.wav\n",
      "Error reading sampleDK3122.wav\n",
      "Error reading sampleDK3123.wav\n",
      "Error reading sampleDK3124.wav\n",
      "Error reading sampleDK3125.wav\n",
      "Error reading sampleDK3126.wav\n",
      "Error reading sampleDK3127.wav\n",
      "Error reading sampleDK3128.wav\n",
      "Error reading sampleDK3129.wav\n",
      "Error reading sampleDK3130.wav\n",
      "Error reading sampleDK3131.wav\n",
      "Error reading sampleDK3132.wav\n",
      "Error reading sampleDK3133.wav\n",
      "Error reading sampleDK3134.wav\n",
      "Error reading sampleDK3135.wav\n",
      "Error reading sampleDK3136.wav\n",
      "Error reading sampleDK3137.wav\n",
      "Error reading sampleDK3138.wav\n",
      "Error reading sampleDK3139.wav\n",
      "Error reading sampleDK3140.wav\n",
      "Error reading sampleDK3141.wav\n",
      "Error reading sampleDK3142.wav\n",
      "Error reading sampleDK3143.wav\n",
      "Error reading sampleDK3144.wav\n",
      "Error reading sampleDK3145.wav\n",
      "Error reading sampleDK3146.wav\n",
      "Error reading 4LX Snare 8.wav\n",
      "Error reading sampleDS4865.wav\n",
      "Error reading sampleDS4866.wav\n",
      "Error reading sampleDS5015.wav\n",
      "Error reading sampleDS5207.wav\n",
      "Error reading sampleDS5215.wav\n",
      "Error reading sampleDS5251.wav\n",
      "Error reading sampleDS5390.wav\n",
      "Error reading sampleDS5391.wav\n",
      "Error reading sampleDS5392.wav\n",
      "Error reading sampleDS5393.wav\n",
      "Error reading sampleDS5394.wav\n",
      "Error reading sampleDS5395.wav\n",
      "Error reading sampleDS5396.wav\n",
      "Error reading sampleDS5397.wav\n",
      "Error reading sampleDS5398.wav\n",
      "Error reading sampleDS5399.wav\n",
      "Error reading sampleDS5400.wav\n",
      "Error reading sampleDS5401.wav\n",
      "Error reading sampleDS5402.wav\n",
      "Error reading sampleDS5403.wav\n",
      "Error reading sampleDS5404.wav\n",
      "Error reading sampleDS5405.wav\n",
      "Error reading sampleDS5406.wav\n",
      "Error reading sampleDS5407.wav\n",
      "Error reading sampleDS5408.wav\n",
      "Error reading sampleDS5409.wav\n",
      "Error reading sampleDS5410.wav\n",
      "Error reading sampleDS5411.wav\n",
      "Error reading sampleDS5412.wav\n",
      "Error reading sampleDS5413.wav\n",
      "Error reading sampleDS5414.wav\n",
      "Error reading sampleDS5415.wav\n",
      "Error reading sampleDS5416.wav\n",
      "Error reading sampleDS5417.wav\n",
      "Error reading sampleDS5418.wav\n",
      "Error reading sampleDS5419.wav\n",
      "Error reading sampleDS5420.wav\n",
      "Error reading sampleDS5421.wav\n",
      "Error reading sampleDS5422.wav\n",
      "Error reading sampleDS5423.wav\n"
>>>>>>> d1af745449d8cd42809b5df53c777c42e70868ee
     ]
    }
   ],
   "source": [
    "%%time\n",
<<<<<<< HEAD
    "#df = create_dataframe(DATAPATH)"
=======
    "df = create_dataframe(DATAPATH)"
>>>>>>> d1af745449d8cd42809b5df53c777c42e70868ee
   ]
  },
  {
   "cell_type": "code",
<<<<<<< HEAD
   "execution_count": 9,
=======
   "execution_count": 230,
>>>>>>> d1af745449d8cd42809b5df53c777c42e70868ee
   "metadata": {},
   "outputs": [
    {
     "data": {
      "text/html": [
       "<div>\n",
       "<style scoped>\n",
       "    .dataframe tbody tr th:only-of-type {\n",
       "        vertical-align: middle;\n",
       "    }\n",
       "\n",
       "    .dataframe tbody tr th {\n",
       "        vertical-align: top;\n",
       "    }\n",
       "\n",
       "    .dataframe thead th {\n",
       "        text-align: right;\n",
       "    }\n",
       "</style>\n",
       "<table border=\"1\" class=\"dataframe\">\n",
       "  <thead>\n",
       "    <tr style=\"text-align: right;\">\n",
       "      <th></th>\n",
       "      <th>class</th>\n",
       "      <th>Filename</th>\n",
       "      <th>Duration</th>\n",
       "      <th>Channels</th>\n",
       "      <th>Sample_rate</th>\n",
       "      <th>Bit_depth</th>\n",
       "      <th>path</th>\n",
       "    </tr>\n",
       "  </thead>\n",
       "  <tbody>\n",
       "    <tr>\n",
       "      <th>0</th>\n",
<<<<<<< HEAD
       "      <td>808</td>\n",
       "      <td>Z-808 (Murda).wav</td>\n",
       "      <td>6.86</td>\n",
       "      <td>2</td>\n",
       "      <td>44100</td>\n",
       "      <td>16</td>\n",
       "      <td>E:\\Documents\\My Projects\\Filtr\\Data\\Audio\\808\\...</td>\n",
       "    </tr>\n",
       "    <tr>\n",
       "      <th>1</th>\n",
       "      <td>808</td>\n",
       "      <td>Z-808 (Perfection).wav</td>\n",
       "      <td>6.05</td>\n",
       "      <td>2</td>\n",
       "      <td>44100</td>\n",
       "      <td>16</td>\n",
       "      <td>E:\\Documents\\My Projects\\Filtr\\Data\\Audio\\808\\...</td>\n",
       "    </tr>\n",
       "    <tr>\n",
       "      <th>2</th>\n",
       "      <td>808</td>\n",
       "      <td>Dirty Diana 808.wav</td>\n",
       "      <td>5.15</td>\n",
       "      <td>2</td>\n",
       "      <td>44100</td>\n",
       "      <td>24</td>\n",
       "      <td>E:\\Documents\\My Projects\\Filtr\\Data\\Audio\\808\\...</td>\n",
       "    </tr>\n",
       "    <tr>\n",
       "      <th>3</th>\n",
       "      <td>808</td>\n",
       "      <td>808 xxxplosive.wav</td>\n",
       "      <td>5.15</td>\n",
       "      <td>2</td>\n",
       "      <td>44100</td>\n",
       "      <td>24</td>\n",
       "      <td>E:\\Documents\\My Projects\\Filtr\\Data\\Audio\\808\\...</td>\n",
       "    </tr>\n",
       "    <tr>\n",
       "      <th>4</th>\n",
       "      <td>808</td>\n",
       "      <td>808 Wolves.wav</td>\n",
       "      <td>5.15</td>\n",
       "      <td>2</td>\n",
       "      <td>44100</td>\n",
       "      <td>24</td>\n",
       "      <td>E:\\Documents\\My Projects\\Filtr\\Data\\Audio\\808\\...</td>\n",
=======
       "      <td>Kick</td>\n",
       "      <td>sampleDK0.wav</td>\n",
       "      <td>0.64</td>\n",
       "      <td>2</td>\n",
       "      <td>44100</td>\n",
       "      <td>24</td>\n",
       "      <td>E:\\Documents\\My Projects\\Filtr\\Data\\Audio\\Kick...</td>\n",
       "    </tr>\n",
       "    <tr>\n",
       "      <th>1</th>\n",
       "      <td>Kick</td>\n",
       "      <td>sampleDK1.wav</td>\n",
       "      <td>0.41</td>\n",
       "      <td>2</td>\n",
       "      <td>44100</td>\n",
       "      <td>24</td>\n",
       "      <td>E:\\Documents\\My Projects\\Filtr\\Data\\Audio\\Kick...</td>\n",
       "    </tr>\n",
       "    <tr>\n",
       "      <th>2</th>\n",
       "      <td>Kick</td>\n",
       "      <td>sampleDK10.wav</td>\n",
       "      <td>0.75</td>\n",
       "      <td>2</td>\n",
       "      <td>44100</td>\n",
       "      <td>24</td>\n",
       "      <td>E:\\Documents\\My Projects\\Filtr\\Data\\Audio\\Kick...</td>\n",
       "    </tr>\n",
       "    <tr>\n",
       "      <th>3</th>\n",
       "      <td>Kick</td>\n",
       "      <td>sampleDK100.wav</td>\n",
       "      <td>0.75</td>\n",
       "      <td>2</td>\n",
       "      <td>44100</td>\n",
       "      <td>24</td>\n",
       "      <td>E:\\Documents\\My Projects\\Filtr\\Data\\Audio\\Kick...</td>\n",
       "    </tr>\n",
       "    <tr>\n",
       "      <th>4</th>\n",
       "      <td>Kick</td>\n",
       "      <td>sampleDK1000.wav</td>\n",
       "      <td>0.43</td>\n",
       "      <td>2</td>\n",
       "      <td>44100</td>\n",
       "      <td>16</td>\n",
       "      <td>E:\\Documents\\My Projects\\Filtr\\Data\\Audio\\Kick...</td>\n",
>>>>>>> d1af745449d8cd42809b5df53c777c42e70868ee
       "    </tr>\n",
       "  </tbody>\n",
       "</table>\n",
       "</div>"
      ],
      "text/plain": [
<<<<<<< HEAD
       "  class                Filename  Duration  Channels  Sample_rate  Bit_depth  \\\n",
       "0   808       Z-808 (Murda).wav      6.86         2        44100         16   \n",
       "1   808  Z-808 (Perfection).wav      6.05         2        44100         16   \n",
       "2   808     Dirty Diana 808.wav      5.15         2        44100         24   \n",
       "3   808      808 xxxplosive.wav      5.15         2        44100         24   \n",
       "4   808          808 Wolves.wav      5.15         2        44100         24   \n",
       "\n",
       "                                                path  \n",
       "0  E:\\Documents\\My Projects\\Filtr\\Data\\Audio\\808\\...  \n",
       "1  E:\\Documents\\My Projects\\Filtr\\Data\\Audio\\808\\...  \n",
       "2  E:\\Documents\\My Projects\\Filtr\\Data\\Audio\\808\\...  \n",
       "3  E:\\Documents\\My Projects\\Filtr\\Data\\Audio\\808\\...  \n",
       "4  E:\\Documents\\My Projects\\Filtr\\Data\\Audio\\808\\...  "
      ]
     },
     "execution_count": 9,
=======
       "  class          Filename  Duration  Channels  Sample_rate  Bit_depth  \\\n",
       "0  Kick     sampleDK0.wav      0.64         2        44100         24   \n",
       "1  Kick     sampleDK1.wav      0.41         2        44100         24   \n",
       "2  Kick    sampleDK10.wav      0.75         2        44100         24   \n",
       "3  Kick   sampleDK100.wav      0.75         2        44100         24   \n",
       "4  Kick  sampleDK1000.wav      0.43         2        44100         16   \n",
       "\n",
       "                                                path  \n",
       "0  E:\\Documents\\My Projects\\Filtr\\Data\\Audio\\Kick...  \n",
       "1  E:\\Documents\\My Projects\\Filtr\\Data\\Audio\\Kick...  \n",
       "2  E:\\Documents\\My Projects\\Filtr\\Data\\Audio\\Kick...  \n",
       "3  E:\\Documents\\My Projects\\Filtr\\Data\\Audio\\Kick...  \n",
       "4  E:\\Documents\\My Projects\\Filtr\\Data\\Audio\\Kick...  "
      ]
     },
     "execution_count": 230,
>>>>>>> d1af745449d8cd42809b5df53c777c42e70868ee
     "metadata": {},
     "output_type": "execute_result"
    }
   ],
   "source": [
    "df.head()"
   ]
  },
  {
   "cell_type": "code",
<<<<<<< HEAD
   "execution_count": 11,
=======
   "execution_count": 231,
>>>>>>> d1af745449d8cd42809b5df53c777c42e70868ee
   "metadata": {},
   "outputs": [
    {
     "data": {
      "text/plain": [
<<<<<<< HEAD
       "24       58.581831\n",
       "16       16.215904\n",
       "32       15.724688\n",
       "0         9.385113\n",
       "28515     0.052011\n",
       "4         0.023116\n",
       "26994     0.005779\n",
       "21280     0.005779\n",
       "8         0.005779\n",
       "Name: Bit_depth, dtype: float64"
      ]
     },
     "execution_count": 11,
=======
       "24    52.184666\n",
       "16    23.719232\n",
       "32    13.425980\n",
       "0     10.658344\n",
       "8      0.011777\n",
       "Name: Bit_depth, dtype: float64"
      ]
     },
     "execution_count": 231,
>>>>>>> d1af745449d8cd42809b5df53c777c42e70868ee
     "metadata": {},
     "output_type": "execute_result"
    }
   ],
   "source": [
    "df['Bit_depth'].value_counts(normalize = True) * 100"
   ]
  },
  {
   "cell_type": "code",
<<<<<<< HEAD
   "execution_count": 12,
=======
   "execution_count": 232,
>>>>>>> d1af745449d8cd42809b5df53c777c42e70868ee
   "metadata": {},
   "outputs": [
    {
     "data": {
      "text/plain": [
<<<<<<< HEAD
       "2        87.557790\n",
       "0         5.836801\n",
       "1         3.796810\n",
       "43        0.323625\n",
       "44        0.219602\n",
       "           ...    \n",
       "54        0.005779\n",
       "50        0.005779\n",
       "37        0.005779\n",
       "21577     0.005779\n",
       "27756     0.005779\n",
       "Name: Channels, Length: 66, dtype: float64"
      ]
     },
     "execution_count": 12,
=======
       "2        86.833117\n",
       "0         6.866094\n",
       "1         4.710870\n",
       "3         0.718408\n",
       "4         0.494641\n",
       "6         0.082440\n",
       "29281     0.047109\n",
       "7         0.047109\n",
       "5         0.047109\n",
       "28262     0.035332\n",
       "29560     0.023554\n",
       "21618     0.023554\n",
       "25975     0.011777\n",
       "24930     0.011777\n",
       "26987     0.011777\n",
       "26980     0.011777\n",
       "8         0.011777\n",
       "28530     0.011777\n",
       "Name: Channels, dtype: float64"
      ]
     },
     "execution_count": 232,
>>>>>>> d1af745449d8cd42809b5df53c777c42e70868ee
     "metadata": {},
     "output_type": "execute_result"
    }
   ],
   "source": [
    "df['Channels'].value_counts(normalize = True) * 100"
   ]
  },
  {
   "cell_type": "code",
<<<<<<< HEAD
   "execution_count": 13,
=======
   "execution_count": 233,
>>>>>>> d1af745449d8cd42809b5df53c777c42e70868ee
   "metadata": {},
   "outputs": [
    {
     "data": {
      "text/plain": [
<<<<<<< HEAD
       "44100         86.193944\n",
       "0              9.333102\n",
       "48000          3.380721\n",
       "96000          0.739713\n",
       "22050          0.069348\n",
       "1701080941     0.052011\n",
       "32000          0.034674\n",
       "192000         0.028895\n",
       "1818386796     0.023116\n",
       "25000          0.017337\n",
       "24000          0.017337\n",
       "16000          0.011558\n",
       "39360          0.011558\n",
       "40000          0.005779\n",
       "44101          0.005779\n",
       "32895          0.005779\n",
       "88200          0.005779\n",
       "33331          0.005779\n",
       "1344295489     0.005779\n",
       "10417          0.005779\n",
       "11025          0.005779\n",
       "3763577        0.005779\n",
       "15000          0.005779\n",
       "1835094895     0.005779\n",
       "3289376        0.005779\n",
       "39482488       0.005779\n",
       "963475827      0.005779\n",
       "3239289        0.005779\n",
       "Name: Sample_rate, dtype: float64"
      ]
     },
     "execution_count": 13,
=======
       "44100         84.265693\n",
       "0             10.469909\n",
       "48000          4.298669\n",
       "32000          0.459310\n",
       "96000          0.188435\n",
       "192000         0.070663\n",
       "101            0.047109\n",
       "846360179      0.023554\n",
       "1751208736     0.011777\n",
       "825389678      0.011777\n",
       "863137395      0.011777\n",
       "892432481      0.011777\n",
       "1885426802     0.011777\n",
       "22050          0.011777\n",
       "25971          0.011777\n",
       "37800          0.011777\n",
       "1597186159     0.011777\n",
       "88200          0.011777\n",
       "14443          0.011777\n",
       "28000          0.011777\n",
       "875721326      0.011777\n",
       "925986913      0.011777\n",
       "24000          0.011777\n",
       "Name: Sample_rate, dtype: float64"
      ]
     },
     "execution_count": 233,
>>>>>>> d1af745449d8cd42809b5df53c777c42e70868ee
     "metadata": {},
     "output_type": "execute_result"
    }
   ],
   "source": [
    "df['Sample_rate'].value_counts(normalize = True) * 100"
   ]
  },
  {
   "cell_type": "code",
<<<<<<< HEAD
   "execution_count": 10,
=======
   "execution_count": 234,
>>>>>>> d1af745449d8cd42809b5df53c777c42e70868ee
   "metadata": {},
   "outputs": [],
   "source": [
    "def plot_sample(index):\n",
    "    file = df['path'].loc[index]\n",
    "    data, sr = librosa.load(file)\n",
    "    print(df['class'].loc[index])\n",
    "    waveplot(data)"
   ]
  },
  {
   "cell_type": "code",
<<<<<<< HEAD
   "execution_count": 11,
=======
   "execution_count": 240,
>>>>>>> d1af745449d8cd42809b5df53c777c42e70868ee
   "metadata": {},
   "outputs": [
    {
     "data": {
      "text/plain": [
<<<<<<< HEAD
       "count    17304.000000\n",
       "mean         4.035061\n",
       "std          5.764825\n",
       "min          0.000000\n",
       "25%          0.500000\n",
       "50%          1.850000\n",
       "75%          6.552500\n",
       "max        205.710000\n",
       "Name: Duration, dtype: float64"
      ]
     },
     "execution_count": 11,
=======
       "count    8491.000000\n",
       "mean        0.718105\n",
       "std         1.702385\n",
       "min         0.010000\n",
       "25%         0.290000\n",
       "50%         0.500000\n",
       "75%         0.880000\n",
       "max        63.430000\n",
       "Name: Duration, dtype: float64"
      ]
     },
     "execution_count": 240,
>>>>>>> d1af745449d8cd42809b5df53c777c42e70868ee
     "metadata": {},
     "output_type": "execute_result"
    }
   ],
   "source": [
    "df['Duration'].describe()"
   ]
  },
  {
   "cell_type": "code",
<<<<<<< HEAD
   "execution_count": 16,
   "metadata": {},
   "outputs": [
    {
     "data": {
      "text/plain": [
       "count    17298.000000\n",
       "mean         3.975254\n",
       "std          4.755226\n",
       "min          0.000000\n",
       "25%          0.500000\n",
       "50%          1.850000\n",
       "75%          6.530000\n",
       "max         81.970000\n",
       "Name: Duration, dtype: float64"
      ]
     },
     "execution_count": 16,
     "metadata": {},
     "output_type": "execute_result"
    }
   ],
   "source": [
    "df = df[df['Duration']<132]\n",
    "df['Duration'].describe()"
   ]
=======
   "execution_count": null,
   "metadata": {},
   "outputs": [],
   "source": []
  },
  {
   "cell_type": "code",
   "execution_count": null,
   "metadata": {},
   "outputs": [],
   "source": []
>>>>>>> d1af745449d8cd42809b5df53c777c42e70868ee
  },
  {
   "cell_type": "markdown",
   "metadata": {},
   "source": [
<<<<<<< HEAD
    "# Save the dataframe\n"
=======
    "# 2) Create a Dataframe with the MFCC data and labels"
>>>>>>> d1af745449d8cd42809b5df53c777c42e70868ee
   ]
  },
  {
   "cell_type": "code",
<<<<<<< HEAD
   "execution_count": 20,
   "metadata": {},
   "outputs": [],
   "source": [
    "df.to_csv(r'E:\\Documents\\My Projects\\Filtr\\Data\\csv\\audio_data.csv')"
=======
   "execution_count": 245,
   "metadata": {},
   "outputs": [],
   "source": [
    "def normalize(data):\n",
    "    return data / data.max()\n",
    "\n",
    "def extract(file, pad = False):\n",
    "    max_pad_len = 174\n",
    "    try:\n",
    "        data, sr = librosa.load(file)\n",
    "        mfccs = librosa.feature.mfcc(data, sr = sr, n_mfcc = 25)\n",
    "        if pad:\n",
    "            # ensure that all files are the of fixed size\n",
    "            pad_width = max_pad_len - mfccs.shape[1]\n",
    "            mfccs = np.pad(mfccs, pad_width=((0, 0), (0, pad_width)), mode='constant')\n",
    "        else:\n",
    "            mfccs = librosa.util.normalize(np.mean(mfccs.T, axis = 0))\n",
    "        \n",
    "        \n",
    "        \n",
    "    except exception as e:\n",
    "        print(f\"An error occured when trying to load {os.path.basename(file)} {e}\")\n",
    "        return None\n",
    "    \n",
    "    return mfccs"
   ]
  },
  {
   "cell_type": "code",
   "execution_count": 265,
   "metadata": {},
   "outputs": [
    {
     "name": "stdout",
     "output_type": "stream",
     "text": [
      "Snare\n"
     ]
    },
    {
     "data": {
      "image/png": "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\n",
      "text/plain": [
       "<Figure size 432x288 with 1 Axes>"
      ]
     },
     "metadata": {
      "needs_background": "light"
     },
     "output_type": "display_data"
    }
   ],
   "source": [
    "plot_sample(randint(0,8000))"
>>>>>>> d1af745449d8cd42809b5df53c777c42e70868ee
   ]
  },
  {
   "cell_type": "code",
<<<<<<< HEAD
   "execution_count": 17,
   "metadata": {},
   "outputs": [],
   "source": [
    "classes = df.groupby('class').count()"
=======
   "execution_count": 266,
   "metadata": {},
   "outputs": [],
   "source": [
    "x = extract(r\"E:\\\\Documents\\\\My Projects\\\\Filtr\\\\Data\\\\Reduced_dataset\\\\Kick\\\\sampleDK2542.wav\")"
>>>>>>> d1af745449d8cd42809b5df53c777c42e70868ee
   ]
  },
  {
   "cell_type": "code",
<<<<<<< HEAD
   "execution_count": 18,
=======
   "execution_count": 267,
>>>>>>> d1af745449d8cd42809b5df53c777c42e70868ee
   "metadata": {},
   "outputs": [
    {
     "data": {
<<<<<<< HEAD
      "text/html": [
       "<div>\n",
       "<style scoped>\n",
       "    .dataframe tbody tr th:only-of-type {\n",
       "        vertical-align: middle;\n",
       "    }\n",
       "\n",
       "    .dataframe tbody tr th {\n",
       "        vertical-align: top;\n",
       "    }\n",
       "\n",
       "    .dataframe thead th {\n",
       "        text-align: right;\n",
       "    }\n",
       "</style>\n",
       "<table border=\"1\" class=\"dataframe\">\n",
       "  <thead>\n",
       "    <tr style=\"text-align: right;\">\n",
       "      <th></th>\n",
       "      <th>Filename</th>\n",
       "      <th>Duration</th>\n",
       "      <th>Channels</th>\n",
       "      <th>Sample_rate</th>\n",
       "      <th>Bit_depth</th>\n",
       "      <th>path</th>\n",
       "    </tr>\n",
       "    <tr>\n",
       "      <th>class</th>\n",
       "      <th></th>\n",
       "      <th></th>\n",
       "      <th></th>\n",
       "      <th></th>\n",
       "      <th></th>\n",
       "      <th></th>\n",
       "    </tr>\n",
       "  </thead>\n",
       "  <tbody>\n",
       "    <tr>\n",
       "      <th>808</th>\n",
       "      <td>976</td>\n",
       "      <td>976</td>\n",
       "      <td>976</td>\n",
       "      <td>976</td>\n",
       "      <td>976</td>\n",
       "      <td>976</td>\n",
       "    </tr>\n",
       "    <tr>\n",
       "      <th>Cymbals</th>\n",
       "      <td>1060</td>\n",
       "      <td>1060</td>\n",
       "      <td>1060</td>\n",
       "      <td>1060</td>\n",
       "      <td>1060</td>\n",
       "      <td>1060</td>\n",
       "    </tr>\n",
       "    <tr>\n",
       "      <th>FX</th>\n",
       "      <td>1426</td>\n",
       "      <td>1426</td>\n",
       "      <td>1426</td>\n",
       "      <td>1426</td>\n",
       "      <td>1426</td>\n",
       "      <td>1426</td>\n",
       "    </tr>\n",
       "    <tr>\n",
       "      <th>Foley</th>\n",
       "      <td>1026</td>\n",
       "      <td>1026</td>\n",
       "      <td>1026</td>\n",
       "      <td>1026</td>\n",
       "      <td>1026</td>\n",
       "      <td>1026</td>\n",
       "    </tr>\n",
       "    <tr>\n",
       "      <th>Guitar</th>\n",
       "      <td>850</td>\n",
       "      <td>850</td>\n",
       "      <td>850</td>\n",
       "      <td>850</td>\n",
       "      <td>850</td>\n",
       "      <td>850</td>\n",
       "    </tr>\n",
       "    <tr>\n",
       "      <th>Impacts</th>\n",
       "      <td>488</td>\n",
       "      <td>488</td>\n",
       "      <td>488</td>\n",
       "      <td>488</td>\n",
       "      <td>488</td>\n",
       "      <td>488</td>\n",
       "    </tr>\n",
       "    <tr>\n",
       "      <th>Instrument</th>\n",
       "      <td>1152</td>\n",
       "      <td>1152</td>\n",
       "      <td>1152</td>\n",
       "      <td>1152</td>\n",
       "      <td>1152</td>\n",
       "      <td>1152</td>\n",
       "    </tr>\n",
       "    <tr>\n",
       "      <th>Kick</th>\n",
       "      <td>1175</td>\n",
       "      <td>1175</td>\n",
       "      <td>1175</td>\n",
       "      <td>1175</td>\n",
       "      <td>1175</td>\n",
       "      <td>1175</td>\n",
       "    </tr>\n",
       "    <tr>\n",
       "      <th>Melodic</th>\n",
       "      <td>767</td>\n",
       "      <td>767</td>\n",
       "      <td>767</td>\n",
       "      <td>767</td>\n",
       "      <td>767</td>\n",
       "      <td>767</td>\n",
       "    </tr>\n",
       "    <tr>\n",
       "      <th>Pads</th>\n",
       "      <td>858</td>\n",
       "      <td>858</td>\n",
       "      <td>858</td>\n",
       "      <td>858</td>\n",
       "      <td>858</td>\n",
       "      <td>858</td>\n",
       "    </tr>\n",
       "    <tr>\n",
       "      <th>Percs</th>\n",
       "      <td>1188</td>\n",
       "      <td>1188</td>\n",
       "      <td>1188</td>\n",
       "      <td>1188</td>\n",
       "      <td>1188</td>\n",
       "      <td>1188</td>\n",
       "    </tr>\n",
       "    <tr>\n",
       "      <th>Piano</th>\n",
       "      <td>423</td>\n",
       "      <td>423</td>\n",
       "      <td>423</td>\n",
       "      <td>423</td>\n",
       "      <td>423</td>\n",
       "      <td>423</td>\n",
       "    </tr>\n",
       "    <tr>\n",
       "      <th>Rhodes</th>\n",
       "      <td>177</td>\n",
       "      <td>177</td>\n",
       "      <td>177</td>\n",
       "      <td>177</td>\n",
       "      <td>177</td>\n",
       "      <td>177</td>\n",
       "    </tr>\n",
       "    <tr>\n",
       "      <th>Snaps</th>\n",
       "      <td>406</td>\n",
       "      <td>406</td>\n",
       "      <td>406</td>\n",
       "      <td>406</td>\n",
       "      <td>406</td>\n",
       "      <td>406</td>\n",
       "    </tr>\n",
       "    <tr>\n",
       "      <th>Snare</th>\n",
       "      <td>1157</td>\n",
       "      <td>1157</td>\n",
       "      <td>1157</td>\n",
       "      <td>1157</td>\n",
       "      <td>1157</td>\n",
       "      <td>1157</td>\n",
       "    </tr>\n",
       "    <tr>\n",
       "      <th>Synth</th>\n",
       "      <td>1192</td>\n",
       "      <td>1192</td>\n",
       "      <td>1192</td>\n",
       "      <td>1192</td>\n",
       "      <td>1192</td>\n",
       "      <td>1192</td>\n",
       "    </tr>\n",
       "    <tr>\n",
       "      <th>Transitions</th>\n",
       "      <td>757</td>\n",
       "      <td>757</td>\n",
       "      <td>757</td>\n",
       "      <td>757</td>\n",
       "      <td>757</td>\n",
       "      <td>757</td>\n",
       "    </tr>\n",
       "    <tr>\n",
       "      <th>Vox</th>\n",
       "      <td>1060</td>\n",
       "      <td>1060</td>\n",
       "      <td>1060</td>\n",
       "      <td>1060</td>\n",
       "      <td>1060</td>\n",
       "      <td>1060</td>\n",
       "    </tr>\n",
       "    <tr>\n",
       "      <th>Woodwinds</th>\n",
       "      <td>92</td>\n",
       "      <td>92</td>\n",
       "      <td>92</td>\n",
       "      <td>92</td>\n",
       "      <td>92</td>\n",
       "      <td>92</td>\n",
       "    </tr>\n",
       "    <tr>\n",
       "      <th>hats</th>\n",
       "      <td>1068</td>\n",
       "      <td>1068</td>\n",
       "      <td>1068</td>\n",
       "      <td>1068</td>\n",
       "      <td>1068</td>\n",
       "      <td>1068</td>\n",
       "    </tr>\n",
       "  </tbody>\n",
       "</table>\n",
       "</div>"
      ],
      "text/plain": [
       "             Filename  Duration  Channels  Sample_rate  Bit_depth  path\n",
       "class                                                                  \n",
       "808               976       976       976          976        976   976\n",
       "Cymbals          1060      1060      1060         1060       1060  1060\n",
       "FX               1426      1426      1426         1426       1426  1426\n",
       "Foley            1026      1026      1026         1026       1026  1026\n",
       "Guitar            850       850       850          850        850   850\n",
       "Impacts           488       488       488          488        488   488\n",
       "Instrument       1152      1152      1152         1152       1152  1152\n",
       "Kick             1175      1175      1175         1175       1175  1175\n",
       "Melodic           767       767       767          767        767   767\n",
       "Pads              858       858       858          858        858   858\n",
       "Percs            1188      1188      1188         1188       1188  1188\n",
       "Piano             423       423       423          423        423   423\n",
       "Rhodes            177       177       177          177        177   177\n",
       "Snaps             406       406       406          406        406   406\n",
       "Snare            1157      1157      1157         1157       1157  1157\n",
       "Synth            1192      1192      1192         1192       1192  1192\n",
       "Transitions       757       757       757          757        757   757\n",
       "Vox              1060      1060      1060         1060       1060  1060\n",
       "Woodwinds          92        92        92           92         92    92\n",
       "hats             1068      1068      1068         1068       1068  1068"
      ]
     },
     "execution_count": 18,
=======
      "text/plain": [
       "(25,)"
      ]
     },
     "execution_count": 267,
>>>>>>> d1af745449d8cd42809b5df53c777c42e70868ee
     "metadata": {},
     "output_type": "execute_result"
    }
   ],
   "source": [
<<<<<<< HEAD
    "classes"
=======
    "x.shape"
>>>>>>> d1af745449d8cd42809b5df53c777c42e70868ee
   ]
  },
  {
   "cell_type": "code",
<<<<<<< HEAD
   "execution_count": 19,
   "metadata": {},
   "outputs": [],
   "source": [
    "df2 = df.copy()\n",
    "df2 = df2.set_index('class')\n",
    "df2.drop(['Piano', 'Rhodes', 'Woodwinds', 'Melodic'], axis = 0, inplace = True)"
=======
   "execution_count": 268,
   "metadata": {},
   "outputs": [],
   "source": [
    "def mfcc_data(df, pad = False):\n",
    "    '''\n",
    "    Uses the dataframe that has the audio properties to create a new dataframe with the label\n",
    "    and MFCC data.    \n",
    "    '''\n",
    "    features = []\n",
    "    for row, index in df.iterrows():\n",
    "        #print(index['class'],index['path'])\n",
    "        # get the class label\n",
    "        class_label = index['class']\n",
    "        # extract mfcc data\n",
    "        MFCC = extract(index['path'], pad)\n",
    "        features.append([class_label,MFCC])\n",
    "    \n",
    "    mfcc_df = pd.DataFrame(features, columns = ['label','data'])\n",
    "    print(f\"Successful feature extraction from {len(mfcc_df)} files\")\n",
    "    return mfcc_df    "
   ]
  },
  {
   "cell_type": "code",
   "execution_count": 269,
   "metadata": {},
   "outputs": [
    {
     "name": "stdout",
     "output_type": "stream",
     "text": [
      "Successful feature extraction from 8491 files\n"
     ]
    }
   ],
   "source": [
    "%%time\n",
    "xdf = mfcc_data(df)"
>>>>>>> d1af745449d8cd42809b5df53c777c42e70868ee
   ]
  },
  {
   "cell_type": "code",
<<<<<<< HEAD
   "execution_count": 20,
=======
   "execution_count": 270,
>>>>>>> d1af745449d8cd42809b5df53c777c42e70868ee
   "metadata": {},
   "outputs": [
    {
     "data": {
      "text/html": [
       "<div>\n",
       "<style scoped>\n",
       "    .dataframe tbody tr th:only-of-type {\n",
       "        vertical-align: middle;\n",
       "    }\n",
       "\n",
       "    .dataframe tbody tr th {\n",
       "        vertical-align: top;\n",
       "    }\n",
       "\n",
       "    .dataframe thead th {\n",
       "        text-align: right;\n",
       "    }\n",
       "</style>\n",
       "<table border=\"1\" class=\"dataframe\">\n",
       "  <thead>\n",
       "    <tr style=\"text-align: right;\">\n",
       "      <th></th>\n",
<<<<<<< HEAD
       "      <th>Filename</th>\n",
       "      <th>Duration</th>\n",
       "      <th>Channels</th>\n",
       "      <th>Sample_rate</th>\n",
       "      <th>Bit_depth</th>\n",
       "      <th>path</th>\n",
       "    </tr>\n",
       "    <tr>\n",
       "      <th>class</th>\n",
       "      <th></th>\n",
       "      <th></th>\n",
       "      <th></th>\n",
       "      <th></th>\n",
       "      <th></th>\n",
       "      <th></th>\n",
=======
       "      <th>label</th>\n",
       "      <th>data</th>\n",
>>>>>>> d1af745449d8cd42809b5df53c777c42e70868ee
       "    </tr>\n",
       "  </thead>\n",
       "  <tbody>\n",
       "    <tr>\n",
<<<<<<< HEAD
       "      <th>808</th>\n",
       "      <td>976</td>\n",
       "      <td>976</td>\n",
       "      <td>976</td>\n",
       "      <td>976</td>\n",
       "      <td>976</td>\n",
       "      <td>976</td>\n",
       "    </tr>\n",
       "    <tr>\n",
       "      <th>Cymbals</th>\n",
       "      <td>1060</td>\n",
       "      <td>1060</td>\n",
       "      <td>1060</td>\n",
       "      <td>1060</td>\n",
       "      <td>1060</td>\n",
       "      <td>1060</td>\n",
       "    </tr>\n",
       "    <tr>\n",
       "      <th>FX</th>\n",
       "      <td>1426</td>\n",
       "      <td>1426</td>\n",
       "      <td>1426</td>\n",
       "      <td>1426</td>\n",
       "      <td>1426</td>\n",
       "      <td>1426</td>\n",
       "    </tr>\n",
       "    <tr>\n",
       "      <th>Foley</th>\n",
       "      <td>1026</td>\n",
       "      <td>1026</td>\n",
       "      <td>1026</td>\n",
       "      <td>1026</td>\n",
       "      <td>1026</td>\n",
       "      <td>1026</td>\n",
       "    </tr>\n",
       "    <tr>\n",
       "      <th>Guitar</th>\n",
       "      <td>850</td>\n",
       "      <td>850</td>\n",
       "      <td>850</td>\n",
       "      <td>850</td>\n",
       "      <td>850</td>\n",
       "      <td>850</td>\n",
       "    </tr>\n",
       "    <tr>\n",
       "      <th>Impacts</th>\n",
       "      <td>488</td>\n",
       "      <td>488</td>\n",
       "      <td>488</td>\n",
       "      <td>488</td>\n",
       "      <td>488</td>\n",
       "      <td>488</td>\n",
       "    </tr>\n",
       "    <tr>\n",
       "      <th>Instrument</th>\n",
       "      <td>1152</td>\n",
       "      <td>1152</td>\n",
       "      <td>1152</td>\n",
       "      <td>1152</td>\n",
       "      <td>1152</td>\n",
       "      <td>1152</td>\n",
       "    </tr>\n",
       "    <tr>\n",
       "      <th>Kick</th>\n",
       "      <td>1175</td>\n",
       "      <td>1175</td>\n",
       "      <td>1175</td>\n",
       "      <td>1175</td>\n",
       "      <td>1175</td>\n",
       "      <td>1175</td>\n",
       "    </tr>\n",
       "    <tr>\n",
       "      <th>Pads</th>\n",
       "      <td>858</td>\n",
       "      <td>858</td>\n",
       "      <td>858</td>\n",
       "      <td>858</td>\n",
       "      <td>858</td>\n",
       "      <td>858</td>\n",
       "    </tr>\n",
       "    <tr>\n",
       "      <th>Percs</th>\n",
       "      <td>1188</td>\n",
       "      <td>1188</td>\n",
       "      <td>1188</td>\n",
       "      <td>1188</td>\n",
       "      <td>1188</td>\n",
       "      <td>1188</td>\n",
       "    </tr>\n",
       "    <tr>\n",
       "      <th>Snaps</th>\n",
       "      <td>406</td>\n",
       "      <td>406</td>\n",
       "      <td>406</td>\n",
       "      <td>406</td>\n",
       "      <td>406</td>\n",
       "      <td>406</td>\n",
       "    </tr>\n",
       "    <tr>\n",
       "      <th>Snare</th>\n",
       "      <td>1157</td>\n",
       "      <td>1157</td>\n",
       "      <td>1157</td>\n",
       "      <td>1157</td>\n",
       "      <td>1157</td>\n",
       "      <td>1157</td>\n",
       "    </tr>\n",
       "    <tr>\n",
       "      <th>Synth</th>\n",
       "      <td>1192</td>\n",
       "      <td>1192</td>\n",
       "      <td>1192</td>\n",
       "      <td>1192</td>\n",
       "      <td>1192</td>\n",
       "      <td>1192</td>\n",
       "    </tr>\n",
       "    <tr>\n",
       "      <th>Transitions</th>\n",
       "      <td>757</td>\n",
       "      <td>757</td>\n",
       "      <td>757</td>\n",
       "      <td>757</td>\n",
       "      <td>757</td>\n",
       "      <td>757</td>\n",
       "    </tr>\n",
       "    <tr>\n",
       "      <th>Vox</th>\n",
       "      <td>1060</td>\n",
       "      <td>1060</td>\n",
       "      <td>1060</td>\n",
       "      <td>1060</td>\n",
       "      <td>1060</td>\n",
       "      <td>1060</td>\n",
       "    </tr>\n",
       "    <tr>\n",
       "      <th>hats</th>\n",
       "      <td>1068</td>\n",
       "      <td>1068</td>\n",
       "      <td>1068</td>\n",
       "      <td>1068</td>\n",
       "      <td>1068</td>\n",
       "      <td>1068</td>\n",
=======
       "      <th>0</th>\n",
       "      <td>Kick</td>\n",
       "      <td>[-1.0, 0.1491615, 0.096866556, 0.07592922, 0.0...</td>\n",
       "    </tr>\n",
       "    <tr>\n",
       "      <th>1</th>\n",
       "      <td>Kick</td>\n",
       "      <td>[-1.0, 0.3772023, 0.12532657, 0.101197675, 0.0...</td>\n",
       "    </tr>\n",
       "    <tr>\n",
       "      <th>2</th>\n",
       "      <td>Kick</td>\n",
       "      <td>[-1.0, 0.04241084, 0.025367683, 0.020192847, 0...</td>\n",
       "    </tr>\n",
       "    <tr>\n",
       "      <th>3</th>\n",
       "      <td>Kick</td>\n",
       "      <td>[-1.0, 0.07537976, 0.05496532, 0.052986834, 0....</td>\n",
       "    </tr>\n",
       "    <tr>\n",
       "      <th>4</th>\n",
       "      <td>Kick</td>\n",
       "      <td>[-1.0, 0.13180892, 0.084020935, 0.057094738, 0...</td>\n",
>>>>>>> d1af745449d8cd42809b5df53c777c42e70868ee
       "    </tr>\n",
       "  </tbody>\n",
       "</table>\n",
       "</div>"
      ],
      "text/plain": [
<<<<<<< HEAD
       "             Filename  Duration  Channels  Sample_rate  Bit_depth  path\n",
       "class                                                                  \n",
       "808               976       976       976          976        976   976\n",
       "Cymbals          1060      1060      1060         1060       1060  1060\n",
       "FX               1426      1426      1426         1426       1426  1426\n",
       "Foley            1026      1026      1026         1026       1026  1026\n",
       "Guitar            850       850       850          850        850   850\n",
       "Impacts           488       488       488          488        488   488\n",
       "Instrument       1152      1152      1152         1152       1152  1152\n",
       "Kick             1175      1175      1175         1175       1175  1175\n",
       "Pads              858       858       858          858        858   858\n",
       "Percs            1188      1188      1188         1188       1188  1188\n",
       "Snaps             406       406       406          406        406   406\n",
       "Snare            1157      1157      1157         1157       1157  1157\n",
       "Synth            1192      1192      1192         1192       1192  1192\n",
       "Transitions       757       757       757          757        757   757\n",
       "Vox              1060      1060      1060         1060       1060  1060\n",
       "hats             1068      1068      1068         1068       1068  1068"
      ]
     },
     "execution_count": 20,
=======
       "  label                                               data\n",
       "0  Kick  [-1.0, 0.1491615, 0.096866556, 0.07592922, 0.0...\n",
       "1  Kick  [-1.0, 0.3772023, 0.12532657, 0.101197675, 0.0...\n",
       "2  Kick  [-1.0, 0.04241084, 0.025367683, 0.020192847, 0...\n",
       "3  Kick  [-1.0, 0.07537976, 0.05496532, 0.052986834, 0....\n",
       "4  Kick  [-1.0, 0.13180892, 0.084020935, 0.057094738, 0..."
      ]
     },
     "execution_count": 270,
>>>>>>> d1af745449d8cd42809b5df53c777c42e70868ee
     "metadata": {},
     "output_type": "execute_result"
    }
   ],
   "source": [
<<<<<<< HEAD
    "df2.groupby('class').count()"
=======
    "xdf.head()"
>>>>>>> d1af745449d8cd42809b5df53c777c42e70868ee
   ]
  },
  {
   "cell_type": "code",
<<<<<<< HEAD
   "execution_count": 21,
   "metadata": {},
   "outputs": [],
   "source": [
    "df = df2.copy().reset_index()"
=======
   "execution_count": 271,
   "metadata": {},
   "outputs": [],
   "source": [
    "xdf.to_pickle(\"E:\\Documents\\My Projects\\Filtr\\Data\\JSON\\MLP.pkl\")"
>>>>>>> d1af745449d8cd42809b5df53c777c42e70868ee
   ]
  },
  {
   "cell_type": "code",
<<<<<<< HEAD
   "execution_count": 31,
   "metadata": {},
   "outputs": [
    {
     "name": "stdout",
     "output_type": "stream",
     "text": [
      "(15839, 7)\n"
     ]
    },
    {
     "data": {
      "text/html": [
       "<div>\n",
       "<style scoped>\n",
       "    .dataframe tbody tr th:only-of-type {\n",
       "        vertical-align: middle;\n",
       "    }\n",
       "\n",
       "    .dataframe tbody tr th {\n",
       "        vertical-align: top;\n",
       "    }\n",
       "\n",
       "    .dataframe thead th {\n",
       "        text-align: right;\n",
       "    }\n",
       "</style>\n",
       "<table border=\"1\" class=\"dataframe\">\n",
       "  <thead>\n",
       "    <tr style=\"text-align: right;\">\n",
       "      <th></th>\n",
       "      <th>class</th>\n",
       "      <th>Filename</th>\n",
       "      <th>Duration</th>\n",
       "      <th>Channels</th>\n",
       "      <th>Sample_rate</th>\n",
       "      <th>Bit_depth</th>\n",
       "      <th>path</th>\n",
       "    </tr>\n",
       "  </thead>\n",
       "  <tbody>\n",
       "    <tr>\n",
       "      <th>0</th>\n",
       "      <td>808</td>\n",
       "      <td>Z-808 (Murda).wav</td>\n",
       "      <td>6.86</td>\n",
       "      <td>2</td>\n",
       "      <td>44100</td>\n",
       "      <td>16</td>\n",
       "      <td>E:\\Documents\\My Projects\\Filtr\\Data\\Audio\\808\\...</td>\n",
       "    </tr>\n",
       "    <tr>\n",
       "      <th>1</th>\n",
       "      <td>808</td>\n",
       "      <td>Z-808 (Perfection).wav</td>\n",
       "      <td>6.05</td>\n",
       "      <td>2</td>\n",
       "      <td>44100</td>\n",
       "      <td>16</td>\n",
       "      <td>E:\\Documents\\My Projects\\Filtr\\Data\\Audio\\808\\...</td>\n",
       "    </tr>\n",
       "    <tr>\n",
       "      <th>2</th>\n",
       "      <td>808</td>\n",
       "      <td>Dirty Diana 808.wav</td>\n",
       "      <td>5.15</td>\n",
       "      <td>2</td>\n",
       "      <td>44100</td>\n",
       "      <td>24</td>\n",
       "      <td>E:\\Documents\\My Projects\\Filtr\\Data\\Audio\\808\\...</td>\n",
       "    </tr>\n",
       "    <tr>\n",
       "      <th>3</th>\n",
       "      <td>808</td>\n",
       "      <td>808 xxxplosive.wav</td>\n",
       "      <td>5.15</td>\n",
       "      <td>2</td>\n",
       "      <td>44100</td>\n",
       "      <td>24</td>\n",
       "      <td>E:\\Documents\\My Projects\\Filtr\\Data\\Audio\\808\\...</td>\n",
       "    </tr>\n",
       "    <tr>\n",
       "      <th>4</th>\n",
       "      <td>808</td>\n",
       "      <td>808 Wolves.wav</td>\n",
       "      <td>5.15</td>\n",
       "      <td>2</td>\n",
       "      <td>44100</td>\n",
       "      <td>24</td>\n",
       "      <td>E:\\Documents\\My Projects\\Filtr\\Data\\Audio\\808\\...</td>\n",
       "    </tr>\n",
       "  </tbody>\n",
       "</table>\n",
       "</div>"
      ],
      "text/plain": [
       "  class                Filename  Duration  Channels  Sample_rate  Bit_depth  \\\n",
       "0   808       Z-808 (Murda).wav      6.86         2        44100         16   \n",
       "1   808  Z-808 (Perfection).wav      6.05         2        44100         16   \n",
       "2   808     Dirty Diana 808.wav      5.15         2        44100         24   \n",
       "3   808      808 xxxplosive.wav      5.15         2        44100         24   \n",
       "4   808          808 Wolves.wav      5.15         2        44100         24   \n",
       "\n",
       "                                                path  \n",
       "0  E:\\Documents\\My Projects\\Filtr\\Data\\Audio\\808\\...  \n",
       "1  E:\\Documents\\My Projects\\Filtr\\Data\\Audio\\808\\...  \n",
       "2  E:\\Documents\\My Projects\\Filtr\\Data\\Audio\\808\\...  \n",
       "3  E:\\Documents\\My Projects\\Filtr\\Data\\Audio\\808\\...  \n",
       "4  E:\\Documents\\My Projects\\Filtr\\Data\\Audio\\808\\...  "
      ]
     },
     "execution_count": 31,
     "metadata": {},
     "output_type": "execute_result"
    }
   ],
   "source": [
    "print(df.shape)\n",
    "df.head()"
   ]
  },
  {
   "cell_type": "code",
   "execution_count": 32,
   "metadata": {},
   "outputs": [
    {
     "data": {
      "text/plain": [
       "FX             1426\n",
       "Synth          1192\n",
       "Percs          1188\n",
       "Kick           1175\n",
       "Snare          1157\n",
       "Instrument     1152\n",
       "hats           1068\n",
       "Vox            1060\n",
       "Cymbals        1060\n",
       "Foley          1026\n",
       "808             976\n",
       "Pads            858\n",
       "Guitar          850\n",
       "Transitions     757\n",
       "Impacts         488\n",
       "Snaps           406\n",
       "Name: class, dtype: int64"
      ]
     },
     "execution_count": 32,
     "metadata": {},
     "output_type": "execute_result"
    }
   ],
   "source": [
    "df['class'].value_counts()"
   ]
  },
  {
   "cell_type": "markdown",
   "metadata": {},
   "source": [
    "# 2) Create a Dataframe with the MFCC data and labels"
   ]
  },
  {
   "cell_type": "code",
   "execution_count": 8,
   "metadata": {},
   "outputs": [],
   "source": [
    "def normalize(data):\n",
    "    return \n",
    "\n",
    "def extract(file, pad = False):\n",
    "    max_pad_len = 174\n",
    "    try:\n",
    "        data, sr = librosa.load(file)\n",
    "        mfccs = librosa.feature.mfcc(data, sr = sr, n_mfcc = 40) \n",
    "        if pad:\n",
    "            # ensure that all files are the of fixed size\n",
    "            pad_width = max_pad_len - mfccs.shape[1]\n",
    "            #mfccs = librosa.util.normalize(np.mean(mfccs.T, axis = 0))\n",
    "            mfccs = np.pad(mfccs, pad_width=((0, 0), (0, pad_width)), mode='constant')\n",
    "            mfccs[0] = librosa.util.normalize(mfccs[0])\n",
    "        else:\n",
    "            mfccs = librosa.util.normalize(np.mean(mfccs.T, axis = 0))\n",
    "        \n",
    "        \n",
    "        \n",
    "    except Exception as e:\n",
    "        print(f\"An error occured when trying to load {os.path.basename(file)} {e}\")\n",
    "        return None\n",
    "    \n",
    "    return mfccs\n",
    "\n",
    "def pad_mfcc(mfcc):\n",
    "\n",
    "    pad_len = 174\n",
    "    mfcc = np.expand_dims(mfcc,axis = 1)\n",
    "    pad_width = pad_len - mfcc.shape[1]\n",
    "    mfccs = np.pad(mfcc, pad_width=((0, 0), (0, pad_width)), mode='constant')\n",
    "    return mfccs \n",
    "    "
   ]
  },
  {
   "cell_type": "code",
   "execution_count": 80,
   "metadata": {},
   "outputs": [
    {
     "name": "stdout",
     "output_type": "stream",
     "text": [
      "Snare\n"
     ]
    },
    {
     "data": {
      "image/png": "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\n",
      "text/plain": [
       "<Figure size 432x288 with 1 Axes>"
      ]
     },
     "metadata": {
      "needs_background": "light"
     },
     "output_type": "display_data"
    }
   ],
   "source": [
    "plot_sample(randint(0,15800))"
   ]
  },
  {
   "cell_type": "code",
   "execution_count": 99,
   "metadata": {},
   "outputs": [],
   "source": [
    "x = extract(r\"E:\\\\Documents\\\\My Projects\\\\Filtr\\\\Data\\\\Reduced_dataset\\\\Kick\\\\sampleDK2542.wav\",pad = False)"
   ]
  },
  {
   "cell_type": "code",
   "execution_count": 102,
   "metadata": {},
   "outputs": [
    {
     "data": {
      "text/plain": [
       "(40,)"
      ]
     },
     "execution_count": 102,
     "metadata": {},
     "output_type": "execute_result"
    }
   ],
   "source": [
    "x.shape\n"
   ]
  },
  {
   "cell_type": "code",
   "execution_count": 110,
   "metadata": {},
   "outputs": [
    {
     "data": {
      "text/plain": [
       "array([[-1.0000000e+00,  0.0000000e+00,  0.0000000e+00, ...,\n",
       "         0.0000000e+00,  0.0000000e+00,  0.0000000e+00],\n",
       "       [ 1.5091038e-01,  0.0000000e+00,  0.0000000e+00, ...,\n",
       "         0.0000000e+00,  0.0000000e+00,  0.0000000e+00],\n",
       "       [ 7.4001677e-02,  0.0000000e+00,  0.0000000e+00, ...,\n",
       "         0.0000000e+00,  0.0000000e+00,  0.0000000e+00],\n",
       "       ...,\n",
       "       [ 3.4117364e-04,  0.0000000e+00,  0.0000000e+00, ...,\n",
       "         0.0000000e+00,  0.0000000e+00,  0.0000000e+00],\n",
       "       [ 2.0461890e-03,  0.0000000e+00,  0.0000000e+00, ...,\n",
       "         0.0000000e+00,  0.0000000e+00,  0.0000000e+00],\n",
       "       [ 2.7357631e-03,  0.0000000e+00,  0.0000000e+00, ...,\n",
       "         0.0000000e+00,  0.0000000e+00,  0.0000000e+00]], dtype=float32)"
      ]
     },
     "execution_count": 110,
     "metadata": {},
     "output_type": "execute_result"
    }
   ],
   "source": [
    "pad_mfcc(x)"
   ]
  },
  {
   "cell_type": "code",
   "execution_count": 10,
   "metadata": {},
   "outputs": [],
   "source": [
    "def mfcc_data(df, pad = False):\n",
    "    '''\n",
    "    Uses the dataframe that has the audio properties to create a new dataframe with the label\n",
    "    and MFCC data.    \n",
    "    '''\n",
    "    features = []\n",
    "    for row, index in df.iterrows():\n",
    "        #print(index['class'],index['path'])\n",
    "        # get the class label\n",
    "        class_label = index['class']\n",
    "        # extract mfcc data\n",
    "        MFCC = extract(index['path'], pad)\n",
    "        features.append([class_label,MFCC])\n",
    "    \n",
    "    mfcc_df = pd.DataFrame(features, columns = ['label','data'])\n",
    "    print(f\"Successful feature extraction from {len(mfcc_df)} files\")\n",
    "    return mfcc_df  \n",
    "\n",
    "def add_mfcc(df):\n",
    "    df = df.copy()\n",
    "    df['Data'] = df['Data'].apply(lambda data: pad_mfcc(data))\n",
    "    return df\n",
    "    \n",
    "    "
   ]
  },
  {
   "cell_type": "code",
   "execution_count": 118,
   "metadata": {},
   "outputs": [
    {
     "name": "stdout",
     "output_type": "stream",
     "text": [
      "Wall time: 41min 31s\n"
     ]
    }
   ],
   "source": [
    "%%time\n",
    "#xdf = add_mfcc(df)"
   ]
  },
  {
   "cell_type": "code",
   "execution_count": 119,
   "metadata": {},
   "outputs": [
    {
     "data": {
      "text/html": [
       "<div>\n",
       "<style scoped>\n",
       "    .dataframe tbody tr th:only-of-type {\n",
       "        vertical-align: middle;\n",
       "    }\n",
       "\n",
       "    .dataframe tbody tr th {\n",
       "        vertical-align: top;\n",
       "    }\n",
       "\n",
       "    .dataframe thead th {\n",
       "        text-align: right;\n",
       "    }\n",
       "</style>\n",
       "<table border=\"1\" class=\"dataframe\">\n",
       "  <thead>\n",
       "    <tr style=\"text-align: right;\">\n",
       "      <th></th>\n",
       "      <th>class</th>\n",
       "      <th>Filename</th>\n",
       "      <th>Duration</th>\n",
       "      <th>Channels</th>\n",
       "      <th>Sample_rate</th>\n",
       "      <th>Bit_depth</th>\n",
       "      <th>path</th>\n",
       "      <th>Data</th>\n",
       "    </tr>\n",
       "  </thead>\n",
       "  <tbody>\n",
       "    <tr>\n",
       "      <th>0</th>\n",
       "      <td>808</td>\n",
       "      <td>Z-808 (Murda).wav</td>\n",
       "      <td>6.86</td>\n",
       "      <td>2</td>\n",
       "      <td>44100</td>\n",
       "      <td>16</td>\n",
       "      <td>E:\\Documents\\My Projects\\Filtr\\Data\\Audio\\808\\...</td>\n",
       "      <td>[-1.0, 0.11656018, 0.11036812, 0.10135804, 0.0...</td>\n",
       "    </tr>\n",
       "    <tr>\n",
       "      <th>1</th>\n",
       "      <td>808</td>\n",
       "      <td>Z-808 (Perfection).wav</td>\n",
       "      <td>6.05</td>\n",
       "      <td>2</td>\n",
       "      <td>44100</td>\n",
       "      <td>16</td>\n",
       "      <td>E:\\Documents\\My Projects\\Filtr\\Data\\Audio\\808\\...</td>\n",
       "      <td>[-1.0, 0.38360828, 0.26151368, 0.15306388, 0.1...</td>\n",
       "    </tr>\n",
       "    <tr>\n",
       "      <th>2</th>\n",
       "      <td>808</td>\n",
       "      <td>Dirty Diana 808.wav</td>\n",
       "      <td>5.15</td>\n",
       "      <td>2</td>\n",
       "      <td>44100</td>\n",
       "      <td>24</td>\n",
       "      <td>E:\\Documents\\My Projects\\Filtr\\Data\\Audio\\808\\...</td>\n",
       "      <td>[-1.0, 0.07704361, 0.047282495, 0.020987691, 0...</td>\n",
       "    </tr>\n",
       "    <tr>\n",
       "      <th>3</th>\n",
       "      <td>808</td>\n",
       "      <td>808 xxxplosive.wav</td>\n",
       "      <td>5.15</td>\n",
       "      <td>2</td>\n",
       "      <td>44100</td>\n",
       "      <td>24</td>\n",
       "      <td>E:\\Documents\\My Projects\\Filtr\\Data\\Audio\\808\\...</td>\n",
       "      <td>[-1.0, 0.33185464, 0.15646341, 0.112119384, 0....</td>\n",
       "    </tr>\n",
       "    <tr>\n",
       "      <th>4</th>\n",
       "      <td>808</td>\n",
       "      <td>808 Wolves.wav</td>\n",
       "      <td>5.15</td>\n",
       "      <td>2</td>\n",
       "      <td>44100</td>\n",
       "      <td>24</td>\n",
       "      <td>E:\\Documents\\My Projects\\Filtr\\Data\\Audio\\808\\...</td>\n",
       "      <td>[-1.0, 0.055139463, 0.04587511, 0.037299566, 0...</td>\n",
       "    </tr>\n",
       "  </tbody>\n",
       "</table>\n",
       "</div>"
      ],
      "text/plain": [
       "  class                Filename  Duration  Channels  Sample_rate  Bit_depth  \\\n",
       "0   808       Z-808 (Murda).wav      6.86         2        44100         16   \n",
       "1   808  Z-808 (Perfection).wav      6.05         2        44100         16   \n",
       "2   808     Dirty Diana 808.wav      5.15         2        44100         24   \n",
       "3   808      808 xxxplosive.wav      5.15         2        44100         24   \n",
       "4   808          808 Wolves.wav      5.15         2        44100         24   \n",
       "\n",
       "                                                path  \\\n",
       "0  E:\\Documents\\My Projects\\Filtr\\Data\\Audio\\808\\...   \n",
       "1  E:\\Documents\\My Projects\\Filtr\\Data\\Audio\\808\\...   \n",
       "2  E:\\Documents\\My Projects\\Filtr\\Data\\Audio\\808\\...   \n",
       "3  E:\\Documents\\My Projects\\Filtr\\Data\\Audio\\808\\...   \n",
       "4  E:\\Documents\\My Projects\\Filtr\\Data\\Audio\\808\\...   \n",
       "\n",
       "                                                Data  \n",
       "0  [-1.0, 0.11656018, 0.11036812, 0.10135804, 0.0...  \n",
       "1  [-1.0, 0.38360828, 0.26151368, 0.15306388, 0.1...  \n",
       "2  [-1.0, 0.07704361, 0.047282495, 0.020987691, 0...  \n",
       "3  [-1.0, 0.33185464, 0.15646341, 0.112119384, 0....  \n",
       "4  [-1.0, 0.055139463, 0.04587511, 0.037299566, 0...  "
      ]
     },
     "execution_count": 119,
     "metadata": {},
     "output_type": "execute_result"
    }
   ],
   "source": [
    "xdf.head()"
   ]
  },
  {
   "cell_type": "code",
   "execution_count": 120,
   "metadata": {},
   "outputs": [],
   "source": [
    "xdf.to_pickle(\"E:\\Documents\\My Projects\\Filtr\\Data\\Serialized\\MLP_large.pkl\")"
   ]
  },
  {
   "cell_type": "markdown",
   "metadata": {},
   "source": [
    "# Load the saved files"
   ]
  },
  {
   "cell_type": "code",
   "execution_count": 3,
   "metadata": {},
   "outputs": [],
   "source": [
    "df = pd.read_csv(r'E:\\Documents\\My Projects\\Filtr\\Data\\csv\\audio_data.csv').drop('Unnamed: 0', axis = 1)\n",
    "xdf = pd.read_pickle(r'E:\\Documents\\My Projects\\Filtr\\Data\\Serialized\\MLP_large.pkl')"
   ]
  },
  {
   "cell_type": "code",
   "execution_count": 4,
   "metadata": {},
   "outputs": [
    {
     "data": {
      "text/html": [
       "<div>\n",
       "<style scoped>\n",
       "    .dataframe tbody tr th:only-of-type {\n",
       "        vertical-align: middle;\n",
       "    }\n",
       "\n",
       "    .dataframe tbody tr th {\n",
       "        vertical-align: top;\n",
       "    }\n",
       "\n",
       "    .dataframe thead th {\n",
       "        text-align: right;\n",
       "    }\n",
       "</style>\n",
       "<table border=\"1\" class=\"dataframe\">\n",
       "  <thead>\n",
       "    <tr style=\"text-align: right;\">\n",
       "      <th></th>\n",
       "      <th>class</th>\n",
       "      <th>Filename</th>\n",
       "      <th>Duration</th>\n",
       "      <th>Channels</th>\n",
       "      <th>Sample_rate</th>\n",
       "      <th>Bit_depth</th>\n",
       "      <th>path</th>\n",
       "      <th>Data</th>\n",
       "    </tr>\n",
       "  </thead>\n",
       "  <tbody>\n",
       "    <tr>\n",
       "      <th>0</th>\n",
       "      <td>808</td>\n",
       "      <td>Z-808 (Murda).wav</td>\n",
       "      <td>6.86</td>\n",
       "      <td>2</td>\n",
       "      <td>44100</td>\n",
       "      <td>16</td>\n",
       "      <td>E:\\Documents\\My Projects\\Filtr\\Data\\Audio\\808\\...</td>\n",
       "      <td>[-1.0, 0.11656018, 0.11036812, 0.10135804, 0.0...</td>\n",
       "    </tr>\n",
       "    <tr>\n",
       "      <th>1</th>\n",
       "      <td>808</td>\n",
       "      <td>Z-808 (Perfection).wav</td>\n",
       "      <td>6.05</td>\n",
       "      <td>2</td>\n",
       "      <td>44100</td>\n",
       "      <td>16</td>\n",
       "      <td>E:\\Documents\\My Projects\\Filtr\\Data\\Audio\\808\\...</td>\n",
       "      <td>[-1.0, 0.38360828, 0.26151368, 0.15306388, 0.1...</td>\n",
       "    </tr>\n",
       "    <tr>\n",
       "      <th>2</th>\n",
       "      <td>808</td>\n",
       "      <td>Dirty Diana 808.wav</td>\n",
       "      <td>5.15</td>\n",
       "      <td>2</td>\n",
       "      <td>44100</td>\n",
       "      <td>24</td>\n",
       "      <td>E:\\Documents\\My Projects\\Filtr\\Data\\Audio\\808\\...</td>\n",
       "      <td>[-1.0, 0.07704361, 0.047282495, 0.020987691, 0...</td>\n",
       "    </tr>\n",
       "    <tr>\n",
       "      <th>3</th>\n",
       "      <td>808</td>\n",
       "      <td>808 xxxplosive.wav</td>\n",
       "      <td>5.15</td>\n",
       "      <td>2</td>\n",
       "      <td>44100</td>\n",
       "      <td>24</td>\n",
       "      <td>E:\\Documents\\My Projects\\Filtr\\Data\\Audio\\808\\...</td>\n",
       "      <td>[-1.0, 0.33185464, 0.15646341, 0.112119384, 0....</td>\n",
       "    </tr>\n",
       "    <tr>\n",
       "      <th>4</th>\n",
       "      <td>808</td>\n",
       "      <td>808 Wolves.wav</td>\n",
       "      <td>5.15</td>\n",
       "      <td>2</td>\n",
       "      <td>44100</td>\n",
       "      <td>24</td>\n",
       "      <td>E:\\Documents\\My Projects\\Filtr\\Data\\Audio\\808\\...</td>\n",
       "      <td>[-1.0, 0.055139463, 0.04587511, 0.037299566, 0...</td>\n",
       "    </tr>\n",
       "  </tbody>\n",
       "</table>\n",
       "</div>"
      ],
      "text/plain": [
       "  class                Filename  Duration  Channels  Sample_rate  Bit_depth  \\\n",
       "0   808       Z-808 (Murda).wav      6.86         2        44100         16   \n",
       "1   808  Z-808 (Perfection).wav      6.05         2        44100         16   \n",
       "2   808     Dirty Diana 808.wav      5.15         2        44100         24   \n",
       "3   808      808 xxxplosive.wav      5.15         2        44100         24   \n",
       "4   808          808 Wolves.wav      5.15         2        44100         24   \n",
       "\n",
       "                                                path  \\\n",
       "0  E:\\Documents\\My Projects\\Filtr\\Data\\Audio\\808\\...   \n",
       "1  E:\\Documents\\My Projects\\Filtr\\Data\\Audio\\808\\...   \n",
       "2  E:\\Documents\\My Projects\\Filtr\\Data\\Audio\\808\\...   \n",
       "3  E:\\Documents\\My Projects\\Filtr\\Data\\Audio\\808\\...   \n",
       "4  E:\\Documents\\My Projects\\Filtr\\Data\\Audio\\808\\...   \n",
       "\n",
       "                                                Data  \n",
       "0  [-1.0, 0.11656018, 0.11036812, 0.10135804, 0.0...  \n",
       "1  [-1.0, 0.38360828, 0.26151368, 0.15306388, 0.1...  \n",
       "2  [-1.0, 0.07704361, 0.047282495, 0.020987691, 0...  \n",
       "3  [-1.0, 0.33185464, 0.15646341, 0.112119384, 0....  \n",
       "4  [-1.0, 0.055139463, 0.04587511, 0.037299566, 0...  "
      ]
     },
     "execution_count": 4,
     "metadata": {},
     "output_type": "execute_result"
    }
   ],
   "source": [
    "xdf.head()"
   ]
  },
  {
   "cell_type": "code",
   "execution_count": 11,
   "metadata": {},
   "outputs": [
    {
     "name": "stdout",
     "output_type": "stream",
     "text": [
      "Wall time: 1.07 s\n"
     ]
    }
   ],
   "source": [
    "%%time\n",
    "xdf = add_mfcc(xdf)"
   ]
  },
  {
   "cell_type": "code",
   "execution_count": 12,
=======
   "execution_count": 272,
>>>>>>> d1af745449d8cd42809b5df53c777c42e70868ee
   "metadata": {},
   "outputs": [
    {
     "data": {
<<<<<<< HEAD
      "text/html": [
       "<div>\n",
       "<style scoped>\n",
       "    .dataframe tbody tr th:only-of-type {\n",
       "        vertical-align: middle;\n",
       "    }\n",
       "\n",
       "    .dataframe tbody tr th {\n",
       "        vertical-align: top;\n",
       "    }\n",
       "\n",
       "    .dataframe thead th {\n",
       "        text-align: right;\n",
       "    }\n",
       "</style>\n",
       "<table border=\"1\" class=\"dataframe\">\n",
       "  <thead>\n",
       "    <tr style=\"text-align: right;\">\n",
       "      <th></th>\n",
       "      <th>class</th>\n",
       "      <th>Filename</th>\n",
       "      <th>Duration</th>\n",
       "      <th>Channels</th>\n",
       "      <th>Sample_rate</th>\n",
       "      <th>Bit_depth</th>\n",
       "      <th>path</th>\n",
       "      <th>Data</th>\n",
       "    </tr>\n",
       "  </thead>\n",
       "  <tbody>\n",
       "    <tr>\n",
       "      <th>0</th>\n",
       "      <td>808</td>\n",
       "      <td>Z-808 (Murda).wav</td>\n",
       "      <td>6.86</td>\n",
       "      <td>2</td>\n",
       "      <td>44100</td>\n",
       "      <td>16</td>\n",
       "      <td>E:\\Documents\\My Projects\\Filtr\\Data\\Audio\\808\\...</td>\n",
       "      <td>[[-1.0, 0.0, 0.0, 0.0, 0.0, 0.0, 0.0, 0.0, 0.0...</td>\n",
       "    </tr>\n",
       "    <tr>\n",
       "      <th>1</th>\n",
       "      <td>808</td>\n",
       "      <td>Z-808 (Perfection).wav</td>\n",
       "      <td>6.05</td>\n",
       "      <td>2</td>\n",
       "      <td>44100</td>\n",
       "      <td>16</td>\n",
       "      <td>E:\\Documents\\My Projects\\Filtr\\Data\\Audio\\808\\...</td>\n",
       "      <td>[[-1.0, 0.0, 0.0, 0.0, 0.0, 0.0, 0.0, 0.0, 0.0...</td>\n",
       "    </tr>\n",
       "    <tr>\n",
       "      <th>2</th>\n",
       "      <td>808</td>\n",
       "      <td>Dirty Diana 808.wav</td>\n",
       "      <td>5.15</td>\n",
       "      <td>2</td>\n",
       "      <td>44100</td>\n",
       "      <td>24</td>\n",
       "      <td>E:\\Documents\\My Projects\\Filtr\\Data\\Audio\\808\\...</td>\n",
       "      <td>[[-1.0, 0.0, 0.0, 0.0, 0.0, 0.0, 0.0, 0.0, 0.0...</td>\n",
       "    </tr>\n",
       "    <tr>\n",
       "      <th>3</th>\n",
       "      <td>808</td>\n",
       "      <td>808 xxxplosive.wav</td>\n",
       "      <td>5.15</td>\n",
       "      <td>2</td>\n",
       "      <td>44100</td>\n",
       "      <td>24</td>\n",
       "      <td>E:\\Documents\\My Projects\\Filtr\\Data\\Audio\\808\\...</td>\n",
       "      <td>[[-1.0, 0.0, 0.0, 0.0, 0.0, 0.0, 0.0, 0.0, 0.0...</td>\n",
       "    </tr>\n",
       "    <tr>\n",
       "      <th>4</th>\n",
       "      <td>808</td>\n",
       "      <td>808 Wolves.wav</td>\n",
       "      <td>5.15</td>\n",
       "      <td>2</td>\n",
       "      <td>44100</td>\n",
       "      <td>24</td>\n",
       "      <td>E:\\Documents\\My Projects\\Filtr\\Data\\Audio\\808\\...</td>\n",
       "      <td>[[-1.0, 0.0, 0.0, 0.0, 0.0, 0.0, 0.0, 0.0, 0.0...</td>\n",
       "    </tr>\n",
       "  </tbody>\n",
       "</table>\n",
       "</div>"
      ],
      "text/plain": [
       "  class                Filename  Duration  Channels  Sample_rate  Bit_depth  \\\n",
       "0   808       Z-808 (Murda).wav      6.86         2        44100         16   \n",
       "1   808  Z-808 (Perfection).wav      6.05         2        44100         16   \n",
       "2   808     Dirty Diana 808.wav      5.15         2        44100         24   \n",
       "3   808      808 xxxplosive.wav      5.15         2        44100         24   \n",
       "4   808          808 Wolves.wav      5.15         2        44100         24   \n",
       "\n",
       "                                                path  \\\n",
       "0  E:\\Documents\\My Projects\\Filtr\\Data\\Audio\\808\\...   \n",
       "1  E:\\Documents\\My Projects\\Filtr\\Data\\Audio\\808\\...   \n",
       "2  E:\\Documents\\My Projects\\Filtr\\Data\\Audio\\808\\...   \n",
       "3  E:\\Documents\\My Projects\\Filtr\\Data\\Audio\\808\\...   \n",
       "4  E:\\Documents\\My Projects\\Filtr\\Data\\Audio\\808\\...   \n",
       "\n",
       "                                                Data  \n",
       "0  [[-1.0, 0.0, 0.0, 0.0, 0.0, 0.0, 0.0, 0.0, 0.0...  \n",
       "1  [[-1.0, 0.0, 0.0, 0.0, 0.0, 0.0, 0.0, 0.0, 0.0...  \n",
       "2  [[-1.0, 0.0, 0.0, 0.0, 0.0, 0.0, 0.0, 0.0, 0.0...  \n",
       "3  [[-1.0, 0.0, 0.0, 0.0, 0.0, 0.0, 0.0, 0.0, 0.0...  \n",
       "4  [[-1.0, 0.0, 0.0, 0.0, 0.0, 0.0, 0.0, 0.0, 0.0...  "
      ]
     },
     "execution_count": 12,
=======
      "text/plain": [
       "Snare    5374\n",
       "Kick     3117\n",
       "Name: label, dtype: int64"
      ]
     },
     "execution_count": 272,
>>>>>>> d1af745449d8cd42809b5df53c777c42e70868ee
     "metadata": {},
     "output_type": "execute_result"
    }
   ],
   "source": [
<<<<<<< HEAD
    "xdf.head()"
   ]
  },
  {
   "cell_type": "markdown",
   "metadata": {},
   "source": [
    "# Save The CNN data\n"
   ]
  },
  {
   "cell_type": "code",
   "execution_count": 16,
   "metadata": {},
   "outputs": [],
   "source": [
    "xdf.to_pickle(\"E:\\Documents\\My Projects\\Filtr\\Data\\Serialized\\CNN_data.pkl\")"
=======
    "xdf[\"label\"].value_counts()"
>>>>>>> d1af745449d8cd42809b5df53c777c42e70868ee
   ]
  },
  {
   "cell_type": "code",
   "execution_count": null,
   "metadata": {},
   "outputs": [],
   "source": []
  }
 ],
 "metadata": {
  "kernelspec": {
   "display_name": "Python 3",
   "language": "python",
   "name": "python3"
  },
  "language_info": {
   "codemirror_mode": {
    "name": "ipython",
    "version": 3
   },
   "file_extension": ".py",
   "mimetype": "text/x-python",
   "name": "python",
   "nbconvert_exporter": "python",
   "pygments_lexer": "ipython3",
   "version": "3.7.4"
  }
 },
 "nbformat": 4,
<<<<<<< HEAD
 "nbformat_minor": 4
=======
 "nbformat_minor": 2
>>>>>>> d1af745449d8cd42809b5df53c777c42e70868ee
}
