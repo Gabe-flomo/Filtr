{
 "cells": [
  {
   "cell_type": "code",
   "execution_count": 126,
   "metadata": {},
   "outputs": [
    {
     "name": "stdout",
     "output_type": "stream",
     "text": [
      "Wall time: 0 ns\n"
     ]
    }
   ],
   "source": [
    "%%time\n",
    "from tensorflow.keras.callbacks import TensorBoard\n",
    "from tensorflow.keras.models import Sequential\n",
    "from tensorflow.keras.layers import Dense, Dropout, Activation, Flatten, Conv2D, MaxPooling2D\n",
    "from sklearn.model_selection import train_test_split\n",
    "import matplotlib.pyplot as plt\n",
    "import numpy as np\n",
    "import pickle\n",
    "import time\n",
    "import librosa.display\n",
    "import cv2"
   ]
  },
  {
   "cell_type": "code",
   "execution_count": 127,
   "metadata": {},
   "outputs": [
    {
     "data": {
      "text/plain": [
       "(5800, 128, 128)"
      ]
     },
     "execution_count": 127,
     "metadata": {},
     "output_type": "execute_result"
    }
   ],
   "source": [
    "import os\n",
    "\n",
    "os.chdir(\"D:\\\\Documents\\\\Atom\\\\myrepos\\\\Filtr\\\\Filtr\")\n",
    "\n",
    "\n",
    "\n",
    "with open('D:\\\\Documents\\\\Atom\\\\myrepos\\\\Filtr\\\\Filtr\\\\X.pickle','rb') as file:\n",
    "    X = pickle.load(file)\n",
    "\n",
    "with open('D:\\\\Documents\\\\Atom\\\\myrepos\\\\Filtr\\\\Filtr\\\\y.pickle','rb') as file:\n",
    "    y = pickle.load(file)\n",
    "\n",
    "#y = np.array(y)\n",
    "# normalize x\n",
    "X = X/255\n",
    "#X = np.expand_dims(X,axis = 3)\n",
    "input_shape = X.shape\n",
    "input_shape"
   ]
  },
  {
   "cell_type": "code",
   "execution_count": 3,
   "metadata": {},
   "outputs": [
    {
     "data": {
      "image/png": "[encoded data removed]",
      "text/plain": [
       "<Figure size 432x288 with 1 Axes>"
      ]
     },
     "metadata": {
      "needs_background": "light"
     },
     "output_type": "display_data"
    }
   ],
   "source": [
    "img_data = X[0]\n",
    "img_data\n",
    "plt.imshow(img_data,cmap = 'gray')\n",
    "plt.show()"
   ]
  },
  {
   "cell_type": "code",
   "execution_count": null,
   "metadata": {},
   "outputs": [],
   "source": []
  },
  {
   "cell_type": "code",
   "execution_count": 22,
   "metadata": {},
   "outputs": [],
   "source": [
    "import os\n",
    "Name = f\"Kick-Snare-CNN-{time.time()}\"\n",
    "logdir = os.path.join('logs',Name)\n",
    "tensorboard = TensorBoard(logdir)"
   ]
  },
  {
   "cell_type": "code",
   "execution_count": 118,
   "metadata": {},
   "outputs": [],
   "source": [
    "X_train, X_test, y_train, y_test = train_test_split(X, y, test_size=0.2)"
   ]
  },
  {
   "cell_type": "code",
   "execution_count": 119,
   "metadata": {
    "collapsed": true,
    "jupyter": {
     "outputs_hidden": true
    }
   },
   "outputs": [
    {
     "name": "stdout",
     "output_type": "stream",
     "text": [
      "Reshaped\n",
      "X_train.shape: (4640, 128, 128, 1)\n",
      "X_test.shape: (1160, 128, 128, 1)\n"
     ]
    },
    {
     "data": {
      "text/plain": [
       "array([[[[3.9215689e-03],\n",
       "         [2.1227784e-03],\n",
       "         [1.8581651e-04],\n",
       "         ...,\n",
       "         [0.0000000e+00],\n",
       "         [0.0000000e+00],\n",
       "         [0.0000000e+00]],\n",
       "\n",
       "        [[3.9215689e-03],\n",
       "         [2.1230669e-03],\n",
       "         [1.9574109e-04],\n",
       "         ...,\n",
       "         [0.0000000e+00],\n",
       "         [0.0000000e+00],\n",
       "         [0.0000000e+00]],\n",
       "\n",
       "        [[3.9215689e-03],\n",
       "         [2.1225943e-03],\n",
       "         [1.7142262e-04],\n",
       "         ...,\n",
       "         [0.0000000e+00],\n",
       "         [0.0000000e+00],\n",
       "         [0.0000000e+00]],\n",
       "\n",
       "        ...,\n",
       "\n",
       "        [[3.9215689e-03],\n",
       "         [2.2334610e-03],\n",
       "         [1.3618376e-03],\n",
       "         ...,\n",
       "         [0.0000000e+00],\n",
       "         [0.0000000e+00],\n",
       "         [0.0000000e+00]],\n",
       "\n",
       "        [[3.9215689e-03],\n",
       "         [2.2423095e-03],\n",
       "         [8.1976003e-04],\n",
       "         ...,\n",
       "         [7.1336649e-04],\n",
       "         [7.1336649e-04],\n",
       "         [7.1336649e-04]],\n",
       "\n",
       "        [[3.9215689e-03],\n",
       "         [3.9215689e-03],\n",
       "         [3.9215689e-03],\n",
       "         ...,\n",
       "         [3.9215689e-03],\n",
       "         [3.9215689e-03],\n",
       "         [3.9215689e-03]]],\n",
       "\n",
       "\n",
       "       [[[3.9215689e-03],\n",
       "         [2.1079250e-03],\n",
       "         [0.0000000e+00],\n",
       "         ...,\n",
       "         [0.0000000e+00],\n",
       "         [0.0000000e+00],\n",
       "         [0.0000000e+00]],\n",
       "\n",
       "        [[3.9215689e-03],\n",
       "         [2.1079250e-03],\n",
       "         [0.0000000e+00],\n",
       "         ...,\n",
       "         [0.0000000e+00],\n",
       "         [0.0000000e+00],\n",
       "         [0.0000000e+00]],\n",
       "\n",
       "        [[3.9215689e-03],\n",
       "         [2.1079250e-03],\n",
       "         [0.0000000e+00],\n",
       "         ...,\n",
       "         [0.0000000e+00],\n",
       "         [0.0000000e+00],\n",
       "         [0.0000000e+00]],\n",
       "\n",
       "        ...,\n",
       "\n",
       "        [[3.9215689e-03],\n",
       "         [2.3865220e-03],\n",
       "         [3.0331970e-03],\n",
       "         ...,\n",
       "         [0.0000000e+00],\n",
       "         [0.0000000e+00],\n",
       "         [0.0000000e+00]],\n",
       "\n",
       "        [[3.9215689e-03],\n",
       "         [2.2542672e-03],\n",
       "         [9.5033506e-04],\n",
       "         ...,\n",
       "         [7.1336649e-04],\n",
       "         [7.1336649e-04],\n",
       "         [7.1336649e-04]],\n",
       "\n",
       "        [[3.9215689e-03],\n",
       "         [3.9215689e-03],\n",
       "         [3.9215689e-03],\n",
       "         ...,\n",
       "         [3.9215689e-03],\n",
       "         [3.9215689e-03],\n",
       "         [3.9215689e-03]]],\n",
       "\n",
       "\n",
       "       [[[3.9215689e-03],\n",
       "         [2.1450990e-03],\n",
       "         [4.1473459e-04],\n",
       "         ...,\n",
       "         [0.0000000e+00],\n",
       "         [0.0000000e+00],\n",
       "         [0.0000000e+00]],\n",
       "\n",
       "        [[3.9215689e-03],\n",
       "         [2.1402419e-03],\n",
       "         [3.5192771e-04],\n",
       "         ...,\n",
       "         [0.0000000e+00],\n",
       "         [0.0000000e+00],\n",
       "         [0.0000000e+00]],\n",
       "\n",
       "        [[3.9215689e-03],\n",
       "         [2.1210830e-03],\n",
       "         [1.3400456e-04],\n",
       "         ...,\n",
       "         [0.0000000e+00],\n",
       "         [0.0000000e+00],\n",
       "         [0.0000000e+00]],\n",
       "\n",
       "        ...,\n",
       "\n",
       "        [[3.9215689e-03],\n",
       "         [2.2130276e-03],\n",
       "         [1.1577802e-03],\n",
       "         ...,\n",
       "         [0.0000000e+00],\n",
       "         [0.0000000e+00],\n",
       "         [0.0000000e+00]],\n",
       "\n",
       "        [[3.9215689e-03],\n",
       "         [2.2407128e-03],\n",
       "         [8.0381805e-04],\n",
       "         ...,\n",
       "         [7.1336649e-04],\n",
       "         [7.1336649e-04],\n",
       "         [7.1336649e-04]],\n",
       "\n",
       "        [[3.9215689e-03],\n",
       "         [3.9215689e-03],\n",
       "         [3.9215689e-03],\n",
       "         ...,\n",
       "         [3.9215689e-03],\n",
       "         [3.9215689e-03],\n",
       "         [3.9215689e-03]]],\n",
       "\n",
       "\n",
       "       ...,\n",
       "\n",
       "\n",
       "       [[[3.9215689e-03],\n",
       "         [2.1311375e-03],\n",
       "         [2.7135666e-04],\n",
       "         ...,\n",
       "         [0.0000000e+00],\n",
       "         [0.0000000e+00],\n",
       "         [0.0000000e+00]],\n",
       "\n",
       "        [[3.9215689e-03],\n",
       "         [2.1200550e-03],\n",
       "         [1.2353543e-04],\n",
       "         ...,\n",
       "         [0.0000000e+00],\n",
       "         [0.0000000e+00],\n",
       "         [0.0000000e+00]],\n",
       "\n",
       "        [[3.9215689e-03],\n",
       "         [2.1079250e-03],\n",
       "         [0.0000000e+00],\n",
       "         ...,\n",
       "         [0.0000000e+00],\n",
       "         [0.0000000e+00],\n",
       "         [0.0000000e+00]],\n",
       "\n",
       "        ...,\n",
       "\n",
       "        [[3.9215689e-03],\n",
       "         [2.2472411e-03],\n",
       "         [1.5234681e-03],\n",
       "         ...,\n",
       "         [1.1732688e-03],\n",
       "         [1.1732688e-03],\n",
       "         [1.1732688e-03]],\n",
       "\n",
       "        [[3.9215689e-03],\n",
       "         [2.2433859e-03],\n",
       "         [8.3238748e-04],\n",
       "         ...,\n",
       "         [8.0502813e-04],\n",
       "         [8.0502813e-04],\n",
       "         [8.0502813e-04]],\n",
       "\n",
       "        [[3.9215689e-03],\n",
       "         [3.9215689e-03],\n",
       "         [3.9215689e-03],\n",
       "         ...,\n",
       "         [3.9215689e-03],\n",
       "         [3.9215689e-03],\n",
       "         [3.9215689e-03]]],\n",
       "\n",
       "\n",
       "       [[[3.9215689e-03],\n",
       "         [2.2003504e-03],\n",
       "         [1.0206955e-03],\n",
       "         ...,\n",
       "         [0.0000000e+00],\n",
       "         [0.0000000e+00],\n",
       "         [0.0000000e+00]],\n",
       "\n",
       "        [[3.9215689e-03],\n",
       "         [2.2069667e-03],\n",
       "         [1.0752856e-03],\n",
       "         ...,\n",
       "         [0.0000000e+00],\n",
       "         [0.0000000e+00],\n",
       "         [0.0000000e+00]],\n",
       "\n",
       "        [[3.9215689e-03],\n",
       "         [2.2079123e-03],\n",
       "         [1.1089992e-03],\n",
       "         ...,\n",
       "         [0.0000000e+00],\n",
       "         [0.0000000e+00],\n",
       "         [0.0000000e+00]],\n",
       "\n",
       "        ...,\n",
       "\n",
       "        [[3.9215689e-03],\n",
       "         [2.2375509e-03],\n",
       "         [1.4127570e-03],\n",
       "         ...,\n",
       "         [2.5266843e-05],\n",
       "         [2.5266843e-05],\n",
       "         [2.5266843e-05]],\n",
       "\n",
       "        [[3.9215689e-03],\n",
       "         [2.2426290e-03],\n",
       "         [8.2373811e-04],\n",
       "         ...,\n",
       "         [7.1534049e-04],\n",
       "         [7.1534049e-04],\n",
       "         [7.1534049e-04]],\n",
       "\n",
       "        [[3.9215689e-03],\n",
       "         [3.9215689e-03],\n",
       "         [3.9215689e-03],\n",
       "         ...,\n",
       "         [3.9215689e-03],\n",
       "         [3.9215689e-03],\n",
       "         [3.9215689e-03]]],\n",
       "\n",
       "\n",
       "       [[[3.9215689e-03],\n",
       "         [2.1607839e-03],\n",
       "         [5.7518977e-04],\n",
       "         ...,\n",
       "         [0.0000000e+00],\n",
       "         [0.0000000e+00],\n",
       "         [0.0000000e+00]],\n",
       "\n",
       "        [[3.9215689e-03],\n",
       "         [2.1610537e-03],\n",
       "         [5.6799944e-04],\n",
       "         ...,\n",
       "         [0.0000000e+00],\n",
       "         [0.0000000e+00],\n",
       "         [0.0000000e+00]],\n",
       "\n",
       "        [[3.9215689e-03],\n",
       "         [2.1489370e-03],\n",
       "         [4.6700999e-04],\n",
       "         ...,\n",
       "         [0.0000000e+00],\n",
       "         [0.0000000e+00],\n",
       "         [0.0000000e+00]],\n",
       "\n",
       "        ...,\n",
       "\n",
       "        [[3.9215689e-03],\n",
       "         [2.2073996e-03],\n",
       "         [1.0835256e-03],\n",
       "         ...,\n",
       "         [0.0000000e+00],\n",
       "         [0.0000000e+00],\n",
       "         [0.0000000e+00]],\n",
       "\n",
       "        [[3.9215689e-03],\n",
       "         [2.2402734e-03],\n",
       "         [7.9801690e-04],\n",
       "         ...,\n",
       "         [7.1336649e-04],\n",
       "         [7.1336649e-04],\n",
       "         [7.1336649e-04]],\n",
       "\n",
       "        [[3.9215689e-03],\n",
       "         [3.9215689e-03],\n",
       "         [3.9215689e-03],\n",
       "         ...,\n",
       "         [3.9215689e-03],\n",
       "         [3.9215689e-03],\n",
       "         [3.9215689e-03]]]], dtype=float32)"
      ]
     },
     "execution_count": 119,
     "metadata": {},
     "output_type": "execute_result"
    }
   ],
   "source": [
    "X_train = X_train.reshape(X_train.shape[0],128,128,1)\n",
    "X_test = X_test.reshape(X_test.shape[0],128,128,1)\n",
    "print(\"Reshaped\")\n",
    "print(f\"X_train.shape: {X_train.shape}\")\n",
    "print(f\"X_test.shape: {X_test.shape}\")\n",
    "X_train"
   ]
  },
  {
   "cell_type": "code",
   "execution_count": 120,
   "metadata": {},
   "outputs": [
    {
     "data": {
      "image/png": "[encoded data removed]",
      "text/plain": [
       "<Figure size 432x288 with 1 Axes>"
      ]
     },
     "metadata": {
      "needs_background": "light"
     },
     "output_type": "display_data"
    }
   ],
   "source": [
    "plt.imshow(X_train[867][98])\n",
    "plt.show()"
   ]
  },
  {
   "cell_type": "code",
   "execution_count": 98,
   "metadata": {},
   "outputs": [
    {
     "name": "stdout",
     "output_type": "stream",
     "text": [
      "_________________________________________________________________\n",
      "Layer (type)                 Output Shape              Param #   \n",
      "=================================================================\n",
      "conv2d_9 (Conv2D)            (None, 126, 126, 128)     1280      \n",
      "_________________________________________________________________\n",
      "activation_15 (Activation)   (None, 126, 126, 128)     0         \n",
      "_________________________________________________________________\n",
      "max_pooling2d_9 (MaxPooling2 (None, 63, 63, 128)       0         \n",
      "_________________________________________________________________\n",
      "conv2d_10 (Conv2D)           (None, 61, 61, 96)        110688    \n",
      "_________________________________________________________________\n",
      "activation_16 (Activation)   (None, 61, 61, 96)        0         \n",
      "_________________________________________________________________\n",
      "max_pooling2d_10 (MaxPooling (None, 30, 30, 96)        0         \n",
      "_________________________________________________________________\n",
      "conv2d_11 (Conv2D)           (None, 28, 28, 96)        83040     \n",
      "_________________________________________________________________\n",
      "activation_17 (Activation)   (None, 28, 28, 96)        0         \n",
      "_________________________________________________________________\n",
      "max_pooling2d_11 (MaxPooling (None, 14, 14, 96)        0         \n",
      "_________________________________________________________________\n",
      "flatten_3 (Flatten)          (None, 18816)             0         \n",
      "_________________________________________________________________\n",
      "dense_6 (Dense)              (None, 64)                1204288   \n",
      "_________________________________________________________________\n",
      "activation_18 (Activation)   (None, 64)                0         \n",
      "_________________________________________________________________\n",
      "dropout_3 (Dropout)          (None, 64)                0         \n",
      "_________________________________________________________________\n",
      "dense_7 (Dense)              (None, 1)                 65        \n",
      "_________________________________________________________________\n",
      "activation_19 (Activation)   (None, 1)                 0         \n",
      "=================================================================\n",
      "Total params: 1,399,361\n",
      "Trainable params: 1,399,361\n",
      "Non-trainable params: 0\n",
      "_________________________________________________________________\n"
     ]
    }
   ],
   "source": [
    "# set up CNN Model\n",
    "model = Sequential()\n",
    "model.add(Conv2D(128,(3,3),input_shape=(128,128,1)))\n",
    "model.add(Activation(\"relu\"))\n",
    "model.add(MaxPooling2D(pool_size = (2,2)))\n",
    "\n",
    "model.add(Conv2D(96,(3,3)))\n",
    "model.add(Activation(\"relu\"))\n",
    "#model.add(Dropout(0.5))\n",
    "model.add(MaxPooling2D(pool_size = (2,2)))\n",
    "\n",
    "model.add(Conv2D(96,(3,3)))\n",
    "model.add(Activation(\"relu\"))\n",
    "#model.add(Dropout(0.5))\n",
    "model.add(MaxPooling2D(pool_size = (2,2)))\n",
    "\n",
    "model.add(Flatten())\n",
    "model.add(Dense(64))\n",
    "model.add(Activation(\"relu\"))\n",
    "model.add(Dropout(0.5))\n",
    "\n",
    "model.add(Dense(1))\n",
    "model.add(Activation(\"softmax\"))\n",
    "\n",
    "model.compile(loss = 'binary_crossentropy',\n",
    "             optimizer = 'adam',\n",
    "             metrics = [\"accuracy\"])\n",
    "\n",
    "model.summary()"
   ]
  },
  {
   "cell_type": "code",
   "execution_count": 99,
   "metadata": {},
   "outputs": [],
   "source": [
    "#%tensorboard --logdir logs"
   ]
  },
  {
   "cell_type": "code",
   "execution_count": 121,
   "metadata": {},
   "outputs": [
    {
     "name": "stdout",
     "output_type": "stream",
     "text": [
      "Train on 4640 samples, validate on 1160 samples\n",
      "1536/4640 [========>.....................] - ETA: 3:55 - loss: 8.1788 - acc: 0.4870"
     ]
    },
    {
     "ename": "KeyboardInterrupt",
     "evalue": "",
     "output_type": "error",
     "traceback": [
      "\u001b[1;31m---------------------------------------------------------------------------\u001b[0m",
      "\u001b[1;31mKeyboardInterrupt\u001b[0m                         Traceback (most recent call last)",
      "\u001b[1;32m<ipython-input-121-6668ef54ccd2>\u001b[0m in \u001b[0;36m<module>\u001b[1;34m\u001b[0m\n\u001b[1;32m----> 1\u001b[1;33m \u001b[0mmodel\u001b[0m\u001b[1;33m.\u001b[0m\u001b[0mfit\u001b[0m\u001b[1;33m(\u001b[0m\u001b[0mX_train\u001b[0m\u001b[1;33m,\u001b[0m\u001b[0my_train\u001b[0m\u001b[1;33m,\u001b[0m\u001b[0mbatch_size\u001b[0m \u001b[1;33m=\u001b[0m \u001b[1;36m32\u001b[0m\u001b[1;33m,\u001b[0m \u001b[0mepochs\u001b[0m \u001b[1;33m=\u001b[0m \u001b[1;36m1\u001b[0m\u001b[1;33m,\u001b[0m\u001b[0mvalidation_data\u001b[0m \u001b[1;33m=\u001b[0m \u001b[1;33m(\u001b[0m\u001b[0mX_test\u001b[0m\u001b[1;33m,\u001b[0m\u001b[0my_test\u001b[0m\u001b[1;33m)\u001b[0m\u001b[1;33m)\u001b[0m\u001b[1;33m\u001b[0m\u001b[1;33m\u001b[0m\u001b[0m\n\u001b[0m",
      "\u001b[1;32mD:\\Documents\\Anaconda\\lib\\site-packages\\tensorflow\\python\\keras\\engine\\training.py\u001b[0m in \u001b[0;36mfit\u001b[1;34m(self, x, y, batch_size, epochs, verbose, callbacks, validation_split, validation_data, shuffle, class_weight, sample_weight, initial_epoch, steps_per_epoch, validation_steps, max_queue_size, workers, use_multiprocessing, **kwargs)\u001b[0m\n\u001b[0;32m    878\u001b[0m           \u001b[0minitial_epoch\u001b[0m\u001b[1;33m=\u001b[0m\u001b[0minitial_epoch\u001b[0m\u001b[1;33m,\u001b[0m\u001b[1;33m\u001b[0m\u001b[1;33m\u001b[0m\u001b[0m\n\u001b[0;32m    879\u001b[0m           \u001b[0msteps_per_epoch\u001b[0m\u001b[1;33m=\u001b[0m\u001b[0msteps_per_epoch\u001b[0m\u001b[1;33m,\u001b[0m\u001b[1;33m\u001b[0m\u001b[1;33m\u001b[0m\u001b[0m\n\u001b[1;32m--> 880\u001b[1;33m           validation_steps=validation_steps)\n\u001b[0m\u001b[0;32m    881\u001b[0m \u001b[1;33m\u001b[0m\u001b[0m\n\u001b[0;32m    882\u001b[0m   def evaluate(self,\n",
      "\u001b[1;32mD:\\Documents\\Anaconda\\lib\\site-packages\\tensorflow\\python\\keras\\engine\\training_arrays.py\u001b[0m in \u001b[0;36mmodel_iteration\u001b[1;34m(model, inputs, targets, sample_weights, batch_size, epochs, verbose, callbacks, val_inputs, val_targets, val_sample_weights, shuffle, initial_epoch, steps_per_epoch, validation_steps, mode, validation_in_fit, **kwargs)\u001b[0m\n\u001b[0;32m    327\u001b[0m \u001b[1;33m\u001b[0m\u001b[0m\n\u001b[0;32m    328\u001b[0m         \u001b[1;31m# Get outputs.\u001b[0m\u001b[1;33m\u001b[0m\u001b[1;33m\u001b[0m\u001b[1;33m\u001b[0m\u001b[0m\n\u001b[1;32m--> 329\u001b[1;33m         \u001b[0mbatch_outs\u001b[0m \u001b[1;33m=\u001b[0m \u001b[0mf\u001b[0m\u001b[1;33m(\u001b[0m\u001b[0mins_batch\u001b[0m\u001b[1;33m)\u001b[0m\u001b[1;33m\u001b[0m\u001b[1;33m\u001b[0m\u001b[0m\n\u001b[0m\u001b[0;32m    330\u001b[0m         \u001b[1;32mif\u001b[0m \u001b[1;32mnot\u001b[0m \u001b[0misinstance\u001b[0m\u001b[1;33m(\u001b[0m\u001b[0mbatch_outs\u001b[0m\u001b[1;33m,\u001b[0m \u001b[0mlist\u001b[0m\u001b[1;33m)\u001b[0m\u001b[1;33m:\u001b[0m\u001b[1;33m\u001b[0m\u001b[1;33m\u001b[0m\u001b[0m\n\u001b[0;32m    331\u001b[0m           \u001b[0mbatch_outs\u001b[0m \u001b[1;33m=\u001b[0m \u001b[1;33m[\u001b[0m\u001b[0mbatch_outs\u001b[0m\u001b[1;33m]\u001b[0m\u001b[1;33m\u001b[0m\u001b[1;33m\u001b[0m\u001b[0m\n",
      "\u001b[1;32mD:\\Documents\\Anaconda\\lib\\site-packages\\tensorflow\\python\\keras\\backend.py\u001b[0m in \u001b[0;36m__call__\u001b[1;34m(self, inputs)\u001b[0m\n\u001b[0;32m   3074\u001b[0m \u001b[1;33m\u001b[0m\u001b[0m\n\u001b[0;32m   3075\u001b[0m     fetched = self._callable_fn(*array_vals,\n\u001b[1;32m-> 3076\u001b[1;33m                                 run_metadata=self.run_metadata)\n\u001b[0m\u001b[0;32m   3077\u001b[0m     \u001b[0mself\u001b[0m\u001b[1;33m.\u001b[0m\u001b[0m_call_fetch_callbacks\u001b[0m\u001b[1;33m(\u001b[0m\u001b[0mfetched\u001b[0m\u001b[1;33m[\u001b[0m\u001b[1;33m-\u001b[0m\u001b[0mlen\u001b[0m\u001b[1;33m(\u001b[0m\u001b[0mself\u001b[0m\u001b[1;33m.\u001b[0m\u001b[0m_fetches\u001b[0m\u001b[1;33m)\u001b[0m\u001b[1;33m:\u001b[0m\u001b[1;33m]\u001b[0m\u001b[1;33m)\u001b[0m\u001b[1;33m\u001b[0m\u001b[1;33m\u001b[0m\u001b[0m\n\u001b[0;32m   3078\u001b[0m     return nest.pack_sequence_as(self._outputs_structure,\n",
      "\u001b[1;32mD:\\Documents\\Anaconda\\lib\\site-packages\\tensorflow\\python\\client\\session.py\u001b[0m in \u001b[0;36m__call__\u001b[1;34m(self, *args, **kwargs)\u001b[0m\n\u001b[0;32m   1437\u001b[0m           ret = tf_session.TF_SessionRunCallable(\n\u001b[0;32m   1438\u001b[0m               \u001b[0mself\u001b[0m\u001b[1;33m.\u001b[0m\u001b[0m_session\u001b[0m\u001b[1;33m.\u001b[0m\u001b[0m_session\u001b[0m\u001b[1;33m,\u001b[0m \u001b[0mself\u001b[0m\u001b[1;33m.\u001b[0m\u001b[0m_handle\u001b[0m\u001b[1;33m,\u001b[0m \u001b[0margs\u001b[0m\u001b[1;33m,\u001b[0m \u001b[0mstatus\u001b[0m\u001b[1;33m,\u001b[0m\u001b[1;33m\u001b[0m\u001b[1;33m\u001b[0m\u001b[0m\n\u001b[1;32m-> 1439\u001b[1;33m               run_metadata_ptr)\n\u001b[0m\u001b[0;32m   1440\u001b[0m         \u001b[1;32mif\u001b[0m \u001b[0mrun_metadata\u001b[0m\u001b[1;33m:\u001b[0m\u001b[1;33m\u001b[0m\u001b[1;33m\u001b[0m\u001b[0m\n\u001b[0;32m   1441\u001b[0m           \u001b[0mproto_data\u001b[0m \u001b[1;33m=\u001b[0m \u001b[0mtf_session\u001b[0m\u001b[1;33m.\u001b[0m\u001b[0mTF_GetBuffer\u001b[0m\u001b[1;33m(\u001b[0m\u001b[0mrun_metadata_ptr\u001b[0m\u001b[1;33m)\u001b[0m\u001b[1;33m\u001b[0m\u001b[1;33m\u001b[0m\u001b[0m\n",
      "\u001b[1;31mKeyboardInterrupt\u001b[0m: "
     ]
    }
   ],
   "source": [
    "model.fit(X_train,y_train,batch_size = 32, epochs = 1,validation_data = (X_test,y_test))"
   ]
  },
  {
   "cell_type": "code",
   "execution_count": null,
   "metadata": {},
   "outputs": [],
   "source": []
  },
  {
   "cell_type": "code",
   "execution_count": 33,
   "metadata": {},
   "outputs": [
    {
     "data": {
      "text/plain": [
       "array([[1.],\n",
       "       [1.],\n",
       "       [1.],\n",
       "       ...,\n",
       "       [1.],\n",
       "       [1.],\n",
       "       [1.]], dtype=float32)"
      ]
     },
     "execution_count": 33,
     "metadata": {},
     "output_type": "execute_result"
    }
   ],
   "source": [
    "model.predict(X_test)"
   ]
  },
  {
   "cell_type": "code",
   "execution_count": 37,
   "metadata": {},
   "outputs": [],
   "source": [
    "import os\n",
    "from filtr import Filtr\n",
    "\n",
    "\n",
    "def get_data(Data_path,Categories):\n",
    "    \n",
    "    snare = []\n",
    "    kick = []\n",
    "    \n",
    "    for category in Categories:\n",
    "        path = os.path.join(Data_path,category)\n",
    "        files = os.listdir(path)\n",
    "        os.chdir(path)\n",
    "        print(category)\n",
    "        for file in files:\n",
    "            if ('DK' or 'Kick' or 'kick') in file:\n",
    "                full_path = os.path.join(path,file)\n",
    "                kick.append(full_path)\n",
    "            elif (\"DS\" or 'snare') in file:\n",
    "                full_path = os.path.join(path,file)\n",
    "                snare.append(full_path)\n",
    "    return kick,snare\n",
    "            \n",
    "def audio_data(training_names,type = None):\n",
    "    audio_info = []\n",
    "    sr = 0\n",
    "    \n",
    "    for name in training_names:\n",
    "        try:\n",
    "            # loading the data\n",
    "            data, samplerate = sf.read(name)\n",
    "            data = data[:, 0]\n",
    "            audio_info.append(data)\n",
    "            \n",
    "        except:\n",
    "            #print(e)\n",
    "            print(f\"there was an error loading this file: {name}\")\n",
    "            print(\"Unexpected error:\", sys.exc_info()[0])\n",
    "            #print()\n",
    "            #raise\n",
    "            pass\n",
    "            \n",
    "        \n",
    "    return np.array(audio_info)   \n",
    "\n"
   ]
  },
  {
   "cell_type": "code",
   "execution_count": 53,
   "metadata": {},
   "outputs": [
    {
     "ename": "OSError",
     "evalue": "sndfile library not found",
     "output_type": "error",
     "traceback": [
      "\u001b[0;31m---------------------------------------------------------------------------\u001b[0m",
      "\u001b[0;31mOSError\u001b[0m                                   Traceback (most recent call last)",
      "\u001b[0;32m<ipython-input-53-900c26b91b9a>\u001b[0m in \u001b[0;36m<module>\u001b[0;34m\u001b[0m\n\u001b[0;32m----> 1\u001b[0;31m \u001b[0;32mimport\u001b[0m \u001b[0msoundfile\u001b[0m \u001b[0;32mas\u001b[0m \u001b[0msf\u001b[0m\u001b[0;34m\u001b[0m\u001b[0;34m\u001b[0m\u001b[0m\n\u001b[0m\u001b[1;32m      2\u001b[0m \u001b[0mpath\u001b[0m \u001b[0;34m=\u001b[0m \u001b[0;34m'/notebooks'\u001b[0m\u001b[0;34m\u001b[0m\u001b[0;34m\u001b[0m\u001b[0m\n\u001b[1;32m      3\u001b[0m \u001b[0mCategories\u001b[0m \u001b[0;34m=\u001b[0m \u001b[0;34m[\u001b[0m\u001b[0;34m\"Kick\"\u001b[0m\u001b[0;34m,\u001b[0m\u001b[0;34m\"Snare\"\u001b[0m\u001b[0;34m]\u001b[0m\u001b[0;34m\u001b[0m\u001b[0;34m\u001b[0m\u001b[0m\n\u001b[1;32m      4\u001b[0m \u001b[0;31m#f = Filtr(path)\u001b[0m\u001b[0;34m\u001b[0m\u001b[0;34m\u001b[0m\u001b[0;34m\u001b[0m\u001b[0m\n\u001b[1;32m      5\u001b[0m \u001b[0mkick\u001b[0m\u001b[0;34m,\u001b[0m \u001b[0msnare\u001b[0m \u001b[0;34m=\u001b[0m \u001b[0mget_data\u001b[0m\u001b[0;34m(\u001b[0m\u001b[0mpath\u001b[0m\u001b[0;34m,\u001b[0m\u001b[0mCategories\u001b[0m\u001b[0;34m)\u001b[0m\u001b[0;34m\u001b[0m\u001b[0;34m\u001b[0m\u001b[0m\n",
      "\u001b[0;32m/usr/local/lib/python3.6/dist-packages/soundfile.py\u001b[0m in \u001b[0;36m<module>\u001b[0;34m\u001b[0m\n\u001b[1;32m    140\u001b[0m     \u001b[0m_libname\u001b[0m \u001b[0;34m=\u001b[0m \u001b[0m_find_library\u001b[0m\u001b[0;34m(\u001b[0m\u001b[0;34m'sndfile'\u001b[0m\u001b[0;34m)\u001b[0m\u001b[0;34m\u001b[0m\u001b[0;34m\u001b[0m\u001b[0m\n\u001b[1;32m    141\u001b[0m     \u001b[0;32mif\u001b[0m \u001b[0m_libname\u001b[0m \u001b[0;32mis\u001b[0m \u001b[0;32mNone\u001b[0m\u001b[0;34m:\u001b[0m\u001b[0;34m\u001b[0m\u001b[0;34m\u001b[0m\u001b[0m\n\u001b[0;32m--> 142\u001b[0;31m         \u001b[0;32mraise\u001b[0m \u001b[0mOSError\u001b[0m\u001b[0;34m(\u001b[0m\u001b[0;34m'sndfile library not found'\u001b[0m\u001b[0;34m)\u001b[0m\u001b[0;34m\u001b[0m\u001b[0;34m\u001b[0m\u001b[0m\n\u001b[0m\u001b[1;32m    143\u001b[0m     \u001b[0m_snd\u001b[0m \u001b[0;34m=\u001b[0m \u001b[0m_ffi\u001b[0m\u001b[0;34m.\u001b[0m\u001b[0mdlopen\u001b[0m\u001b[0;34m(\u001b[0m\u001b[0m_libname\u001b[0m\u001b[0;34m)\u001b[0m\u001b[0;34m\u001b[0m\u001b[0;34m\u001b[0m\u001b[0m\n\u001b[1;32m    144\u001b[0m \u001b[0;32mexcept\u001b[0m \u001b[0mOSError\u001b[0m\u001b[0;34m:\u001b[0m\u001b[0;34m\u001b[0m\u001b[0;34m\u001b[0m\u001b[0m\n",
      "\u001b[0;31mOSError\u001b[0m: sndfile library not found"
     ]
    }
   ],
   "source": [
    "import soundfile as sf \n",
    "path = '/notebooks'\n",
    "Categories = [\"Kick\",\"Snare\"]\n",
    "#f = Filtr(path)\n",
    "kick, snare = get_data(path,Categories)\n",
    "train = audio_data()"
   ]
  },
  {
   "cell_type": "code",
   "execution_count": 52,
   "metadata": {},
   "outputs": [
    {
     "name": "stdout",
     "output_type": "stream",
     "text": [
      "Collecting wavefile\n",
      "  Downloading https://files.pythonhosted.org/packages/a8/41/354d7f9b5f0781702dba65f46997a19532a77374343b12aed645976e852e/wavefile-1.5.tar.gz\n",
      "Requirement already satisfied: numpy in /usr/local/lib/python3.6/dist-packages (from wavefile) (1.17.2)\n",
      "Building wheels for collected packages: wavefile\n",
      "  Building wheel for wavefile (setup.py) ... \u001b[?25ldone\n",
      "\u001b[?25h  Created wheel for wavefile: filename=wavefile-1.5-cp36-none-any.whl size=13088 sha256=9ea87633a22c1042127b642d9bb6f7edfb3e6b5d4a95c81eecdcdddd4eaca9c6\n",
      "  Stored in directory: /root/.cache/pip/wheels/66/15/4d/569107ede3d4540d3b5447646a4090699cfba305a33584ecfd\n",
      "Successfully built wavefile\n",
      "Installing collected packages: wavefile\n",
      "Successfully installed wavefile-1.5\n",
      "\u001b[33mWARNING: You are using pip version 19.2.3, however version 19.3.1 is available.\n",
      "You should consider upgrading via the 'pip install --upgrade pip' command.\u001b[0m\n"
     ]
    }
   ],
   "source": []
  },
  {
   "cell_type": "code",
   "execution_count": null,
   "metadata": {},
   "outputs": [],
   "source": []
  }
 ],
 "metadata": {
  "kernelspec": {
   "display_name": "Python 3",
   "language": "python",
   "name": "python3"
  },
  "language_info": {
   "codemirror_mode": {
    "name": "ipython",
    "version": 3
   },
   "file_extension": ".py",
   "mimetype": "text/x-python",
   "name": "python",
   "nbconvert_exporter": "python",
   "pygments_lexer": "ipython3",
   "version": "3.7.3"
  }
 },
 "nbformat": 4,
 "nbformat_minor": 4
}
