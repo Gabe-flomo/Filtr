{
 "cells": [
  {
   "cell_type": "code",
   "execution_count": 211,
   "metadata": {},
   "outputs": [],
   "source": [
    "import pandas as pd\n",
    "import numpy as np\n",
    "from keras.models import Sequential\n",
    "from keras.layers import Dense, Dropout, Activation, Flatten\n",
    "from keras.layers import Convolution2D, Conv2D, MaxPooling2D, GlobalAveragePooling2D\n",
    "from keras.optimizers import Adam\n",
    "from keras.utils import np_utils\n",
    "from sklearn import metrics \n",
    "from keras.callbacks import ModelCheckpoint \n",
    "from datetime import datetime \n",
    "from sklearn.preprocessing import LabelEncoder\n",
    "from keras.utils import to_categorical\n",
    "import matplotlib.pyplot as plt\n",
    "import os\n",
    "from keras.callbacks import LearningRateScheduler, EarlyStopping\n",
    "from keras.optimizers import SGD\n",
    "from keras.optimizers import RMSprop\n",
    "from sklearn.utils import shuffle\n",
    "import librosa\n",
    "from sklearn.model_selection import train_test_split "
   ]
  },
  {
   "cell_type": "code",
   "execution_count": 55,
   "metadata": {},
   "outputs": [],
   "source": [
    "# load the MLP Data\n",
    "DATA = r\"E:\\Documents\\My Projects\\Filtr\\Data\\Serialized\\MLP_large.pkl\""
   ]
  },
  {
   "cell_type": "code",
   "execution_count": 56,
   "metadata": {},
   "outputs": [],
   "source": []
  },
  {
   "cell_type": "markdown",
   "metadata": {},
   "source": [
    "# Data Analysis\n",
    "\n",
    "### Shuffling the data\n",
    "Using the .sample() method of your dataframe to sample all rows without replacement:\n",
    "```python\n",
    "df.sample(frac=1)\n",
    "```\n",
    "The frac keyword argument specifies the fraction of rows to return in the random sample, so frac=1 means return all rows (in random order).\n",
    "\n",
    "_We can also use other libraries to shuffle our dataset_\n",
    "\n",
    "Below I used sklearns shuffle method"
   ]
  },
  {
   "cell_type": "code",
   "execution_count": 279,
   "metadata": {},
   "outputs": [],
   "source": [
    "#df = df.sample(frac=1, random_state=0)\n",
    "#np.random.shuffle(df)\n",
    "\n",
    "df = pd.read_pickle(DATA) \n",
    "df = shuffle(df,random_state = 21)"
   ]
  },
  {
   "cell_type": "code",
   "execution_count": 280,
   "metadata": {
    "scrolled": false
   },
   "outputs": [
    {
     "data": {
      "text/html": [
       "<div>\n",
       "<style scoped>\n",
       "    .dataframe tbody tr th:only-of-type {\n",
       "        vertical-align: middle;\n",
       "    }\n",
       "\n",
       "    .dataframe tbody tr th {\n",
       "        vertical-align: top;\n",
       "    }\n",
       "\n",
       "    .dataframe thead th {\n",
       "        text-align: right;\n",
       "    }\n",
       "</style>\n",
       "<table border=\"1\" class=\"dataframe\">\n",
       "  <thead>\n",
       "    <tr style=\"text-align: right;\">\n",
       "      <th></th>\n",
       "      <th>label</th>\n",
       "      <th>Filename</th>\n",
       "      <th>Duration</th>\n",
       "      <th>Channels</th>\n",
       "      <th>Sample_rate</th>\n",
       "      <th>Bit_depth</th>\n",
       "      <th>path</th>\n",
       "      <th>Data</th>\n",
       "    </tr>\n",
       "  </thead>\n",
       "  <tbody>\n",
       "    <tr>\n",
       "      <th>9148</th>\n",
       "      <td>Pads</td>\n",
       "      <td>RSL_95_synth_pad_chop_mothers_luv_D#m.wav</td>\n",
       "      <td>10.13</td>\n",
       "      <td>2</td>\n",
       "      <td>44100</td>\n",
       "      <td>24</td>\n",
       "      <td>E:\\Documents\\My Projects\\Filtr\\Data\\Audio\\Pads...</td>\n",
       "      <td>[-1.0, 0.41120592, -0.013396348, -0.09519886, ...</td>\n",
       "    </tr>\n",
       "    <tr>\n",
       "      <th>5763</th>\n",
       "      <td>Guitar</td>\n",
       "      <td>Cymatics - Drip Guitar Loop 9 - 160 BPM F Min.wav</td>\n",
       "      <td>6.00</td>\n",
       "      <td>2</td>\n",
       "      <td>44100</td>\n",
       "      <td>16</td>\n",
       "      <td>E:\\Documents\\My Projects\\Filtr\\Data\\Audio\\Guit...</td>\n",
       "      <td>[-1.0, 0.58382785, 0.06277005, 0.067871064, 0....</td>\n",
       "    </tr>\n",
       "    <tr>\n",
       "      <th>2248</th>\n",
       "      <td>FX</td>\n",
       "      <td>wafx_shortfx_leashfreak.wav</td>\n",
       "      <td>1.80</td>\n",
       "      <td>2</td>\n",
       "      <td>44100</td>\n",
       "      <td>24</td>\n",
       "      <td>E:\\Documents\\My Projects\\Filtr\\Data\\Audio\\FX\\w...</td>\n",
       "      <td>[-0.26646873, 1.0, -0.541562, 0.105186634, -0....</td>\n",
       "    </tr>\n",
       "    <tr>\n",
       "      <th>12367</th>\n",
       "      <td>Percs</td>\n",
       "      <td>UZ_SS_percussion_wet_drop_03.wav</td>\n",
       "      <td>0.21</td>\n",
       "      <td>2</td>\n",
       "      <td>44100</td>\n",
       "      <td>24</td>\n",
       "      <td>E:\\Documents\\My Projects\\Filtr\\Data\\Audio\\Perc...</td>\n",
       "      <td>[-1.0, 0.06122127, -0.10765891, -0.016434945, ...</td>\n",
       "    </tr>\n",
       "    <tr>\n",
       "      <th>4581</th>\n",
       "      <td>Synth</td>\n",
       "      <td>V_RIOT_bass_one_shot_raw_skrill_08_low.wav</td>\n",
       "      <td>0.85</td>\n",
       "      <td>2</td>\n",
       "      <td>44100</td>\n",
       "      <td>24</td>\n",
       "      <td>E:\\Documents\\My Projects\\Filtr\\Data\\Audio\\Synt...</td>\n",
       "      <td>[-1.0, 0.83497876, -0.47013032, 0.56361425, 0....</td>\n",
       "    </tr>\n",
       "  </tbody>\n",
       "</table>\n",
       "</div>"
      ],
      "text/plain": [
       "        label                                           Filename  Duration  \\\n",
       "9148     Pads          RSL_95_synth_pad_chop_mothers_luv_D#m.wav     10.13   \n",
       "5763   Guitar  Cymatics - Drip Guitar Loop 9 - 160 BPM F Min.wav      6.00   \n",
       "2248       FX                        wafx_shortfx_leashfreak.wav      1.80   \n",
       "12367   Percs                   UZ_SS_percussion_wet_drop_03.wav      0.21   \n",
       "4581    Synth         V_RIOT_bass_one_shot_raw_skrill_08_low.wav      0.85   \n",
       "\n",
       "       Channels  Sample_rate  Bit_depth  \\\n",
       "9148          2        44100         24   \n",
       "5763          2        44100         16   \n",
       "2248          2        44100         24   \n",
       "12367         2        44100         24   \n",
       "4581          2        44100         24   \n",
       "\n",
       "                                                    path  \\\n",
       "9148   E:\\Documents\\My Projects\\Filtr\\Data\\Audio\\Pads...   \n",
       "5763   E:\\Documents\\My Projects\\Filtr\\Data\\Audio\\Guit...   \n",
       "2248   E:\\Documents\\My Projects\\Filtr\\Data\\Audio\\FX\\w...   \n",
       "12367  E:\\Documents\\My Projects\\Filtr\\Data\\Audio\\Perc...   \n",
       "4581   E:\\Documents\\My Projects\\Filtr\\Data\\Audio\\Synt...   \n",
       "\n",
       "                                                    Data  \n",
       "9148   [-1.0, 0.41120592, -0.013396348, -0.09519886, ...  \n",
       "5763   [-1.0, 0.58382785, 0.06277005, 0.067871064, 0....  \n",
       "2248   [-0.26646873, 1.0, -0.541562, 0.105186634, -0....  \n",
       "12367  [-1.0, 0.06122127, -0.10765891, -0.016434945, ...  \n",
       "4581   [-1.0, 0.83497876, -0.47013032, 0.56361425, 0....  "
      ]
     },
     "execution_count": 280,
     "metadata": {},
     "output_type": "execute_result"
    }
   ],
   "source": [
    "df.rename(columns={'class':'label'},inplace=True)\n",
    "df.head()"
   ]
  },
  {
   "cell_type": "code",
   "execution_count": 281,
   "metadata": {},
   "outputs": [
    {
     "data": {
      "text/plain": [
       "FX             1426\n",
       "Synth          1192\n",
       "Percs          1188\n",
       "Kick           1175\n",
       "Snare          1157\n",
       "Instrument     1152\n",
       "hats           1068\n",
       "Vox            1060\n",
       "Cymbals        1060\n",
       "Foley          1027\n",
       "808             976\n",
       "Pads            859\n",
       "Guitar          853\n",
       "Transitions     757\n",
       "Impacts         488\n",
       "Snaps           406\n",
       "Name: label, dtype: int64"
      ]
     },
     "execution_count": 281,
     "metadata": {},
     "output_type": "execute_result"
    }
   ],
   "source": [
    "# count the values for each class\n",
    "df['label'].value_counts()"
   ]
  },
  {
   "cell_type": "code",
   "execution_count": 282,
   "metadata": {},
   "outputs": [
    {
     "data": {
      "text/plain": [
       "<matplotlib.axes._subplots.AxesSubplot at 0x23fc7856a08>"
      ]
     },
     "execution_count": 282,
     "metadata": {},
     "output_type": "execute_result"
    },
    {
     "data": {
      "image/png": "[encoded data removed]",
      "text/plain": [
       "<Figure size 1296x432 with 1 Axes>"
      ]
     },
     "metadata": {
      "needs_background": "light"
     },
     "output_type": "display_data"
    }
   ],
   "source": [
    "# graphingthe class size distribution\n",
    "df['label'].value_counts(ascending = False).plot(kind = 'bar',figsize = (18,6))"
   ]
  },
  {
   "cell_type": "code",
   "execution_count": 295,
   "metadata": {},
   "outputs": [
    {
     "data": {
      "text/html": [
       "<div>\n",
       "<style scoped>\n",
       "    .dataframe tbody tr th:only-of-type {\n",
       "        vertical-align: middle;\n",
       "    }\n",
       "\n",
       "    .dataframe tbody tr th {\n",
       "        vertical-align: top;\n",
       "    }\n",
       "\n",
       "    .dataframe thead th {\n",
       "        text-align: right;\n",
       "    }\n",
       "</style>\n",
       "<table border=\"1\" class=\"dataframe\">\n",
       "  <thead>\n",
       "    <tr style=\"text-align: right;\">\n",
       "      <th></th>\n",
       "      <th>label</th>\n",
       "      <th>Filename</th>\n",
       "      <th>Duration</th>\n",
       "      <th>Channels</th>\n",
       "      <th>Sample_rate</th>\n",
       "      <th>Bit_depth</th>\n",
       "      <th>path</th>\n",
       "      <th>Data</th>\n",
       "    </tr>\n",
       "  </thead>\n",
       "  <tbody>\n",
       "    <tr>\n",
       "      <th>10872</th>\n",
       "      <td>Kick</td>\n",
       "      <td>Kick #5.wav</td>\n",
       "      <td>0.74</td>\n",
       "      <td>2</td>\n",
       "      <td>44100</td>\n",
       "      <td>24</td>\n",
       "      <td>E:\\Documents\\My Projects\\Filtr\\Data\\Audio\\Kick...</td>\n",
       "      <td>[-1.0, 0.083789736, 0.031673606, 0.023578444, ...</td>\n",
       "    </tr>\n",
       "    <tr>\n",
       "      <th>10997</th>\n",
       "      <td>Kick</td>\n",
       "      <td>fuck kick.wav</td>\n",
       "      <td>0.49</td>\n",
       "      <td>2</td>\n",
       "      <td>0</td>\n",
       "      <td>0</td>\n",
       "      <td>E:\\Documents\\My Projects\\Filtr\\Data\\Audio\\Kick...</td>\n",
       "      <td>[-1.0, 0.14266708, 0.06761246, 0.07021363, 0.0...</td>\n",
       "    </tr>\n",
       "    <tr>\n",
       "      <th>10396</th>\n",
       "      <td>Snare</td>\n",
       "      <td>FLO - Snare 19.wav</td>\n",
       "      <td>0.68</td>\n",
       "      <td>2</td>\n",
       "      <td>44100</td>\n",
       "      <td>24</td>\n",
       "      <td>E:\\Documents\\My Projects\\Filtr\\Data\\Audio\\Snar...</td>\n",
       "      <td>[-1.0, 0.04868256, -0.08974855, -0.00010369084...</td>\n",
       "    </tr>\n",
       "    <tr>\n",
       "      <th>11335</th>\n",
       "      <td>Kick</td>\n",
       "      <td>BWB WAV 6 KICK (11).wav</td>\n",
       "      <td>0.53</td>\n",
       "      <td>2</td>\n",
       "      <td>44100</td>\n",
       "      <td>32</td>\n",
       "      <td>E:\\Documents\\My Projects\\Filtr\\Data\\Audio\\Kick...</td>\n",
       "      <td>[-1.0, 0.09417009, 0.08401355, 0.042800758, 0....</td>\n",
       "    </tr>\n",
       "    <tr>\n",
       "      <th>10870</th>\n",
       "      <td>Kick</td>\n",
       "      <td>dieyoung_kick.wav</td>\n",
       "      <td>0.75</td>\n",
       "      <td>2</td>\n",
       "      <td>44100</td>\n",
       "      <td>24</td>\n",
       "      <td>E:\\Documents\\My Projects\\Filtr\\Data\\Audio\\Kick...</td>\n",
       "      <td>[-1.0, 0.08185523, 0.02792417, 0.02451707, 0.0...</td>\n",
       "    </tr>\n",
       "  </tbody>\n",
       "</table>\n",
       "</div>"
      ],
      "text/plain": [
       "       label                 Filename  Duration  Channels  Sample_rate  \\\n",
       "10872   Kick              Kick #5.wav      0.74         2        44100   \n",
       "10997   Kick            fuck kick.wav      0.49         2            0   \n",
       "10396  Snare       FLO - Snare 19.wav      0.68         2        44100   \n",
       "11335   Kick  BWB WAV 6 KICK (11).wav      0.53         2        44100   \n",
       "10870   Kick        dieyoung_kick.wav      0.75         2        44100   \n",
       "\n",
       "       Bit_depth                                               path  \\\n",
       "10872         24  E:\\Documents\\My Projects\\Filtr\\Data\\Audio\\Kick...   \n",
       "10997          0  E:\\Documents\\My Projects\\Filtr\\Data\\Audio\\Kick...   \n",
       "10396         24  E:\\Documents\\My Projects\\Filtr\\Data\\Audio\\Snar...   \n",
       "11335         32  E:\\Documents\\My Projects\\Filtr\\Data\\Audio\\Kick...   \n",
       "10870         24  E:\\Documents\\My Projects\\Filtr\\Data\\Audio\\Kick...   \n",
       "\n",
       "                                                    Data  \n",
       "10872  [-1.0, 0.083789736, 0.031673606, 0.023578444, ...  \n",
       "10997  [-1.0, 0.14266708, 0.06761246, 0.07021363, 0.0...  \n",
       "10396  [-1.0, 0.04868256, -0.08974855, -0.00010369084...  \n",
       "11335  [-1.0, 0.09417009, 0.08401355, 0.042800758, 0....  \n",
       "10870  [-1.0, 0.08185523, 0.02792417, 0.02451707, 0.0...  "
      ]
     },
     "execution_count": 295,
     "metadata": {},
     "output_type": "execute_result"
    }
   ],
   "source": [
    "# reduced dataset\n",
    "df2 = df.copy()\n",
    "df2 = df2.query('label == [\"Kick\",\"Snare\"]')\n",
    "df2.head()"
   ]
  },
  {
   "cell_type": "markdown",
   "metadata": {},
   "source": [
    "# Get just the data and the target"
   ]
  },
  {
   "cell_type": "code",
   "execution_count": 296,
   "metadata": {},
   "outputs": [],
   "source": [
    "# convert features and labels to numpy arrays\n",
    "X = np.array(df2['Data'].tolist())\n",
    "y = np.array(df2['label'].tolist())"
   ]
  },
  {
   "cell_type": "code",
   "execution_count": 297,
   "metadata": {},
   "outputs": [
    {
     "name": "stdout",
     "output_type": "stream",
     "text": [
      "(2332, 40)\n",
      "(2332,)\n"
     ]
    }
   ],
   "source": [
    "print(X.shape)\n",
    "print(y.shape)"
   ]
  },
  {
   "cell_type": "markdown",
   "metadata": {},
   "source": [
    "# Encode classification labels\n",
    "Here we are [Label encoding](https://scikit-learn.org/stable/modules/generated/sklearn.preprocessing.LabelEncoder.html) the classes using the keras [.to_categorical()](https://www.tensorflow.org/api_docs/python/tf/keras/utils/to_categorical)"
   ]
  },
  {
   "cell_type": "code",
   "execution_count": 298,
   "metadata": {},
   "outputs": [],
   "source": [
    "le = LabelEncoder()\n",
    "labels = to_categorical(le.fit_transform(y))"
   ]
  },
  {
   "cell_type": "code",
   "execution_count": 299,
   "metadata": {},
   "outputs": [
    {
     "data": {
      "text/plain": [
       "array([[1., 0.],\n",
       "       [1., 0.],\n",
       "       [0., 1.],\n",
       "       ...,\n",
       "       [1., 0.],\n",
       "       [1., 0.],\n",
       "       [0., 1.]], dtype=float32)"
      ]
     },
     "execution_count": 299,
     "metadata": {},
     "output_type": "execute_result"
    }
   ],
   "source": [
    "labels"
   ]
  },
  {
   "cell_type": "code",
   "execution_count": 228,
   "metadata": {},
   "outputs": [
    {
     "ename": "ValueError",
     "evalue": "y contains previously unseen labels: [ 2  3  4  5  6  7  8  9 10 11 12 13 14 15]",
     "output_type": "error",
     "traceback": [
      "\u001b[1;31m---------------------------------------------------------------------------\u001b[0m",
      "\u001b[1;31mValueError\u001b[0m                                Traceback (most recent call last)",
      "\u001b[1;32m<ipython-input-228-73e22c48caf5>\u001b[0m in \u001b[0;36m<module>\u001b[1;34m\u001b[0m\n\u001b[0;32m      1\u001b[0m \u001b[0mclasses\u001b[0m \u001b[1;33m=\u001b[0m \u001b[1;33m[\u001b[0m\u001b[1;36m0\u001b[0m\u001b[1;33m,\u001b[0m \u001b[1;36m1\u001b[0m\u001b[1;33m,\u001b[0m \u001b[1;36m2\u001b[0m\u001b[1;33m,\u001b[0m \u001b[1;36m3\u001b[0m\u001b[1;33m,\u001b[0m \u001b[1;36m4\u001b[0m\u001b[1;33m,\u001b[0m \u001b[1;36m5\u001b[0m\u001b[1;33m,\u001b[0m \u001b[1;36m6\u001b[0m\u001b[1;33m,\u001b[0m \u001b[1;36m7\u001b[0m\u001b[1;33m,\u001b[0m \u001b[1;36m8\u001b[0m\u001b[1;33m,\u001b[0m \u001b[1;36m9\u001b[0m\u001b[1;33m,\u001b[0m \u001b[1;36m10\u001b[0m\u001b[1;33m,\u001b[0m \u001b[1;36m11\u001b[0m\u001b[1;33m,\u001b[0m \u001b[1;36m12\u001b[0m\u001b[1;33m,\u001b[0m \u001b[1;36m13\u001b[0m\u001b[1;33m,\u001b[0m \u001b[1;36m14\u001b[0m\u001b[1;33m,\u001b[0m \u001b[1;36m15\u001b[0m\u001b[1;33m]\u001b[0m\u001b[1;33m\u001b[0m\u001b[1;33m\u001b[0m\u001b[0m\n\u001b[1;32m----> 2\u001b[1;33m \u001b[0mclasses\u001b[0m \u001b[1;33m=\u001b[0m \u001b[0mle\u001b[0m\u001b[1;33m.\u001b[0m\u001b[0minverse_transform\u001b[0m\u001b[1;33m(\u001b[0m\u001b[0mclasses\u001b[0m\u001b[1;33m)\u001b[0m\u001b[1;33m\u001b[0m\u001b[1;33m\u001b[0m\u001b[0m\n\u001b[0m\u001b[0;32m      3\u001b[0m \u001b[1;32mfor\u001b[0m \u001b[0mindex\u001b[0m\u001b[1;33m,\u001b[0m \u001b[0mc\u001b[0m \u001b[1;32min\u001b[0m \u001b[0menumerate\u001b[0m\u001b[1;33m(\u001b[0m\u001b[0mclasses\u001b[0m\u001b[1;33m)\u001b[0m\u001b[1;33m:\u001b[0m\u001b[1;33m\u001b[0m\u001b[1;33m\u001b[0m\u001b[0m\n\u001b[0;32m      4\u001b[0m     \u001b[0mprint\u001b[0m\u001b[1;33m(\u001b[0m\u001b[1;34mf'{index} for {c} class'\u001b[0m\u001b[1;33m)\u001b[0m\u001b[1;33m\u001b[0m\u001b[1;33m\u001b[0m\u001b[0m\n",
      "\u001b[1;32m~\\Anaconda3\\lib\\site-packages\\sklearn\\preprocessing\\label.py\u001b[0m in \u001b[0;36minverse_transform\u001b[1;34m(self, y)\u001b[0m\n\u001b[0;32m    279\u001b[0m         \u001b[1;32mif\u001b[0m \u001b[0mlen\u001b[0m\u001b[1;33m(\u001b[0m\u001b[0mdiff\u001b[0m\u001b[1;33m)\u001b[0m\u001b[1;33m:\u001b[0m\u001b[1;33m\u001b[0m\u001b[1;33m\u001b[0m\u001b[0m\n\u001b[0;32m    280\u001b[0m             raise ValueError(\n\u001b[1;32m--> 281\u001b[1;33m                     \"y contains previously unseen labels: %s\" % str(diff))\n\u001b[0m\u001b[0;32m    282\u001b[0m         \u001b[0my\u001b[0m \u001b[1;33m=\u001b[0m \u001b[0mnp\u001b[0m\u001b[1;33m.\u001b[0m\u001b[0masarray\u001b[0m\u001b[1;33m(\u001b[0m\u001b[0my\u001b[0m\u001b[1;33m)\u001b[0m\u001b[1;33m\u001b[0m\u001b[1;33m\u001b[0m\u001b[0m\n\u001b[0;32m    283\u001b[0m         \u001b[1;32mreturn\u001b[0m \u001b[0mself\u001b[0m\u001b[1;33m.\u001b[0m\u001b[0mclasses_\u001b[0m\u001b[1;33m[\u001b[0m\u001b[0my\u001b[0m\u001b[1;33m]\u001b[0m\u001b[1;33m\u001b[0m\u001b[1;33m\u001b[0m\u001b[0m\n",
      "\u001b[1;31mValueError\u001b[0m: y contains previously unseen labels: [ 2  3  4  5  6  7  8  9 10 11 12 13 14 15]"
     ]
    }
   ],
   "source": [
    "classes = [0, 1, 2, 3, 4, 5, 6, 7, 8, 9, 10, 11, 12, 13, 14, 15]\n",
    "classes = le.inverse_transform(classes)\n",
    "for index, c in enumerate(classes):\n",
    "    print(f'{index} for {c} class')"
   ]
  },
  {
   "cell_type": "markdown",
   "metadata": {},
   "source": [
    "# Split the data"
   ]
  },
  {
   "cell_type": "code",
   "execution_count": 300,
   "metadata": {},
   "outputs": [],
   "source": [
    "# split the data set\n",
    "x_train, x_test, y_train, y_test = train_test_split(X,labels,test_size = .3, random_state = 21)"
   ]
  },
  {
   "cell_type": "code",
   "execution_count": 301,
   "metadata": {},
   "outputs": [
    {
     "name": "stdout",
     "output_type": "stream",
     "text": [
      "Training data shape: (1632, 40)\n",
      "Testing data shape: (700, 40)\n",
      "Training labels shape: (1632, 2)\n",
      "Testing labels shape: (700, 2)\n"
     ]
    }
   ],
   "source": [
    "print(f\"Training data shape: {x_train.shape}\")\n",
    "print(f\"Testing data shape: {x_test.shape}\")\n",
    "print(f\"Training labels shape: {y_train.shape}\")\n",
    "print(f\"Testing labels shape: {y_test.shape}\")"
   ]
  },
  {
   "cell_type": "markdown",
   "metadata": {},
   "source": [
    "# MLP Model"
   ]
  },
  {
   "cell_type": "code",
   "execution_count": 303,
   "metadata": {},
   "outputs": [
    {
     "name": "stdout",
     "output_type": "stream",
     "text": [
      "Model: \"sequential_19\"\n",
      "_________________________________________________________________\n",
      "Layer (type)                 Output Shape              Param #   \n",
      "=================================================================\n",
      "dense_74 (Dense)             (None, 100)               4100      \n",
      "_________________________________________________________________\n",
      "activation_74 (Activation)   (None, 100)               0         \n",
      "_________________________________________________________________\n",
      "dropout_55 (Dropout)         (None, 100)               0         \n",
      "_________________________________________________________________\n",
      "dense_75 (Dense)             (None, 64)                6464      \n",
      "_________________________________________________________________\n",
      "activation_75 (Activation)   (None, 64)                0         \n",
      "_________________________________________________________________\n",
      "dropout_56 (Dropout)         (None, 64)                0         \n",
      "_________________________________________________________________\n",
      "dense_76 (Dense)             (None, 64)                4160      \n",
      "_________________________________________________________________\n",
      "activation_76 (Activation)   (None, 64)                0         \n",
      "_________________________________________________________________\n",
      "dropout_57 (Dropout)         (None, 64)                0         \n",
      "_________________________________________________________________\n",
      "dense_77 (Dense)             (None, 2)                 130       \n",
      "_________________________________________________________________\n",
      "activation_77 (Activation)   (None, 2)                 0         \n",
      "=================================================================\n",
      "Total params: 14,854\n",
      "Trainable params: 14,854\n",
      "Non-trainable params: 0\n",
      "_________________________________________________________________\n",
      "Pretraining accuracy: 51.0%\n"
     ]
    }
   ],
   "source": [
    "num_labels = 2\n",
    "epochs = 150\n",
    "batch = 64\n",
    "learning_rate = .1\n",
    "momentum = .8\n",
    "decay = learning_rate/epochs\n",
    "\n",
    "# SGD Optimizer\n",
    "sgd = SGD(lr=learning_rate, momentum=momentum, decay=decay)\n",
    "\n",
    "# build model\n",
    "def build_model(optimizer = 'adam'):\n",
    "    model = Sequential()\n",
    "\n",
    "    model.add(Dense(100, input_shape = (40,)))\n",
    "    model.add(Activation('relu'))\n",
    "    model.add(Dropout(.3))\n",
    "\n",
    "    model.add(Dense(64))\n",
    "    model.add(Activation('relu'))\n",
    "    model.add(Dropout(.5))\n",
    "\n",
    "\n",
    "    model.add(Dense(64))\n",
    "    model.add(Activation('relu'))\n",
    "    model.add(Dropout(.5))\n",
    "\n",
    "    model.add(Dense(num_labels))\n",
    "    model.add(Activation('softmax'))\n",
    "\n",
    "    model.compile(loss = 'categorical_crossentropy', metrics = ['accuracy'], optimizer = optimizer)\n",
    "    return model\n",
    "\n",
    "model = build_model()\n",
    "model.summary()\n",
    "\n",
    "# calculate pre-training accuracy\n",
    "score = model.evaluate(x_test, y_test, verbose=0)\n",
    "accuracy = score[1]*100\n",
    "print(f\"Pretraining accuracy: {round(accuracy,2)}%\")"
   ]
  },
  {
   "cell_type": "markdown",
   "metadata": {},
   "source": [
    "### [Learning Rate Scheduler](https://www.tensorflow.org/api_docs/python/tf/keras/callbacks/LearningRateScheduler)\n",
    "Write a function that performs the exponential learning rate decay as indicated by the following formula:\n",
    "\n",
    "𝑙𝑟=𝑙𝑟₀ × 𝑒^(−𝑘𝑡)\n",
    "\n",
    "* 𝑙𝑟₀ is the current learning rate\n",
    "* 𝑒 = 2.71828\n",
    "* 𝑘 is the decay rate\n",
    "* 𝑡 is the epoch"
   ]
  },
  {
   "cell_type": "code",
   "execution_count": 304,
   "metadata": {
    "scrolled": true
   },
   "outputs": [
    {
     "name": "stdout",
     "output_type": "stream",
     "text": [
      "Wall time: 0 ns\n",
      "Train on 1632 samples, validate on 700 samples\n",
      "Epoch 1/150\n",
      "1632/1632 [==============================] - 0s 119us/step - loss: 0.6874 - accuracy: 0.7996 - val_loss: 0.0973 - val_accuracy: 0.9800\n",
      "\n",
      "Epoch 00001: val_loss improved from inf to 0.09730, saving model to E:\\Documents\\My Projects\\Filtr\\Models\\MLP_large.hdf5\n",
      "Epoch 2/150\n",
      "1632/1632 [==============================] - 0s 43us/step - loss: 0.3319 - accuracy: 0.9210 - val_loss: 0.0828 - val_accuracy: 0.9771\n",
      "\n",
      "Epoch 00002: val_loss improved from 0.09730 to 0.08284, saving model to E:\\Documents\\My Projects\\Filtr\\Models\\MLP_large.hdf5\n",
      "Epoch 3/150\n",
      "1632/1632 [==============================] - 0s 45us/step - loss: 0.3039 - accuracy: 0.9069 - val_loss: 0.1774 - val_accuracy: 0.9371\n",
      "\n",
      "Epoch 00003: val_loss did not improve from 0.08284\n",
      "Epoch 4/150\n",
      "1632/1632 [==============================] - 0s 44us/step - loss: 0.2037 - accuracy: 0.9504 - val_loss: 0.2792 - val_accuracy: 0.9714\n",
      "\n",
      "Epoch 00004: val_loss did not improve from 0.08284\n",
      "Epoch 5/150\n",
      "1632/1632 [==============================] - 0s 41us/step - loss: 0.2274 - accuracy: 0.9185 - val_loss: 0.2953 - val_accuracy: 0.9743\n",
      "\n",
      "Epoch 00005: val_loss did not improve from 0.08284\n",
      "Epoch 6/150\n",
      "1632/1632 [==============================] - 0s 43us/step - loss: 0.1833 - accuracy: 0.9332 - val_loss: 0.3462 - val_accuracy: 0.9600\n",
      "\n",
      "Epoch 00006: val_loss did not improve from 0.08284\n",
      "Epoch 7/150\n",
      "1632/1632 [==============================] - 0s 46us/step - loss: 0.4191 - accuracy: 0.8848 - val_loss: 0.3722 - val_accuracy: 0.9371\n",
      "\n",
      "Epoch 00007: val_loss did not improve from 0.08284\n",
      "Epoch 8/150\n",
      "1632/1632 [==============================] - 0s 44us/step - loss: 0.6484 - accuracy: 0.8836 - val_loss: 0.7320 - val_accuracy: 0.8257\n",
      "\n",
      "Epoch 00008: val_loss did not improve from 0.08284\n",
      "Epoch 9/150\n",
      "1632/1632 [==============================] - 0s 42us/step - loss: 0.5688 - accuracy: 0.8211 - val_loss: 0.2166 - val_accuracy: 0.8857\n",
      "\n",
      "Epoch 00009: val_loss did not improve from 0.08284\n",
      "Epoch 10/150\n",
      "1632/1632 [==============================] - 0s 38us/step - loss: 0.4942 - accuracy: 0.8811 - val_loss: 0.2280 - val_accuracy: 0.9557\n",
      "\n",
      "Epoch 00010: val_loss did not improve from 0.08284\n",
      "Epoch 11/150\n",
      "1632/1632 [==============================] - 0s 38us/step - loss: 0.2282 - accuracy: 0.9154 - val_loss: 0.3203 - val_accuracy: 0.9614\n",
      "\n",
      "Epoch 00011: val_loss did not improve from 0.08284\n",
      "Epoch 12/150\n",
      "1632/1632 [==============================] - 0s 41us/step - loss: 0.3064 - accuracy: 0.9369 - val_loss: 0.2513 - val_accuracy: 0.9757\n",
      "\n",
      "Epoch 00012: val_loss did not improve from 0.08284\n"
     ]
    }
   ],
   "source": [
    "def scheduler(epoch):\n",
    "    lr = learning_rate * np.exp(-decay*epoch)\n",
    "    return lr\n",
    "    \n",
    "learning = LearningRateScheduler(scheduler)\n",
    "checkpoint = ModelCheckpoint(filepath = r'E:\\Documents\\My Projects\\Filtr\\Models\\MLP_large.hdf5',\n",
    "                            verbose = 1, save_best_only=True)\n",
    "stopping = EarlyStopping(monitor='val_loss',patience=10)\n",
    "\n",
    "callbacks = [learning,checkpoint,stopping]\n",
    "\n",
    "%time\n",
    "history = model.fit(x_train,y_train,\n",
    "                     batch_size=batch,\n",
    "                     epochs=epochs,\n",
    "                     validation_data=(x_test,y_test),\n",
    "                     callbacks=callbacks,\n",
    "                     verbose=1)"
   ]
  },
  {
   "cell_type": "markdown",
   "metadata": {},
   "source": [
    "# Potting the performance\n",
    "Useful Docs\n",
    "* [subplots](https://matplotlib.org/3.2.1/api/_as_gen/matplotlib.pyplot.subplots.html)"
   ]
  },
  {
   "cell_type": "code",
   "execution_count": 277,
   "metadata": {},
   "outputs": [
    {
     "data": {
      "image/png": "[encoded data removed]",
      "text/plain": [
       "<Figure size 720x432 with 1 Axes>"
      ]
     },
     "metadata": {
      "needs_background": "light"
     },
     "output_type": "display_data"
    },
    {
     "data": {
      "image/png": "[encoded data removed]",
      "text/plain": [
       "<Figure size 720x432 with 1 Axes>"
      ]
     },
     "metadata": {
      "needs_background": "light"
     },
     "output_type": "display_data"
    }
   ],
   "source": [
    "# plot the loss function #342b38\n",
    "fig, ax = plt.subplots(1,1,figsize = (10,6))\n",
    "ax.plot(history.history['loss'],color = '#ff9595',label = 'Train')\n",
    "ax.plot(history.history['val_loss'],color = '#342b38',label = 'val')\n",
    "ax.set_xlabel('Epoch',fontsize=20)\n",
    "ax.set_ylabel('Loss',fontsize=20)\n",
    "ax.set_title('Loss Function',fontsize = 15)\n",
    "ax.legend()\n",
    "ax.tick_params(labelsize=20)\n",
    "\n",
    "# plot the accuracy\n",
    "fig, ax = plt.subplots(1,1,figsize = (10,6))\n",
    "ax.plot(history.history['accuracy'],color = '#ff9595',label = 'Train')\n",
    "ax.plot(history.history['val_accuracy'],color = '#342b38',label = 'val')\n",
    "ax.set_xlabel('Epoch',fontsize=20)\n",
    "ax.set_ylabel('Loss',fontsize=20)\n",
    "ax.set_title('Accuracy',fontsize = 15)\n",
    "ax.legend()\n",
    "ax.tick_params(labelsize=20)"
   ]
  },
  {
   "cell_type": "code",
   "execution_count": null,
   "metadata": {},
   "outputs": [],
   "source": []
  },
  {
   "cell_type": "markdown",
   "metadata": {},
   "source": [
    "# Evaluation and Testing"
   ]
  },
  {
   "cell_type": "code",
   "execution_count": 30,
   "metadata": {},
   "outputs": [
    {
     "name": "stdout",
     "output_type": "stream",
     "text": [
      "Training Accuracy: 0.9862022399902344\n",
      "Test Accuracy: 0.9682103395462036\n"
     ]
    }
   ],
   "source": [
    "score = model.evaluate(x_train,y_train,verbose=0)\n",
    "print(f\"Training Accuracy: {score[1]}\")\n",
    "\n",
    "score = model.evaluate(x_test,y_test,verbose = 0)\n",
    "print(f\"Test Accuracy: {score[1]}\")"
   ]
  },
  {
   "cell_type": "code",
   "execution_count": 75,
   "metadata": {},
   "outputs": [],
   "source": [
    "def extract(file, pad = False):\n",
    "    max_pad_len = 174\n",
    "    try:\n",
    "        data, sr = librosa.load(file)\n",
    "        mfccs = librosa.feature.mfcc(data, sr = sr, n_mfcc = 25)\n",
    "        if pad:\n",
    "            # ensure that all files are the of fixed size\n",
    "            pad_width = max_pad_len - mfccs.shape[1]\n",
    "            mfccs = np.pad(mfccs, pad_width=((0, 0), (0, pad_width)), mode='constant')\n",
    "        else:\n",
    "            mfccs = librosa.util.normalize(np.mean(mfccs.T, axis = 0))\n",
    "        \n",
    "        \n",
    "        \n",
    "    except Exception as e:\n",
    "        print(f\"An error occured when trying to load {os.path.basename(file)} {e}\")\n",
    "        return None\n",
    "    \n",
    "    return np.array([mfccs])\n",
    "\n",
    "def prediction(filename, pad = False):\n",
    "    # get the MFCC for the file\n",
    "    feature = extract(filename)\n",
    "    \n",
    "    \n",
    "    # predicting the class (predict_classes() for classification, predict() for regression)\n",
    "    pvector = model.predict_classes(feature)\n",
    "    # Transform labels back to original encoding\n",
    "    label = le.inverse_transform(pvector)\n",
    "    print(f\"The predicted category is: {label[0]}\")\n",
    "    \n",
    "    # predict the probability for each category\n",
    "    probability = model.predict_proba(feature)[0]\n",
    "    #print(probability)\n",
    "    for p in range(len(probability)):\n",
    "        category = le.inverse_transform(np.array([p]))\n",
    "        print(f\"{category[0]}\\t: {round(probability[p], 5)}\")\n",
    "    \n",
    "    "
   ]
  },
  {
   "cell_type": "code",
   "execution_count": 79,
   "metadata": {},
   "outputs": [
    {
     "name": "stdout",
     "output_type": "stream",
     "text": [
      "The predicted category is: Kick\n",
      "Kick\t: 0.998740017414093\n",
      "Snare\t: 0.0012600000482052565\n"
     ]
    }
   ],
   "source": [
    "file = r'E:\\Sample library\\Spring\\Samplified Packs\\Samplified Bounce pack\\01 - Drums & Percs\\Kicks\\Kick 3.wav'\n",
    "prediction(file)"
   ]
  },
  {
   "cell_type": "code",
   "execution_count": null,
   "metadata": {},
   "outputs": [],
   "source": []
  },
  {
   "cell_type": "code",
   "execution_count": null,
   "metadata": {},
   "outputs": [],
   "source": []
  }
 ],
 "metadata": {
  "kernelspec": {
   "display_name": "Python 3",
   "language": "python",
   "name": "python3"
  },
  "language_info": {
   "codemirror_mode": {
    "name": "ipython",
    "version": 3
   },
   "file_extension": ".py",
   "mimetype": "text/x-python",
   "name": "python",
   "nbconvert_exporter": "python",
   "pygments_lexer": "ipython3",
   "version": "3.7.4"
  }
 },
 "nbformat": 4,
 "nbformat_minor": 4
}
