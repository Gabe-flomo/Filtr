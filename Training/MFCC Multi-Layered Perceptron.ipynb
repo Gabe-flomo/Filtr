{
 "cells": [
  {
   "cell_type": "code",
   "execution_count": 1,
   "metadata": {},
   "outputs": [
    {
     "name": "stderr",
     "output_type": "stream",
     "text": [
      "Using TensorFlow backend.\n"
     ]
    }
   ],
   "source": [
    "import pandas as pd\n",
    "import numpy as np\n",
    "from keras.models import Sequential\n",
    "from keras.layers import Dense, Dropout, Activation, Flatten\n",
    "from keras.layers import Convolution2D, Conv2D, MaxPooling2D, GlobalAveragePooling2D\n",
    "from keras.optimizers import Adam\n",
    "from keras.utils import np_utils\n",
    "from sklearn import metrics \n",
    "from keras.callbacks import ModelCheckpoint \n",
    "from datetime import datetime \n",
    "from sklearn.preprocessing import LabelEncoder\n",
    "from keras.utils import to_categorical\n",
    "import os\n",
    "import librosa\n",
    "from sklearn.model_selection import train_test_split "
   ]
  },
  {
   "cell_type": "code",
   "execution_count": 2,
   "metadata": {},
   "outputs": [],
   "source": [
    "DATA = \"E:\\Documents\\My Projects\\Filtr\\Data\\JSON\\MLP.pkl\""
   ]
  },
  {
   "cell_type": "code",
   "execution_count": 3,
   "metadata": {},
   "outputs": [],
   "source": [
    "df = pd.read_pickle(DATA) "
   ]
  },
  {
   "cell_type": "code",
   "execution_count": 9,
   "metadata": {},
   "outputs": [],
   "source": [
    "np.random.shuffle(df.values)"
   ]
  },
  {
   "cell_type": "code",
   "execution_count": 10,
   "metadata": {},
   "outputs": [
    {
     "data": {
      "text/html": [
       "<div>\n",
       "<style scoped>\n",
       "    .dataframe tbody tr th:only-of-type {\n",
       "        vertical-align: middle;\n",
       "    }\n",
       "\n",
       "    .dataframe tbody tr th {\n",
       "        vertical-align: top;\n",
       "    }\n",
       "\n",
       "    .dataframe thead th {\n",
       "        text-align: right;\n",
       "    }\n",
       "</style>\n",
       "<table border=\"1\" class=\"dataframe\">\n",
       "  <thead>\n",
       "    <tr style=\"text-align: right;\">\n",
       "      <th></th>\n",
       "      <th>label</th>\n",
       "      <th>data</th>\n",
       "    </tr>\n",
       "  </thead>\n",
       "  <tbody>\n",
       "    <tr>\n",
       "      <th>0</th>\n",
       "      <td>Kick</td>\n",
       "      <td>[-1.0, 0.6699125, 0.25268015, 0.16941677, 0.09...</td>\n",
       "    </tr>\n",
       "    <tr>\n",
       "      <th>1</th>\n",
       "      <td>Snare</td>\n",
       "      <td>[-1.0, 0.4057558, 0.0821337, -0.06824116, -0.0...</td>\n",
       "    </tr>\n",
       "    <tr>\n",
       "      <th>2</th>\n",
       "      <td>Snare</td>\n",
       "      <td>[-1.0, 0.053312045, -0.061355673, 0.0110900225...</td>\n",
       "    </tr>\n",
       "    <tr>\n",
       "      <th>3</th>\n",
       "      <td>Kick</td>\n",
       "      <td>[-1.0, 0.20924157, 0.0831846, 0.069313176, 0.0...</td>\n",
       "    </tr>\n",
       "    <tr>\n",
       "      <th>4</th>\n",
       "      <td>Snare</td>\n",
       "      <td>[-1.0, 0.5064266, -0.12502126, 0.16685188, 0.0...</td>\n",
       "    </tr>\n",
       "  </tbody>\n",
       "</table>\n",
       "</div>"
      ],
      "text/plain": [
       "   label                                               data\n",
       "0   Kick  [-1.0, 0.6699125, 0.25268015, 0.16941677, 0.09...\n",
       "1  Snare  [-1.0, 0.4057558, 0.0821337, -0.06824116, -0.0...\n",
       "2  Snare  [-1.0, 0.053312045, -0.061355673, 0.0110900225...\n",
       "3   Kick  [-1.0, 0.20924157, 0.0831846, 0.069313176, 0.0...\n",
       "4  Snare  [-1.0, 0.5064266, -0.12502126, 0.16685188, 0.0..."
      ]
     },
     "execution_count": 10,
     "metadata": {},
     "output_type": "execute_result"
    }
   ],
   "source": [
    "df.head()"
   ]
  },
  {
   "cell_type": "code",
   "execution_count": 11,
   "metadata": {},
   "outputs": [
    {
     "data": {
      "text/plain": [
       "Snare    5374\n",
       "Kick     3117\n",
       "Name: label, dtype: int64"
      ]
     },
     "execution_count": 11,
     "metadata": {},
     "output_type": "execute_result"
    }
   ],
   "source": [
    "df['label'].value_counts()"
   ]
  },
  {
   "cell_type": "code",
   "execution_count": 12,
   "metadata": {},
   "outputs": [],
   "source": [
    "# convert features and labels to numpy arrays\n",
    "X = np.array(df.data.tolist())\n",
    "y = np.array(df.label.tolist())"
   ]
  },
  {
   "cell_type": "code",
   "execution_count": 21,
   "metadata": {},
   "outputs": [],
   "source": [
    "# Encode classification labels\n",
    "le = LabelEncoder()\n",
    "labels = to_categorical(le.fit_transform(y))"
   ]
  },
  {
   "cell_type": "code",
   "execution_count": 22,
   "metadata": {},
   "outputs": [
    {
     "data": {
      "text/plain": [
       "array([[1., 0.],\n",
       "       [0., 1.],\n",
       "       [0., 1.],\n",
       "       ...,\n",
       "       [0., 1.],\n",
       "       [0., 1.],\n",
       "       [0., 1.]], dtype=float32)"
      ]
     },
     "execution_count": 22,
     "metadata": {},
     "output_type": "execute_result"
    }
   ],
   "source": [
    "# 0 for kick\n",
    "# 1 for snare\n",
    "labels"
   ]
  },
  {
   "cell_type": "code",
   "execution_count": 23,
   "metadata": {},
   "outputs": [],
   "source": [
    "# split the data set\n",
    "x_train, x_test, y_train, y_test = train_test_split(X,labels,test_size = .3, random_state = 42)"
   ]
  },
  {
   "cell_type": "code",
   "execution_count": 24,
   "metadata": {},
   "outputs": [
    {
     "name": "stdout",
     "output_type": "stream",
     "text": [
      "Training data shape: (5943, 25)\n",
      "Testing data shape: (2548, 25)\n",
      "Training labels shape: (5943, 2)\n",
      "Testing labels shape: (2548, 2)\n"
     ]
    }
   ],
   "source": [
    "print(f\"Training data shape: {x_train.shape}\")\n",
    "print(f\"Testing data shape: {x_test.shape}\")\n",
    "print(f\"Training labels shape: {y_train.shape}\")\n",
    "print(f\"Testing labels shape: {y_test.shape}\")"
   ]
  },
  {
   "cell_type": "markdown",
   "metadata": {},
   "source": [
    "# MLP Model"
   ]
  },
  {
   "cell_type": "code",
   "execution_count": 26,
   "metadata": {},
   "outputs": [
    {
     "name": "stdout",
     "output_type": "stream",
     "text": [
      "Model: \"sequential_6\"\n",
      "_________________________________________________________________\n",
      "Layer (type)                 Output Shape              Param #   \n",
      "=================================================================\n",
      "dense_19 (Dense)             (None, 512)               13312     \n",
      "_________________________________________________________________\n",
      "activation_19 (Activation)   (None, 512)               0         \n",
      "_________________________________________________________________\n",
      "dropout_15 (Dropout)         (None, 512)               0         \n",
      "_________________________________________________________________\n",
      "dense_20 (Dense)             (None, 256)               131328    \n",
      "_________________________________________________________________\n",
      "activation_20 (Activation)   (None, 256)               0         \n",
      "_________________________________________________________________\n",
      "dropout_16 (Dropout)         (None, 256)               0         \n",
      "_________________________________________________________________\n",
      "dense_21 (Dense)             (None, 200)               51400     \n",
      "_________________________________________________________________\n",
      "activation_21 (Activation)   (None, 200)               0         \n",
      "_________________________________________________________________\n",
      "dropout_17 (Dropout)         (None, 200)               0         \n",
      "_________________________________________________________________\n",
      "dense_22 (Dense)             (None, 2)                 402       \n",
      "_________________________________________________________________\n",
      "activation_22 (Activation)   (None, 2)                 0         \n",
      "=================================================================\n",
      "Total params: 196,442\n",
      "Trainable params: 196,442\n",
      "Non-trainable params: 0\n",
      "_________________________________________________________________\n",
      "Pretraining accuracy: 38.54%\n"
     ]
    }
   ],
   "source": [
    "num_labels = 2\n",
    "\n",
    "# build model\n",
    "model = Sequential()\n",
    "\n",
    "model.add(Dense(512, input_shape = (25,)))\n",
    "model.add(Activation('relu'))\n",
    "model.add(Dropout(.3))\n",
    "\n",
    "model.add(Dense(256))\n",
    "model.add(Activation('relu'))\n",
    "model.add(Dropout(.5))\n",
    "\n",
    "model.add(Dense(200))\n",
    "model.add(Activation('relu'))\n",
    "model.add(Dropout(.5))\n",
    "\n",
    "model.add(Dense(num_labels))\n",
    "model.add(Activation('softmax'))\n",
    "\n",
    "model.compile(loss = 'categorical_crossentropy', metrics = ['accuracy'], optimizer = 'adam')\n",
    "\n",
    "model.summary()\n",
    "\n",
    "# calculate pre-training accuracy\n",
    "score = model.evaluate(x_test, y_test, verbose=0)\n",
    "accuracy = score[1]*100\n",
    "print(f\"Pretraining accuracy: {round(accuracy,2)}%\")"
   ]
  },
  {
   "cell_type": "code",
   "execution_count": 28,
   "metadata": {},
   "outputs": [
    {
     "name": "stdout",
     "output_type": "stream",
     "text": [
      "Wall time: 0 ns\n",
      "Train on 5943 samples, validate on 2548 samples\n",
      "Epoch 1/75\n",
      "5943/5943 [==============================] - 1s 132us/step - loss: 0.3345 - accuracy: 0.8528 - val_loss: 0.1886 - val_accuracy: 0.9364\n",
      "\n",
      "Epoch 00001: val_loss improved from inf to 0.18861, saving model to E:\\Documents\\My Projects\\Filtr\\Models\\mlp.hdf5\n",
      "Epoch 2/75\n",
      "5943/5943 [==============================] - 0s 74us/step - loss: 0.1615 - accuracy: 0.9418 - val_loss: 0.1627 - val_accuracy: 0.9494\n",
      "\n",
      "Epoch 00002: val_loss improved from 0.18861 to 0.16266, saving model to E:\\Documents\\My Projects\\Filtr\\Models\\mlp.hdf5\n",
      "Epoch 3/75\n",
      "5943/5943 [==============================] - 0s 76us/step - loss: 0.1340 - accuracy: 0.9531 - val_loss: 0.1498 - val_accuracy: 0.9509\n",
      "\n",
      "Epoch 00003: val_loss improved from 0.16266 to 0.14980, saving model to E:\\Documents\\My Projects\\Filtr\\Models\\mlp.hdf5\n",
      "Epoch 4/75\n",
      "5943/5943 [==============================] - 0s 73us/step - loss: 0.1193 - accuracy: 0.9605 - val_loss: 0.1487 - val_accuracy: 0.9521\n",
      "\n",
      "Epoch 00004: val_loss improved from 0.14980 to 0.14867, saving model to E:\\Documents\\My Projects\\Filtr\\Models\\mlp.hdf5\n",
      "Epoch 5/75\n",
      "5943/5943 [==============================] - 1s 91us/step - loss: 0.1119 - accuracy: 0.9653 - val_loss: 0.1377 - val_accuracy: 0.9596\n",
      "\n",
      "Epoch 00005: val_loss improved from 0.14867 to 0.13768, saving model to E:\\Documents\\My Projects\\Filtr\\Models\\mlp.hdf5\n",
      "Epoch 6/75\n",
      "5943/5943 [==============================] - 0s 78us/step - loss: 0.1122 - accuracy: 0.9638 - val_loss: 0.1388 - val_accuracy: 0.9588\n",
      "\n",
      "Epoch 00006: val_loss did not improve from 0.13768\n",
      "Epoch 7/75\n",
      "5943/5943 [==============================] - 0s 75us/step - loss: 0.1073 - accuracy: 0.9665 - val_loss: 0.1392 - val_accuracy: 0.9584\n",
      "\n",
      "Epoch 00007: val_loss did not improve from 0.13768\n",
      "Epoch 8/75\n",
      "5943/5943 [==============================] - 0s 75us/step - loss: 0.1044 - accuracy: 0.9669 - val_loss: 0.1313 - val_accuracy: 0.9604\n",
      "\n",
      "Epoch 00008: val_loss improved from 0.13768 to 0.13135, saving model to E:\\Documents\\My Projects\\Filtr\\Models\\mlp.hdf5\n",
      "Epoch 9/75\n",
      "5943/5943 [==============================] - 1s 93us/step - loss: 0.1028 - accuracy: 0.9674 - val_loss: 0.1279 - val_accuracy: 0.9588\n",
      "\n",
      "Epoch 00009: val_loss improved from 0.13135 to 0.12788, saving model to E:\\Documents\\My Projects\\Filtr\\Models\\mlp.hdf5\n",
      "Epoch 10/75\n",
      "5943/5943 [==============================] - 1s 91us/step - loss: 0.0978 - accuracy: 0.9689 - val_loss: 0.1256 - val_accuracy: 0.9619\n",
      "\n",
      "Epoch 00010: val_loss improved from 0.12788 to 0.12564, saving model to E:\\Documents\\My Projects\\Filtr\\Models\\mlp.hdf5\n",
      "Epoch 11/75\n",
      "5943/5943 [==============================] - 1s 94us/step - loss: 0.0982 - accuracy: 0.9680 - val_loss: 0.1722 - val_accuracy: 0.9486\n",
      "\n",
      "Epoch 00011: val_loss did not improve from 0.12564\n",
      "Epoch 12/75\n",
      "5943/5943 [==============================] - 1s 98us/step - loss: 0.0933 - accuracy: 0.9707 - val_loss: 0.1260 - val_accuracy: 0.9631\n",
      "\n",
      "Epoch 00012: val_loss did not improve from 0.12564\n",
      "Epoch 13/75\n",
      "5943/5943 [==============================] - 1s 84us/step - loss: 0.0910 - accuracy: 0.9721 - val_loss: 0.1204 - val_accuracy: 0.9651\n",
      "\n",
      "Epoch 00013: val_loss improved from 0.12564 to 0.12039, saving model to E:\\Documents\\My Projects\\Filtr\\Models\\mlp.hdf5\n",
      "Epoch 14/75\n",
      "5943/5943 [==============================] - 0s 79us/step - loss: 0.0913 - accuracy: 0.9722 - val_loss: 0.1178 - val_accuracy: 0.9655\n",
      "\n",
      "Epoch 00014: val_loss improved from 0.12039 to 0.11785, saving model to E:\\Documents\\My Projects\\Filtr\\Models\\mlp.hdf5\n",
      "Epoch 15/75\n",
      "5943/5943 [==============================] - 0s 79us/step - loss: 0.0865 - accuracy: 0.9722 - val_loss: 0.1239 - val_accuracy: 0.9639\n",
      "\n",
      "Epoch 00015: val_loss did not improve from 0.11785\n",
      "Epoch 16/75\n",
      "5943/5943 [==============================] - 0s 79us/step - loss: 0.0869 - accuracy: 0.9721 - val_loss: 0.1199 - val_accuracy: 0.9655\n",
      "\n",
      "Epoch 00016: val_loss did not improve from 0.11785\n",
      "Epoch 17/75\n",
      "5943/5943 [==============================] - 0s 77us/step - loss: 0.0869 - accuracy: 0.9743 - val_loss: 0.1325 - val_accuracy: 0.9639\n",
      "\n",
      "Epoch 00017: val_loss did not improve from 0.11785\n",
      "Epoch 18/75\n",
      "5943/5943 [==============================] - 0s 76us/step - loss: 0.0879 - accuracy: 0.9726 - val_loss: 0.1214 - val_accuracy: 0.9627\n",
      "\n",
      "Epoch 00018: val_loss did not improve from 0.11785\n",
      "Epoch 19/75\n",
      "5943/5943 [==============================] - 0s 77us/step - loss: 0.0837 - accuracy: 0.9739 - val_loss: 0.1189 - val_accuracy: 0.9655\n",
      "\n",
      "Epoch 00019: val_loss did not improve from 0.11785\n",
      "Epoch 20/75\n",
      "5943/5943 [==============================] - 0s 78us/step - loss: 0.0817 - accuracy: 0.9744 - val_loss: 0.1228 - val_accuracy: 0.9659\n",
      "\n",
      "Epoch 00020: val_loss did not improve from 0.11785\n",
      "Epoch 21/75\n",
      "5943/5943 [==============================] - 0s 80us/step - loss: 0.0824 - accuracy: 0.9754 - val_loss: 0.1449 - val_accuracy: 0.9576\n",
      "\n",
      "Epoch 00021: val_loss did not improve from 0.11785\n",
      "Epoch 22/75\n",
      "5943/5943 [==============================] - 0s 77us/step - loss: 0.0788 - accuracy: 0.9759 - val_loss: 0.1193 - val_accuracy: 0.9674\n",
      "\n",
      "Epoch 00022: val_loss did not improve from 0.11785\n",
      "Epoch 23/75\n",
      "5943/5943 [==============================] - 1s 87us/step - loss: 0.0791 - accuracy: 0.9756 - val_loss: 0.1149 - val_accuracy: 0.9682\n",
      "\n",
      "Epoch 00023: val_loss improved from 0.11785 to 0.11488, saving model to E:\\Documents\\My Projects\\Filtr\\Models\\mlp.hdf5\n",
      "Epoch 24/75\n",
      "5943/5943 [==============================] - 0s 77us/step - loss: 0.0765 - accuracy: 0.9759 - val_loss: 0.1281 - val_accuracy: 0.9674\n",
      "\n",
      "Epoch 00024: val_loss did not improve from 0.11488\n",
      "Epoch 25/75\n",
      "5943/5943 [==============================] - 0s 80us/step - loss: 0.0764 - accuracy: 0.9758 - val_loss: 0.1205 - val_accuracy: 0.9651\n",
      "\n",
      "Epoch 00025: val_loss did not improve from 0.11488\n",
      "Epoch 26/75\n",
      "5943/5943 [==============================] - 0s 84us/step - loss: 0.0772 - accuracy: 0.9759 - val_loss: 0.1122 - val_accuracy: 0.9678\n",
      "\n",
      "Epoch 00026: val_loss improved from 0.11488 to 0.11219, saving model to E:\\Documents\\My Projects\\Filtr\\Models\\mlp.hdf5\n",
      "Epoch 27/75\n",
      "5943/5943 [==============================] - 0s 83us/step - loss: 0.0819 - accuracy: 0.9727 - val_loss: 0.1103 - val_accuracy: 0.9662\n",
      "\n",
      "Epoch 00027: val_loss improved from 0.11219 to 0.11027, saving model to E:\\Documents\\My Projects\\Filtr\\Models\\mlp.hdf5\n",
      "Epoch 28/75\n",
      "5943/5943 [==============================] - 0s 74us/step - loss: 0.0791 - accuracy: 0.9753 - val_loss: 0.1095 - val_accuracy: 0.9678\n",
      "\n",
      "Epoch 00028: val_loss improved from 0.11027 to 0.10952, saving model to E:\\Documents\\My Projects\\Filtr\\Models\\mlp.hdf5\n",
      "Epoch 29/75\n",
      "5943/5943 [==============================] - 1s 92us/step - loss: 0.0739 - accuracy: 0.9769 - val_loss: 0.1184 - val_accuracy: 0.9666\n",
      "\n",
      "Epoch 00029: val_loss did not improve from 0.10952\n",
      "Epoch 30/75\n",
      "5943/5943 [==============================] - 1s 94us/step - loss: 0.0739 - accuracy: 0.9780 - val_loss: 0.1209 - val_accuracy: 0.9670\n",
      "\n",
      "Epoch 00030: val_loss did not improve from 0.10952\n",
      "Epoch 31/75\n",
      "5943/5943 [==============================] - 1s 95us/step - loss: 0.0724 - accuracy: 0.9780 - val_loss: 0.1119 - val_accuracy: 0.9674\n",
      "\n",
      "Epoch 00031: val_loss did not improve from 0.10952\n",
      "Epoch 32/75\n",
      "5943/5943 [==============================] - 1s 94us/step - loss: 0.0770 - accuracy: 0.9778 - val_loss: 0.1188 - val_accuracy: 0.9670\n",
      "\n",
      "Epoch 00032: val_loss did not improve from 0.10952\n",
      "Epoch 33/75\n",
      "5943/5943 [==============================] - 0s 84us/step - loss: 0.0715 - accuracy: 0.9780 - val_loss: 0.1147 - val_accuracy: 0.9670\n",
      "\n",
      "Epoch 00033: val_loss did not improve from 0.10952\n",
      "Epoch 34/75\n",
      "5943/5943 [==============================] - 0s 74us/step - loss: 0.0720 - accuracy: 0.9785 - val_loss: 0.1187 - val_accuracy: 0.9670\n",
      "\n",
      "Epoch 00034: val_loss did not improve from 0.10952\n",
      "Epoch 35/75\n",
      "5943/5943 [==============================] - 0s 77us/step - loss: 0.0708 - accuracy: 0.9780 - val_loss: 0.1226 - val_accuracy: 0.9678\n",
      "\n",
      "Epoch 00035: val_loss did not improve from 0.10952\n",
      "Epoch 36/75\n",
      "5943/5943 [==============================] - 0s 75us/step - loss: 0.0690 - accuracy: 0.9785 - val_loss: 0.1308 - val_accuracy: 0.9666\n",
      "\n",
      "Epoch 00036: val_loss did not improve from 0.10952\n",
      "Epoch 37/75\n"
     ]
    },
    {
     "name": "stdout",
     "output_type": "stream",
     "text": [
      "5943/5943 [==============================] - 0s 73us/step - loss: 0.0684 - accuracy: 0.9783 - val_loss: 0.1234 - val_accuracy: 0.9670\n",
      "\n",
      "Epoch 00037: val_loss did not improve from 0.10952\n",
      "Epoch 38/75\n",
      "5943/5943 [==============================] - 0s 74us/step - loss: 0.0681 - accuracy: 0.9788 - val_loss: 0.1282 - val_accuracy: 0.9670\n",
      "\n",
      "Epoch 00038: val_loss did not improve from 0.10952\n",
      "Epoch 39/75\n",
      "5943/5943 [==============================] - 0s 78us/step - loss: 0.0661 - accuracy: 0.9788 - val_loss: 0.1223 - val_accuracy: 0.9666\n",
      "\n",
      "Epoch 00039: val_loss did not improve from 0.10952\n",
      "Epoch 40/75\n",
      "5943/5943 [==============================] - 0s 73us/step - loss: 0.0730 - accuracy: 0.9773 - val_loss: 0.1173 - val_accuracy: 0.9670\n",
      "\n",
      "Epoch 00040: val_loss did not improve from 0.10952\n",
      "Epoch 41/75\n",
      "5943/5943 [==============================] - 0s 72us/step - loss: 0.0677 - accuracy: 0.9788 - val_loss: 0.1206 - val_accuracy: 0.9655\n",
      "\n",
      "Epoch 00041: val_loss did not improve from 0.10952\n",
      "Epoch 42/75\n",
      "5943/5943 [==============================] - 0s 73us/step - loss: 0.0652 - accuracy: 0.9793 - val_loss: 0.1194 - val_accuracy: 0.9674\n",
      "\n",
      "Epoch 00042: val_loss did not improve from 0.10952\n",
      "Epoch 43/75\n",
      "5943/5943 [==============================] - 0s 76us/step - loss: 0.0680 - accuracy: 0.9775 - val_loss: 0.1140 - val_accuracy: 0.9678\n",
      "\n",
      "Epoch 00043: val_loss did not improve from 0.10952\n",
      "Epoch 44/75\n",
      "5943/5943 [==============================] - 0s 78us/step - loss: 0.0670 - accuracy: 0.9786 - val_loss: 0.1328 - val_accuracy: 0.9662\n",
      "\n",
      "Epoch 00044: val_loss did not improve from 0.10952\n",
      "Epoch 45/75\n",
      "5943/5943 [==============================] - 0s 70us/step - loss: 0.0700 - accuracy: 0.9788 - val_loss: 0.1332 - val_accuracy: 0.9678\n",
      "\n",
      "Epoch 00045: val_loss did not improve from 0.10952\n",
      "Epoch 46/75\n",
      "5943/5943 [==============================] - 0s 76us/step - loss: 0.0648 - accuracy: 0.9793 - val_loss: 0.1382 - val_accuracy: 0.9623\n",
      "\n",
      "Epoch 00046: val_loss did not improve from 0.10952\n",
      "Epoch 47/75\n",
      "5943/5943 [==============================] - 0s 81us/step - loss: 0.0659 - accuracy: 0.9800 - val_loss: 0.1306 - val_accuracy: 0.9659\n",
      "\n",
      "Epoch 00047: val_loss did not improve from 0.10952\n",
      "Epoch 48/75\n",
      "5943/5943 [==============================] - 0s 76us/step - loss: 0.0653 - accuracy: 0.9788 - val_loss: 0.1285 - val_accuracy: 0.9651\n",
      "\n",
      "Epoch 00048: val_loss did not improve from 0.10952\n",
      "Epoch 49/75\n",
      "5943/5943 [==============================] - 0s 74us/step - loss: 0.0636 - accuracy: 0.9791 - val_loss: 0.1218 - val_accuracy: 0.9670\n",
      "\n",
      "Epoch 00049: val_loss did not improve from 0.10952\n",
      "Epoch 50/75\n",
      "5943/5943 [==============================] - 0s 73us/step - loss: 0.0641 - accuracy: 0.9808 - val_loss: 0.1217 - val_accuracy: 0.9678\n",
      "\n",
      "Epoch 00050: val_loss did not improve from 0.10952\n",
      "Epoch 51/75\n",
      "5943/5943 [==============================] - 0s 76us/step - loss: 0.0605 - accuracy: 0.9815 - val_loss: 0.1392 - val_accuracy: 0.9662\n",
      "\n",
      "Epoch 00051: val_loss did not improve from 0.10952\n",
      "Epoch 52/75\n",
      "5943/5943 [==============================] - 0s 74us/step - loss: 0.0597 - accuracy: 0.9820 - val_loss: 0.1391 - val_accuracy: 0.9666\n",
      "\n",
      "Epoch 00052: val_loss did not improve from 0.10952\n",
      "Epoch 53/75\n",
      "5943/5943 [==============================] - 0s 76us/step - loss: 0.0642 - accuracy: 0.9798 - val_loss: 0.1528 - val_accuracy: 0.9643\n",
      "\n",
      "Epoch 00053: val_loss did not improve from 0.10952\n",
      "Epoch 54/75\n",
      "5943/5943 [==============================] - 0s 74us/step - loss: 0.0660 - accuracy: 0.9771 - val_loss: 0.1356 - val_accuracy: 0.9659\n",
      "\n",
      "Epoch 00054: val_loss did not improve from 0.10952\n",
      "Epoch 55/75\n",
      "5943/5943 [==============================] - 0s 84us/step - loss: 0.0645 - accuracy: 0.9788 - val_loss: 0.1361 - val_accuracy: 0.9659\n",
      "\n",
      "Epoch 00055: val_loss did not improve from 0.10952\n",
      "Epoch 56/75\n",
      "5943/5943 [==============================] - 0s 73us/step - loss: 0.0630 - accuracy: 0.9805 - val_loss: 0.1317 - val_accuracy: 0.9674\n",
      "\n",
      "Epoch 00056: val_loss did not improve from 0.10952\n",
      "Epoch 57/75\n",
      "5943/5943 [==============================] - 0s 75us/step - loss: 0.0576 - accuracy: 0.9810 - val_loss: 0.1244 - val_accuracy: 0.9670\n",
      "\n",
      "Epoch 00057: val_loss did not improve from 0.10952\n",
      "Epoch 58/75\n",
      "5943/5943 [==============================] - 0s 75us/step - loss: 0.0610 - accuracy: 0.9805 - val_loss: 0.1468 - val_accuracy: 0.9655\n",
      "\n",
      "Epoch 00058: val_loss did not improve from 0.10952\n",
      "Epoch 59/75\n",
      "5943/5943 [==============================] - 0s 74us/step - loss: 0.0576 - accuracy: 0.9818 - val_loss: 0.1437 - val_accuracy: 0.9678\n",
      "\n",
      "Epoch 00059: val_loss did not improve from 0.10952\n",
      "Epoch 60/75\n",
      "5943/5943 [==============================] - 0s 75us/step - loss: 0.0586 - accuracy: 0.9817 - val_loss: 0.1657 - val_accuracy: 0.9647\n",
      "\n",
      "Epoch 00060: val_loss did not improve from 0.10952\n",
      "Epoch 61/75\n",
      "5943/5943 [==============================] - 0s 74us/step - loss: 0.0627 - accuracy: 0.9798 - val_loss: 0.1459 - val_accuracy: 0.9659\n",
      "\n",
      "Epoch 00061: val_loss did not improve from 0.10952\n",
      "Epoch 62/75\n",
      "5943/5943 [==============================] - 0s 74us/step - loss: 0.0589 - accuracy: 0.9803 - val_loss: 0.1500 - val_accuracy: 0.9666\n",
      "\n",
      "Epoch 00062: val_loss did not improve from 0.10952\n",
      "Epoch 63/75\n",
      "5943/5943 [==============================] - 0s 74us/step - loss: 0.0584 - accuracy: 0.9808 - val_loss: 0.1383 - val_accuracy: 0.9670\n",
      "\n",
      "Epoch 00063: val_loss did not improve from 0.10952\n",
      "Epoch 64/75\n",
      "5943/5943 [==============================] - 0s 75us/step - loss: 0.0557 - accuracy: 0.9830 - val_loss: 0.1337 - val_accuracy: 0.9698\n",
      "\n",
      "Epoch 00064: val_loss did not improve from 0.10952\n",
      "Epoch 65/75\n",
      "5943/5943 [==============================] - 0s 75us/step - loss: 0.0584 - accuracy: 0.9818 - val_loss: 0.1323 - val_accuracy: 0.9670\n",
      "\n",
      "Epoch 00065: val_loss did not improve from 0.10952\n",
      "Epoch 66/75\n",
      "5943/5943 [==============================] - 0s 82us/step - loss: 0.0587 - accuracy: 0.9803 - val_loss: 0.1443 - val_accuracy: 0.9670\n",
      "\n",
      "Epoch 00066: val_loss did not improve from 0.10952\n",
      "Epoch 67/75\n",
      "5943/5943 [==============================] - 0s 76us/step - loss: 0.0569 - accuracy: 0.9820 - val_loss: 0.1346 - val_accuracy: 0.9674\n",
      "\n",
      "Epoch 00067: val_loss did not improve from 0.10952\n",
      "Epoch 68/75\n",
      "5943/5943 [==============================] - 0s 75us/step - loss: 0.0579 - accuracy: 0.9813 - val_loss: 0.1482 - val_accuracy: 0.9678\n",
      "\n",
      "Epoch 00068: val_loss did not improve from 0.10952\n",
      "Epoch 69/75\n",
      "5943/5943 [==============================] - 0s 75us/step - loss: 0.0549 - accuracy: 0.9835 - val_loss: 0.1431 - val_accuracy: 0.9651\n",
      "\n",
      "Epoch 00069: val_loss did not improve from 0.10952\n",
      "Epoch 70/75\n",
      "5943/5943 [==============================] - 0s 74us/step - loss: 0.0586 - accuracy: 0.9803 - val_loss: 0.1455 - val_accuracy: 0.9674\n",
      "\n",
      "Epoch 00070: val_loss did not improve from 0.10952\n",
      "Epoch 71/75\n",
      "5943/5943 [==============================] - 0s 75us/step - loss: 0.0574 - accuracy: 0.9801 - val_loss: 0.1557 - val_accuracy: 0.9647\n",
      "\n",
      "Epoch 00071: val_loss did not improve from 0.10952\n",
      "Epoch 72/75\n",
      "5943/5943 [==============================] - 0s 75us/step - loss: 0.0573 - accuracy: 0.9803 - val_loss: 0.1448 - val_accuracy: 0.9670\n",
      "\n",
      "Epoch 00072: val_loss did not improve from 0.10952\n",
      "Epoch 73/75\n",
      "5943/5943 [==============================] - 0s 74us/step - loss: 0.0558 - accuracy: 0.9813 - val_loss: 0.1363 - val_accuracy: 0.9670\n",
      "\n",
      "Epoch 00073: val_loss did not improve from 0.10952\n",
      "Epoch 74/75\n",
      "5943/5943 [==============================] - 0s 74us/step - loss: 0.0542 - accuracy: 0.9827 - val_loss: 0.1323 - val_accuracy: 0.9674\n",
      "\n",
      "Epoch 00074: val_loss did not improve from 0.10952\n",
      "Epoch 75/75\n",
      "5943/5943 [==============================] - 0s 81us/step - loss: 0.0522 - accuracy: 0.9840 - val_loss: 0.1685 - val_accuracy: 0.9682\n",
      "\n",
      "Epoch 00075: val_loss did not improve from 0.10952\n"
     ]
    },
    {
     "data": {
      "text/plain": [
       "<keras.callbacks.callbacks.History at 0x2476eef0fc8>"
      ]
     },
     "execution_count": 28,
     "metadata": {},
     "output_type": "execute_result"
    }
   ],
   "source": [
    "epochs = 75\n",
    "batch = 64\n",
    "\n",
    "checkpoint = ModelCheckpoint(filepath = r'E:\\Documents\\My Projects\\Filtr\\Models\\mlp.hdf5',\n",
    "                            verbose = 1, save_best_only=True)\n",
    "%time\n",
    "model.fit(x_train,y_train,\n",
    "         batch_size=batch,\n",
    "         epochs=epochs,\n",
    "         validation_data=(x_test,y_test),\n",
    "         callbacks=[checkpoint],\n",
    "         verbose=1)"
   ]
  },
  {
   "cell_type": "markdown",
   "metadata": {},
   "source": [
    "# Evaluation and Testing"
   ]
  },
  {
   "cell_type": "code",
   "execution_count": 30,
   "metadata": {},
   "outputs": [
    {
     "name": "stdout",
     "output_type": "stream",
     "text": [
      "Training Accuracy: 0.9862022399902344\n",
      "Test Accuracy: 0.9682103395462036\n"
     ]
    }
   ],
   "source": [
    "score = model.evaluate(x_train,y_train,verbose=0)\n",
    "print(f\"Training Accuracy: {score[1]}\")\n",
    "\n",
    "score = model.evaluate(x_test,y_test,verbose = 0)\n",
    "print(f\"Test Accuracy: {score[1]}\")"
   ]
  },
  {
   "cell_type": "code",
   "execution_count": 75,
   "metadata": {},
   "outputs": [],
   "source": [
    "def extract(file, pad = False):\n",
    "    max_pad_len = 174\n",
    "    try:\n",
    "        data, sr = librosa.load(file)\n",
    "        mfccs = librosa.feature.mfcc(data, sr = sr, n_mfcc = 25)\n",
    "        if pad:\n",
    "            # ensure that all files are the of fixed size\n",
    "            pad_width = max_pad_len - mfccs.shape[1]\n",
    "            mfccs = np.pad(mfccs, pad_width=((0, 0), (0, pad_width)), mode='constant')\n",
    "        else:\n",
    "            mfccs = librosa.util.normalize(np.mean(mfccs.T, axis = 0))\n",
    "        \n",
    "        \n",
    "        \n",
    "    except Exception as e:\n",
    "        print(f\"An error occured when trying to load {os.path.basename(file)} {e}\")\n",
    "        return None\n",
    "    \n",
    "    return np.array([mfccs])\n",
    "\n",
    "def prediction(filename, pad = False):\n",
    "    # get the MFCC for the file\n",
    "    feature = extract(filename)\n",
    "    \n",
    "    \n",
    "    # predicting the class (predict_classes() for classification, predict() for regression)\n",
    "    pvector = model.predict_classes(feature)\n",
    "    # Transform labels back to original encoding\n",
    "    label = le.inverse_transform(pvector)\n",
    "    print(f\"The predicted category is: {label[0]}\")\n",
    "    \n",
    "    # predict the probability for each category\n",
    "    probability = model.predict_proba(feature)[0]\n",
    "    #print(probability)\n",
    "    for p in range(len(probability)):\n",
    "        category = le.inverse_transform(np.array([p]))\n",
    "        print(f\"{category[0]}\\t: {round(probability[p], 5)}\")\n",
    "    \n",
    "    "
   ]
  },
  {
   "cell_type": "code",
   "execution_count": 79,
   "metadata": {},
   "outputs": [
    {
     "name": "stdout",
     "output_type": "stream",
     "text": [
      "The predicted category is: Kick\n",
      "Kick\t: 0.998740017414093\n",
      "Snare\t: 0.0012600000482052565\n"
     ]
    }
   ],
   "source": [
    "file = r'E:\\Sample library\\Spring\\Samplified Packs\\Samplified Bounce pack\\01 - Drums & Percs\\Kicks\\Kick 3.wav'\n",
    "prediction(file)"
   ]
  },
  {
   "cell_type": "code",
   "execution_count": null,
   "metadata": {},
   "outputs": [],
   "source": []
  },
  {
   "cell_type": "code",
   "execution_count": null,
   "metadata": {},
   "outputs": [],
   "source": []
  }
 ],
 "metadata": {
  "kernelspec": {
   "display_name": "Python 3",
   "language": "python",
   "name": "python3"
  },
  "language_info": {
   "codemirror_mode": {
    "name": "ipython",
    "version": 3
   },
   "file_extension": ".py",
   "mimetype": "text/x-python",
   "name": "python",
   "nbconvert_exporter": "python",
   "pygments_lexer": "ipython3",
   "version": "3.7.4"
  }
 },
 "nbformat": 4,
 "nbformat_minor": 2
}
