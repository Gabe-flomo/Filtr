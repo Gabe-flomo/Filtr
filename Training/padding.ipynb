{
 "cells": [
  {
   "cell_type": "code",
   "execution_count": 1,
   "metadata": {},
   "outputs": [],
   "source": [
    "import numpy as np"
   ]
  },
  {
   "cell_type": "code",
   "execution_count": 18,
   "metadata": {},
   "outputs": [
    {
     "data": {
      "text/plain": [
       "array([1, 1, 1, 1, 1, 1, 1, 1, 1, 1], dtype=int16)"
      ]
     },
     "execution_count": 18,
     "metadata": {},
     "output_type": "execute_result"
    }
   ],
   "source": [
    "x = np.ones(10,dtype = 'int16')\n",
    "x"
   ]
  },
  {
   "cell_type": "code",
   "execution_count": 19,
   "metadata": {},
   "outputs": [
    {
     "data": {
      "text/plain": [
       "array([[1, 1, 1, 1, 1],\n",
       "       [1, 1, 1, 1, 1]], dtype=int16)"
      ]
     },
     "execution_count": 19,
     "metadata": {},
     "output_type": "execute_result"
    }
   ],
   "source": [
    "# reshape to a matrix with 2 rows and 5 columns\n",
    "x = x.reshape(2,5)\n",
    "x"
   ]
  },
  {
   "cell_type": "code",
   "execution_count": 20,
   "metadata": {},
   "outputs": [
    {
     "data": {
      "text/plain": [
       "array([[0, 0, 0, 0, 0, 0, 0, 0, 0, 0, 0],\n",
       "       [0, 0, 0, 0, 0, 0, 0, 0, 0, 0, 0],\n",
       "       [0, 0, 0, 0, 0, 0, 0, 0, 0, 0, 0],\n",
       "       [0, 0, 0, 1, 1, 1, 1, 1, 0, 0, 0],\n",
       "       [0, 0, 0, 1, 1, 1, 1, 1, 0, 0, 0],\n",
       "       [0, 0, 0, 0, 0, 0, 0, 0, 0, 0, 0],\n",
       "       [0, 0, 0, 0, 0, 0, 0, 0, 0, 0, 0],\n",
       "       [0, 0, 0, 0, 0, 0, 0, 0, 0, 0, 0]], dtype=int16)"
      ]
     },
     "execution_count": 20,
     "metadata": {},
     "output_type": "execute_result"
    }
   ],
   "source": [
    "np.pad(x, 3)"
   ]
  },
  {
   "cell_type": "markdown",
   "metadata": {},
   "source": [
    " __pad_width__ : {sequence, array_like, int}\n",
    "        Number of values padded to the edges of each axis.\n",
    "        ((before_1, after_1), ... (before_N, after_N)) unique pad widths\n",
    "        for each axis.\n",
    "        ((before, after),) yields same before and after pad for each axis.\n",
    "        (pad,) or int is a shortcut for before = after = pad width for all\n",
    "        axes.\n",
    "        \n",
    "* before == left and top sides\n",
    "* after == right and bottom sides"
   ]
  },
  {
   "cell_type": "code",
   "execution_count": 22,
   "metadata": {},
   "outputs": [
    {
     "data": {
      "text/plain": [
       "array([[0, 0, 0, 0, 0, 0, 0, 0, 0],\n",
       "       [0, 1, 1, 1, 1, 1, 0, 0, 0],\n",
       "       [0, 1, 1, 1, 1, 1, 0, 0, 0],\n",
       "       [0, 0, 0, 0, 0, 0, 0, 0, 0],\n",
       "       [0, 0, 0, 0, 0, 0, 0, 0, 0],\n",
       "       [0, 0, 0, 0, 0, 0, 0, 0, 0]], dtype=int16)"
      ]
     },
     "execution_count": 22,
     "metadata": {},
     "output_type": "execute_result"
    }
   ],
   "source": [
    "# pad the matrix with a width of 1 on the top and left sides and with a width of 3 on the bottom and right sides\n",
    "np.pad(x, pad_width=(1,3))"
   ]
  },
  {
   "cell_type": "code",
   "execution_count": 23,
   "metadata": {},
   "outputs": [
    {
     "data": {
      "text/plain": [
       "array([[0, 0, 0, 0, 0, 0, 0, 0],\n",
       "       [0, 0, 0, 0, 0, 0, 0, 0],\n",
       "       [0, 0, 0, 0, 0, 0, 0, 0],\n",
       "       [0, 0, 0, 1, 1, 1, 1, 1],\n",
       "       [0, 0, 0, 1, 1, 1, 1, 1]], dtype=int16)"
      ]
     },
     "execution_count": 23,
     "metadata": {},
     "output_type": "execute_result"
    }
   ],
   "source": [
    "# pad the matrix with a width of 3 on the top and left sides \n",
    "# and with a width of 0 on the bottom and right sides\n",
    "# this will also put the original matrix into the bottom right corner\n",
    "np.pad(x, pad_width=(3,0))"
   ]
  },
  {
   "cell_type": "code",
   "execution_count": 30,
   "metadata": {},
   "outputs": [
    {
     "data": {
      "text/plain": [
       "array([[1, 1, 1, 1, 1, 0, 0, 0],\n",
       "       [1, 1, 1, 1, 1, 0, 0, 0],\n",
       "       [0, 0, 0, 0, 0, 0, 0, 0],\n",
       "       [0, 0, 0, 0, 0, 0, 0, 0],\n",
       "       [0, 0, 0, 0, 0, 0, 0, 0]], dtype=int16)"
      ]
     },
     "execution_count": 30,
     "metadata": {},
     "output_type": "execute_result"
    }
   ],
   "source": [
    "# put the array on the top left corner\n",
    "np.pad(x,(0,3))"
   ]
  },
  {
   "cell_type": "markdown",
   "metadata": {},
   "source": [
    "# Padding different axes\n",
    "\n",
    "__pad_width__ = (before,after)\n",
    "Before is the pad width before you see the values of the vector/matrix your padding. \n",
    "For example, if I have the array\n",
    "```python\n",
    "                                                                [2,4,6] \n",
    "```\n",
    "and my before pad width is (2,0), my new array will look like\n",
    "```python\n",
    "                                                                [0,0,2,4,6] \n",
    "```\n",
    "This is because a vector only has 1 dimension so when its padded it will only pad along that 1 dimension, and since we only specified it to pad __before__ we end up with two 0's at the begining of\n",
    "the vector. \n",
    "\n",
    "If i were to put a value in the after spot, say (2,2), the vector would look like:\n",
    "```python\n",
    "                                                                [0,0,2,4,6,0,0]\n",
    "```\n",
    "Likewise if I had a 2d matrix with the values\n",
    "```python\n",
    "                                                                [[2,4,6]\n",
    "                                                                 [1,3,5]]\n",
    "```\n",
    "and use the same padding (2,0) my new matrix will look like \n",
    "```python\n",
    "                                                                [[... 0,0,0]\n",
    "                                                                 [... 0,0,0]\n",
    "                                                                 [0,0,2,4,6]\n",
    "                                                                 [0,0,1,3,5]]\n",
    "```\n",
    "Because we're now padding in two dimensions, we add 2 rows of zeros on top of [2,4,6], and two columns of zeros before [2,1].  \n",
    "\n",
    "I can specify which axis to pad on by using this syntax:\n",
    "```python\n",
    "   np.pad(  data = vector/matrix, pad_width = ( (before_0,after_0), (before_1,after_1), ...(before_n,after_n) )  )\n",
    "```\n",
    "Where the number corresponds to the axis\n",
    "* 0 = rows (padding on the top and the bottom)\n",
    "* 1 = columns (padding on the left and right sides)\n",
    "* n = can go up to however many dimensions your data has\n",
    "\n",
    "Following these rules,\n",
    "\n",
    "say I want to before pad the columns of my matrix by 2 without any row padding. I can use a pad width of (0,0) to not add any padding along axis 0, and (2,0) to add a padding of 2 along axis 1.\n",
    "```python\n",
    "                                                                pad_width = ((0,0),(2,0))\n",
    "                                                                0 ->    \n",
    "                                                              1 [[0,0,2,4,6]       \n",
    "                                                              |  [0,0,1,3,5]]\n",
    "                                                              v\n",
    "```\n",
    "If I wanted to switch it to add padding along the rows and not the columns I would change it to\n",
    "```python\n",
    "                                                                pad_width = ((2,0),(0,0))\n",
    "                                                                [[0,0,0]\n",
    "                                                                 [0,0,0]\n",
    "                                                                 [2,4,6]\n",
    "                                                                 [1,3,5]]\n",
    "```\n",
    "Adding a value to the __after__ variable will do the same thing but on the opposite side\n",
    "```python\n",
    "                                                                pad_width = ((2,2),(0,0))\n",
    "                                                                [[0,0,0]\n",
    "                                                                 [0,0,0]\n",
    "                                                                 [2,4,6]\n",
    "                                                                 [1,3,5]\n",
    "                                                                 [0,0,0]\n",
    "                                                                 [0,0,0]]\n",
    "```\n",
    "\n",
    "### More padding examples and their outputs\n",
    "```python\n",
    "\n",
    "x = [[1,2,3]\n",
    "     [4,5,6]]\n",
    "\n",
    "pad_width = (2) \n",
    "\n",
    "      [[0, 0, 0, 0, 0, 0, 0],            rows         columns\n",
    "       [0, 0, 0, 0, 0, 0, 0],\n",
    "       [0, 0, 1, 2, 3, 0, 0],       -> before_0 = 2, before_1 = 2        \n",
    "       [0, 0, 4, 5, 6, 0, 0],       -> after_0  = 2, after_1  = 2\n",
    "       [0, 0, 0, 0, 0, 0, 0],\n",
    "       [0, 0, 0, 0, 0, 0, 0]]\n",
    "  \n",
    "''' in plain text: \n",
    "        - add 2 rows of padding before and after\n",
    "        - add 2 columns of padding before and after.'''\n",
    "    \n",
    "    \n",
    "    \n",
    "pad_width = (2,0)\n",
    "\n",
    "      [[ ...  0, 0, 0],                  rows         columns\n",
    "       [ ...  0, 0, 0],             -> before_0 = 2, before_1 = 2\n",
    "       [0, 0, 1, 2, 3],             -> after_0  = 0, after_1  = 0\n",
    "       [0, 0, 4, 5, 6]]\n",
    "\n",
    "''' in plain text: \n",
    "        - add 2 rows of padding before\n",
    "        - add 2 columns of padding before.'''\n",
    "    \n",
    "pad_width = ((1,0),(4,2))\n",
    "\n",
    "      [[ .......... 0, 0, 0, 0, 0],      rows          columns\n",
    "       [0, 0, 0, 0, 1, 2, 3, 0, 0],  -> before_0 = 1, before_1 = 4\n",
    "       [0, 0, 0, 0, 4, 5, 6, 0, 0]]  -> after_0  = 0, after_1  = 2\n",
    "    \n",
    "''' in plain text: \n",
    "        - add 1 row of padding before\n",
    "        - add 4 columns of padding before and 2 columns after.'''\n",
    "```"
   ]
  },
  {
   "cell_type": "code",
   "execution_count": 28,
   "metadata": {},
   "outputs": [
    {
     "data": {
      "text/plain": [
       "array([[0, 0, 0, 1, 1, 1, 1, 1, 0],\n",
       "       [0, 0, 0, 1, 1, 1, 1, 1, 0]], dtype=int16)"
      ]
     },
     "execution_count": 28,
     "metadata": {},
     "output_type": "execute_result"
    }
   ],
   "source": [
    "\n",
    "np.pad(x, pad_width = ((0,0),(3,1)))"
   ]
  },
  {
   "cell_type": "code",
   "execution_count": 31,
   "metadata": {},
   "outputs": [
    {
     "data": {
      "text/plain": [
       "array([[0, 0, 0, 0, 0, 0, 0, 0, 0],\n",
       "       [0, 0, 0, 1, 1, 1, 1, 1, 0],\n",
       "       [0, 0, 0, 1, 1, 1, 1, 1, 0]], dtype=int16)"
      ]
     },
     "execution_count": 31,
     "metadata": {},
     "output_type": "execute_result"
    }
   ],
   "source": [
    "np.pad(x, pad_width = ((1,0),(3,1)))"
   ]
  },
  {
   "cell_type": "code",
   "execution_count": 60,
   "metadata": {},
   "outputs": [
    {
     "data": {
      "text/plain": [
       "array([[0, 0, 0, 0, 0, 0, 0, 0, 0],\n",
       "       [0, 0, 0, 0, 1, 2, 3, 0, 0],\n",
       "       [0, 0, 0, 0, 4, 5, 6, 0, 0]])"
      ]
     },
     "execution_count": 60,
     "metadata": {},
     "output_type": "execute_result"
    }
   ],
   "source": [
    "np.pad([[1,2,3],[4,5,6]],pad_width = ((1,0),(4,2)))"
   ]
  },
  {
   "cell_type": "code",
   "execution_count": 69,
   "metadata": {},
   "outputs": [
    {
     "name": "stdout",
     "output_type": "stream",
     "text": [
      "[1 2 3]\n",
      "(3,)\n",
      "[[1 2 3]]\n",
      "(1, 3)\n",
      "[[[1 2 3]]]\n",
      "(1, 1, 3)\n"
     ]
    }
   ],
   "source": [
    "x = np.array([1,2,3])\n",
    "print(x)\n",
    "print(x.shape)\n",
    "x = np.expand_dims(x,axis = 0)\n",
    "print(x)\n",
    "print(x.shape)\n",
    "x = np.expand_dims(x,axis = 0)\n",
    "print(x)\n",
    "print(x.shape)"
   ]
  },
  {
   "cell_type": "code",
   "execution_count": null,
   "metadata": {},
   "outputs": [],
   "source": []
  }
 ],
 "metadata": {
  "kernelspec": {
   "display_name": "Python 3",
   "language": "python",
   "name": "python3"
  },
  "language_info": {
   "codemirror_mode": {
    "name": "ipython",
    "version": 3
   },
   "file_extension": ".py",
   "mimetype": "text/x-python",
   "name": "python",
   "nbconvert_exporter": "python",
   "pygments_lexer": "ipython3",
   "version": "3.7.4"
  }
 },
 "nbformat": 4,
 "nbformat_minor": 4
}
