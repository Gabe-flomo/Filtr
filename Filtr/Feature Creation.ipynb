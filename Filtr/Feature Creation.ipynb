{
 "cells": [
  {
   "cell_type": "code",
   "execution_count": null,
   "source": [
    "import librosa\r\n",
    "import librosa.display\r\n",
    "import IPython.display as ipd\r\n",
    "import matplotlib.pyplot as plt\r\n",
    "import numpy as np\r\n",
    "from preprocessing import *"
   ],
   "outputs": [],
   "metadata": {}
  },
  {
   "cell_type": "code",
   "execution_count": null,
   "source": [
    "sr = 44100\r\n",
    "duration = 8\r\n",
    "mono = True\r\n",
    "# Tells us how many samples to capture in each frame\r\n",
    "frame_size = 2048\r\n",
    "# determines how many samples to shift to the right to capture a new frame\r\n",
    "hop = 512\r\n",
    "expected_samples = duration * sr"
   ],
   "outputs": [],
   "metadata": {}
  },
  {
   "cell_type": "code",
   "execution_count": null,
   "source": [
    "spectrograms_dir = r\"..\\Data\\audio_vectors\\features\\spectrograms\"\r\n",
    "min_max_dir = r\"..\\Data\\audio_vectors\\min_max_values\"\r\n",
    "dataset = r\"E:\\Sample library\\Mugg Essentials\\loops\"\r\n"
   ],
   "outputs": [],
   "metadata": {}
  }
 ],
 "metadata": {
  "language_info": {
   "name": "python"
  }
 },
 "nbformat": 4,
 "nbformat_minor": 2
}